{
 "cells": [
  {
   "cell_type": "markdown",
   "metadata": {
    "id": "8TrS005tL4IK"
   },
   "source": [
    "<H1>TP 1 - Analyse d'un jeu de données</H1>"
   ]
  },
  {
   "cell_type": "markdown",
   "metadata": {
    "id": "nSelmNSfL4IN"
   },
   "source": [
    "Nous allons dans ce TP analyser le jeu de données Titanic qui est très largement utilisé dans la communauté. Il concerne les informations concernant les personnes qui étaient à bord du Titanic.  \n",
    "Les différentes colonnes sont les suivantes :  \n",
    "    survival: Survival (0 = No; 1 = Yes)  \n",
    "    pclass: Passenger Class (1 = 1st; 2 = 2nd; 3 = 3rd)  \n",
    "    name: Name  \n",
    "    sex: Sex  \n",
    "    age: Age  \n",
    "    sibsp: Number of Siblings/Spouses Aboard  \n",
    "    parch: Number of Parents/Children Aboard  \n",
    "    ticket: Ticket Number  \n",
    "    fare: Passenger Fare  \n",
    "    cabin: Cabin  \n",
    "    embarked: Port of Embarkation (C = Cherbourg; Q = Queenstown; S = Southampton)  "
   ]
  },
  {
   "cell_type": "markdown",
   "metadata": {
    "id": "0ipZpM6RMEV7"
   },
   "source": [
    "## **Installation**\n"
   ]
  },
  {
   "cell_type": "markdown",
   "metadata": {
    "id": "y-Q8HasoMUjG"
   },
   "source": [
    "\n",
    "Avant de commencer, il est nécessaire de déjà posséder dans son environnement toutes les librairies utiles. Dans la seconde cellule nous importons toutes les librairies qui seront utiles à ce notebook. Il se peut que, lorsque vous lanciez l'éxecution de cette cellule, une soit absente. Dans ce cas il est nécessaire de l'installer. Pour cela dans la cellule suivante utiliser la commande :  \n",
    "\n",
    "*! pip install nom_librairie*  \n",
    "\n",
    "**Attention :** il est fortement conseillé lorsque l'une des librairies doit être installer de relancer le kernel de votre notebook.\n",
    "\n",
    "**Remarque :** même si toutes les librairies sont importées dès le début, les librairies utiles pour des fonctions présentées au cours de ce notebook sont ré-importées de manière à indiquer d'où elles viennent et ainsi faciliter la réutilisation de la fonction dans un autre projet."
   ]
  },
  {
   "cell_type": "code",
   "execution_count": null,
   "metadata": {
    "id": "Bw_tSSXWMa98"
   },
   "outputs": [
    {
     "name": "stdout",
     "output_type": "stream",
     "text": [
      "\u001b[33mWARNING: Ignoring invalid distribution -andas (/home/richard/anaconda3/lib/python3.9/site-packages)\u001b[0m\u001b[33m\n",
      "\u001b[0m\u001b[33mWARNING: Ignoring invalid distribution -andas (/home/richard/anaconda3/lib/python3.9/site-packages)\u001b[0m\u001b[33m\n",
      "\u001b[0mCollecting google-colab\n",
      "  Using cached google_colab-1.0.0-py2.py3-none-any.whl\n",
      "Requirement already satisfied: tornado~=4.5.0 in /home/richard/anaconda3/lib/python3.9/site-packages (from google-colab) (4.5.3)\n",
      "Requirement already satisfied: google-auth~=1.4.0 in /home/richard/anaconda3/lib/python3.9/site-packages (from google-colab) (1.4.2)\n",
      "Requirement already satisfied: six~=1.12.0 in /home/richard/anaconda3/lib/python3.9/site-packages (from google-colab) (1.12.0)\n",
      "Collecting pandas~=0.24.0\n",
      "  Using cached pandas-0.24.2.tar.gz (11.8 MB)\n",
      "  Preparing metadata (setup.py) ... \u001b[?25ldone\n",
      "\u001b[?25hRequirement already satisfied: requests~=2.21.0 in /home/richard/anaconda3/lib/python3.9/site-packages (from google-colab) (2.21.0)\n",
      "Collecting ipython~=5.5.0\n",
      "  Using cached ipython-5.5.0-py3-none-any.whl (758 kB)\n",
      "Collecting notebook~=5.2.0\n",
      "  Using cached notebook-5.2.2-py2.py3-none-any.whl (8.0 MB)\n",
      "Collecting ipykernel~=4.6.0\n",
      "  Using cached ipykernel-4.6.1-py3-none-any.whl (104 kB)\n",
      "Requirement already satisfied: portpicker~=1.2.0 in /home/richard/anaconda3/lib/python3.9/site-packages (from google-colab) (1.2.0)\n",
      "Requirement already satisfied: cachetools>=2.0.0 in /home/richard/anaconda3/lib/python3.9/site-packages (from google-auth~=1.4.0->google-colab) (5.3.0)\n",
      "Requirement already satisfied: pyasn1-modules>=0.2.1 in /home/richard/anaconda3/lib/python3.9/site-packages (from google-auth~=1.4.0->google-colab) (0.2.8)\n",
      "Requirement already satisfied: rsa>=3.1.4 in /home/richard/anaconda3/lib/python3.9/site-packages (from google-auth~=1.4.0->google-colab) (4.9)\n",
      "Requirement already satisfied: jupyter-client in /home/richard/anaconda3/lib/python3.9/site-packages (from ipykernel~=4.6.0->google-colab) (7.3.4)\n",
      "Requirement already satisfied: traitlets>=4.1.0 in /home/richard/anaconda3/lib/python3.9/site-packages (from ipykernel~=4.6.0->google-colab) (5.1.1)\n",
      "Requirement already satisfied: setuptools>=18.5 in /home/richard/anaconda3/lib/python3.9/site-packages (from ipython~=5.5.0->google-colab) (63.4.1)\n",
      "Requirement already satisfied: pygments in /home/richard/anaconda3/lib/python3.9/site-packages (from ipython~=5.5.0->google-colab) (2.11.2)\n",
      "Requirement already satisfied: decorator in /home/richard/anaconda3/lib/python3.9/site-packages (from ipython~=5.5.0->google-colab) (5.1.1)\n",
      "Requirement already satisfied: pexpect in /home/richard/anaconda3/lib/python3.9/site-packages (from ipython~=5.5.0->google-colab) (4.8.0)\n",
      "Requirement already satisfied: prompt-toolkit<2.0.0,>=1.0.4 in /home/richard/anaconda3/lib/python3.9/site-packages (from ipython~=5.5.0->google-colab) (1.0.18)\n",
      "Requirement already satisfied: simplegeneric>0.8 in /home/richard/anaconda3/lib/python3.9/site-packages (from ipython~=5.5.0->google-colab) (0.8.1)\n",
      "Requirement already satisfied: pickleshare in /home/richard/anaconda3/lib/python3.9/site-packages (from ipython~=5.5.0->google-colab) (0.7.5)\n",
      "Requirement already satisfied: nbconvert in /home/richard/anaconda3/lib/python3.9/site-packages (from notebook~=5.2.0->google-colab) (6.4.4)\n",
      "Requirement already satisfied: jinja2 in /home/richard/anaconda3/lib/python3.9/site-packages (from notebook~=5.2.0->google-colab) (2.11.3)\n",
      "Requirement already satisfied: ipython-genutils in /home/richard/anaconda3/lib/python3.9/site-packages (from notebook~=5.2.0->google-colab) (0.2.0)\n",
      "Requirement already satisfied: nbformat in /home/richard/anaconda3/lib/python3.9/site-packages (from notebook~=5.2.0->google-colab) (5.5.0)\n",
      "Requirement already satisfied: jupyter-core in /home/richard/anaconda3/lib/python3.9/site-packages (from notebook~=5.2.0->google-colab) (4.11.1)\n",
      "Requirement already satisfied: terminado>=0.3.3 in /home/richard/anaconda3/lib/python3.9/site-packages (from notebook~=5.2.0->google-colab) (0.13.1)\n",
      "Requirement already satisfied: python-dateutil>=2.5.0 in /home/richard/anaconda3/lib/python3.9/site-packages (from pandas~=0.24.0->google-colab) (2.8.2)\n",
      "Requirement already satisfied: pytz>=2011k in /home/richard/anaconda3/lib/python3.9/site-packages (from pandas~=0.24.0->google-colab) (2022.1)\n",
      "Requirement already satisfied: numpy>=1.12.0 in /home/richard/anaconda3/lib/python3.9/site-packages (from pandas~=0.24.0->google-colab) (1.21.5)\n",
      "Requirement already satisfied: chardet<3.1.0,>=3.0.2 in /home/richard/anaconda3/lib/python3.9/site-packages (from requests~=2.21.0->google-colab) (3.0.4)\n",
      "Requirement already satisfied: certifi>=2017.4.17 in /home/richard/anaconda3/lib/python3.9/site-packages (from requests~=2.21.0->google-colab) (2022.9.14)\n",
      "Requirement already satisfied: urllib3<1.25,>=1.21.1 in /home/richard/anaconda3/lib/python3.9/site-packages (from requests~=2.21.0->google-colab) (1.24.3)\n",
      "Requirement already satisfied: idna<2.9,>=2.5 in /home/richard/anaconda3/lib/python3.9/site-packages (from requests~=2.21.0->google-colab) (2.8)\n",
      "Requirement already satisfied: wcwidth in /home/richard/anaconda3/lib/python3.9/site-packages (from prompt-toolkit<2.0.0,>=1.0.4->ipython~=5.5.0->google-colab) (0.2.5)\n",
      "Requirement already satisfied: pyasn1<0.5.0,>=0.4.6 in /home/richard/anaconda3/lib/python3.9/site-packages (from pyasn1-modules>=0.2.1->google-auth~=1.4.0->google-colab) (0.4.8)\n",
      "Requirement already satisfied: ptyprocess in /home/richard/anaconda3/lib/python3.9/site-packages (from terminado>=0.3.3->notebook~=5.2.0->google-colab) (0.7.0)\n",
      "Requirement already satisfied: MarkupSafe>=0.23 in /home/richard/anaconda3/lib/python3.9/site-packages (from jinja2->notebook~=5.2.0->google-colab) (2.0.1)\n",
      "Requirement already satisfied: nest-asyncio>=1.5.4 in /home/richard/anaconda3/lib/python3.9/site-packages (from jupyter-client->ipykernel~=4.6.0->google-colab) (1.5.5)\n",
      "Requirement already satisfied: entrypoints in /home/richard/anaconda3/lib/python3.9/site-packages (from jupyter-client->ipykernel~=4.6.0->google-colab) (0.4)\n",
      "Requirement already satisfied: pyzmq>=23.0 in /home/richard/anaconda3/lib/python3.9/site-packages (from jupyter-client->ipykernel~=4.6.0->google-colab) (23.2.0)\n",
      "Collecting jupyter-client\n",
      "  Using cached jupyter_client-8.0.2-py3-none-any.whl (103 kB)\n",
      "Collecting jupyter-core\n",
      "  Downloading jupyter_core-5.2.0-py3-none-any.whl (94 kB)\n",
      "\u001b[2K     \u001b[38;2;114;156;31m━━━━━━━━━━━━━━━━━━━━━━━━━━━━━━━━━━━━━━━━\u001b[0m \u001b[32m94.3/94.3 kB\u001b[0m \u001b[31m2.6 MB/s\u001b[0m eta \u001b[36m0:00:00\u001b[0m\n",
      "\u001b[?25hCollecting traitlets>=4.1.0\n",
      "  Downloading traitlets-5.9.0-py3-none-any.whl (117 kB)\n",
      "\u001b[2K     \u001b[38;2;114;156;31m━━━━━━━━━━━━━━━━━━━━━━━━━━━━━━━━━━━━━━\u001b[0m \u001b[32m117.4/117.4 kB\u001b[0m \u001b[31m10.0 MB/s\u001b[0m eta \u001b[36m0:00:00\u001b[0m\n",
      "\u001b[?25hRequirement already satisfied: importlib-metadata>=4.8.3 in /home/richard/anaconda3/lib/python3.9/site-packages (from jupyter-client->ipykernel~=4.6.0->google-colab) (4.11.3)\n",
      "Collecting jupyter-client\n",
      "  Using cached jupyter_client-8.0.1-py3-none-any.whl (103 kB)\n",
      "  Using cached jupyter_client-8.0.0-py3-none-any.whl (103 kB)\n",
      "  Using cached jupyter_client-7.4.9-py3-none-any.whl (133 kB)\n",
      "  Using cached jupyter_client-7.4.8-py3-none-any.whl (133 kB)\n",
      "  Using cached jupyter_client-7.4.7-py3-none-any.whl (133 kB)\n",
      "  Using cached jupyter_client-7.4.6-py3-none-any.whl (133 kB)\n",
      "  Using cached jupyter_client-7.4.5-py3-none-any.whl (132 kB)\n",
      "  Using cached jupyter_client-7.4.4-py3-none-any.whl (132 kB)\n",
      "  Using cached jupyter_client-7.4.3-py3-none-any.whl (132 kB)\n",
      "  Using cached jupyter_client-7.4.2-py3-none-any.whl (132 kB)\n",
      "  Using cached jupyter_client-7.4.1-py3-none-any.whl (132 kB)\n",
      "  Using cached jupyter_client-7.4.0-py3-none-any.whl (132 kB)\n",
      "  Using cached jupyter_client-7.3.5-py3-none-any.whl (132 kB)\n",
      "  Using cached jupyter_client-7.3.3-py3-none-any.whl (131 kB)\n",
      "  Using cached jupyter_client-7.3.2-py3-none-any.whl (131 kB)\n",
      "  Using cached jupyter_client-7.3.1-py3-none-any.whl (130 kB)\n",
      "  Using cached jupyter_client-7.3.0-py3-none-any.whl (130 kB)\n",
      "  Using cached jupyter_client-7.2.2-py3-none-any.whl (130 kB)\n",
      "  Using cached jupyter_client-7.2.1-py3-none-any.whl (130 kB)\n",
      "  Using cached jupyter_client-7.2.0-py3-none-any.whl (130 kB)\n",
      "  Using cached jupyter_client-7.1.2-py3-none-any.whl (130 kB)\n"
     ]
    },
    {
     "name": "stdout",
     "output_type": "stream",
     "text": [
      "Requirement already satisfied: testpath in /home/richard/anaconda3/lib/python3.9/site-packages (from nbconvert->notebook~=5.2.0->google-colab) (0.6.0)\n",
      "Requirement already satisfied: bleach in /home/richard/anaconda3/lib/python3.9/site-packages (from nbconvert->notebook~=5.2.0->google-colab) (4.1.0)\n",
      "Requirement already satisfied: defusedxml in /home/richard/anaconda3/lib/python3.9/site-packages (from nbconvert->notebook~=5.2.0->google-colab) (0.7.1)\n",
      "Requirement already satisfied: pandocfilters>=1.4.1 in /home/richard/anaconda3/lib/python3.9/site-packages (from nbconvert->notebook~=5.2.0->google-colab) (1.5.0)\n",
      "Requirement already satisfied: beautifulsoup4 in /home/richard/anaconda3/lib/python3.9/site-packages (from nbconvert->notebook~=5.2.0->google-colab) (4.11.1)\n",
      "Requirement already satisfied: nbclient<0.6.0,>=0.5.0 in /home/richard/anaconda3/lib/python3.9/site-packages (from nbconvert->notebook~=5.2.0->google-colab) (0.5.13)\n",
      "Requirement already satisfied: mistune<2,>=0.8.1 in /home/richard/anaconda3/lib/python3.9/site-packages (from nbconvert->notebook~=5.2.0->google-colab) (0.8.4)\n",
      "Requirement already satisfied: jupyterlab-pygments in /home/richard/anaconda3/lib/python3.9/site-packages (from nbconvert->notebook~=5.2.0->google-colab) (0.1.2)\n",
      "Requirement already satisfied: jsonschema>=2.6 in /home/richard/anaconda3/lib/python3.9/site-packages (from nbformat->notebook~=5.2.0->google-colab) (4.16.0)\n",
      "Requirement already satisfied: fastjsonschema in /home/richard/anaconda3/lib/python3.9/site-packages (from nbformat->notebook~=5.2.0->google-colab) (2.16.2)\n",
      "Requirement already satisfied: pyrsistent!=0.17.0,!=0.17.1,!=0.17.2,>=0.14.0 in /home/richard/anaconda3/lib/python3.9/site-packages (from jsonschema>=2.6->nbformat->notebook~=5.2.0->google-colab) (0.18.0)\n",
      "Requirement already satisfied: attrs>=17.4.0 in /home/richard/anaconda3/lib/python3.9/site-packages (from jsonschema>=2.6->nbformat->notebook~=5.2.0->google-colab) (21.4.0)\n",
      "Requirement already satisfied: soupsieve>1.2 in /home/richard/anaconda3/lib/python3.9/site-packages (from beautifulsoup4->nbconvert->notebook~=5.2.0->google-colab) (2.3.1)\n",
      "Requirement already satisfied: webencodings in /home/richard/anaconda3/lib/python3.9/site-packages (from bleach->nbconvert->notebook~=5.2.0->google-colab) (0.5.1)\n",
      "Requirement already satisfied: packaging in /home/richard/anaconda3/lib/python3.9/site-packages (from bleach->nbconvert->notebook~=5.2.0->google-colab) (21.3)\n",
      "Requirement already satisfied: pyparsing!=3.0.5,>=2.0.2 in /home/richard/anaconda3/lib/python3.9/site-packages (from packaging->bleach->nbconvert->notebook~=5.2.0->google-colab) (3.0.9)\n",
      "Building wheels for collected packages: pandas\n",
      "  Building wheel for pandas (setup.py) ... \u001b[?25lerror\n",
      "  \u001b[1;31merror\u001b[0m: \u001b[1msubprocess-exited-with-error\u001b[0m\n",
      "  \n",
      "  \u001b[31m×\u001b[0m \u001b[32mpython setup.py bdist_wheel\u001b[0m did not run successfully.\n",
      "  \u001b[31m│\u001b[0m exit code: \u001b[1;36m1\u001b[0m\n",
      "  \u001b[31m╰─>\u001b[0m \u001b[31m[1079 lines of output]\u001b[0m\n",
      "  \u001b[31m   \u001b[0m /tmp/pip-install-i7tq_ok7/pandas_df5d84c136dd4472a04bfa839bfa0526/setup.py:50: DeprecationWarning: distutils Version classes are deprecated. Use packaging.version instead.\n",
      "  \u001b[31m   \u001b[0m   _CYTHON_INSTALLED = ver >= LooseVersion(min_cython_ver)\n",
      "  \u001b[31m   \u001b[0m running bdist_wheel\n",
      "  \u001b[31m   \u001b[0m running build\n",
      "  \u001b[31m   \u001b[0m running build_py\n",
      "  \u001b[31m   \u001b[0m creating build\n",
      "  \u001b[31m   \u001b[0m creating build/lib.linux-x86_64-cpython-39\n",
      "  \u001b[31m   \u001b[0m creating build/lib.linux-x86_64-cpython-39/pandas\n",
      "  \u001b[31m   \u001b[0m copying pandas/__init__.py -> build/lib.linux-x86_64-cpython-39/pandas\n",
      "  \u001b[31m   \u001b[0m copying pandas/_version.py -> build/lib.linux-x86_64-cpython-39/pandas\n",
      "  \u001b[31m   \u001b[0m copying pandas/conftest.py -> build/lib.linux-x86_64-cpython-39/pandas\n",
      "  \u001b[31m   \u001b[0m copying pandas/testing.py -> build/lib.linux-x86_64-cpython-39/pandas\n",
      "  \u001b[31m   \u001b[0m creating build/lib.linux-x86_64-cpython-39/pandas/tests\n",
      "  \u001b[31m   \u001b[0m copying pandas/tests/__init__.py -> build/lib.linux-x86_64-cpython-39/pandas/tests\n",
      "  \u001b[31m   \u001b[0m copying pandas/tests/test_common.py -> build/lib.linux-x86_64-cpython-39/pandas/tests\n",
      "  \u001b[31m   \u001b[0m copying pandas/tests/test_base.py -> build/lib.linux-x86_64-cpython-39/pandas/tests\n",
      "  \u001b[31m   \u001b[0m copying pandas/tests/test_config.py -> build/lib.linux-x86_64-cpython-39/pandas/tests\n",
      "  \u001b[31m   \u001b[0m copying pandas/tests/test_downstream.py -> build/lib.linux-x86_64-cpython-39/pandas/tests\n",
      "  \u001b[31m   \u001b[0m copying pandas/tests/test_expressions.py -> build/lib.linux-x86_64-cpython-39/pandas/tests\n",
      "  \u001b[31m   \u001b[0m copying pandas/tests/test_strings.py -> build/lib.linux-x86_64-cpython-39/pandas/tests\n",
      "  \u001b[31m   \u001b[0m copying pandas/tests/test_errors.py -> build/lib.linux-x86_64-cpython-39/pandas/tests\n",
      "  \u001b[31m   \u001b[0m copying pandas/tests/test_compat.py -> build/lib.linux-x86_64-cpython-39/pandas/tests\n",
      "  \u001b[31m   \u001b[0m copying pandas/tests/test_join.py -> build/lib.linux-x86_64-cpython-39/pandas/tests\n",
      "  \u001b[31m   \u001b[0m copying pandas/tests/test_algos.py -> build/lib.linux-x86_64-cpython-39/pandas/tests\n",
      "  \u001b[31m   \u001b[0m copying pandas/tests/test_take.py -> build/lib.linux-x86_64-cpython-39/pandas/tests\n",
      "  \u001b[31m   \u001b[0m copying pandas/tests/test_panel.py -> build/lib.linux-x86_64-cpython-39/pandas/tests\n",
      "  \u001b[31m   \u001b[0m copying pandas/tests/test_register_accessor.py -> build/lib.linux-x86_64-cpython-39/pandas/tests\n",
      "  \u001b[31m   \u001b[0m copying pandas/tests/test_sorting.py -> build/lib.linux-x86_64-cpython-39/pandas/tests\n",
      "  \u001b[31m   \u001b[0m copying pandas/tests/test_nanops.py -> build/lib.linux-x86_64-cpython-39/pandas/tests\n",
      "  \u001b[31m   \u001b[0m copying pandas/tests/test_lib.py -> build/lib.linux-x86_64-cpython-39/pandas/tests\n",
      "  \u001b[31m   \u001b[0m copying pandas/tests/test_window.py -> build/lib.linux-x86_64-cpython-39/pandas/tests\n",
      "  \u001b[31m   \u001b[0m copying pandas/tests/test_multilevel.py -> build/lib.linux-x86_64-cpython-39/pandas/tests\n",
      "  \u001b[31m   \u001b[0m creating build/lib.linux-x86_64-cpython-39/pandas/io\n",
      "  \u001b[31m   \u001b[0m copying pandas/io/sql.py -> build/lib.linux-x86_64-cpython-39/pandas/io\n",
      "  \u001b[31m   \u001b[0m copying pandas/io/__init__.py -> build/lib.linux-x86_64-cpython-39/pandas/io\n",
      "  \u001b[31m   \u001b[0m copying pandas/io/pytables.py -> build/lib.linux-x86_64-cpython-39/pandas/io\n",
      "  \u001b[31m   \u001b[0m copying pandas/io/clipboards.py -> build/lib.linux-x86_64-cpython-39/pandas/io\n",
      "  \u001b[31m   \u001b[0m copying pandas/io/s3.py -> build/lib.linux-x86_64-cpython-39/pandas/io\n",
      "  \u001b[31m   \u001b[0m copying pandas/io/common.py -> build/lib.linux-x86_64-cpython-39/pandas/io\n",
      "  \u001b[31m   \u001b[0m copying pandas/io/feather_format.py -> build/lib.linux-x86_64-cpython-39/pandas/io\n",
      "  \u001b[31m   \u001b[0m copying pandas/io/api.py -> build/lib.linux-x86_64-cpython-39/pandas/io\n",
      "  \u001b[31m   \u001b[0m copying pandas/io/excel.py -> build/lib.linux-x86_64-cpython-39/pandas/io\n",
      "  \u001b[31m   \u001b[0m copying pandas/io/gbq.py -> build/lib.linux-x86_64-cpython-39/pandas/io\n",
      "  \u001b[31m   \u001b[0m copying pandas/io/html.py -> build/lib.linux-x86_64-cpython-39/pandas/io\n",
      "  \u001b[31m   \u001b[0m copying pandas/io/packers.py -> build/lib.linux-x86_64-cpython-39/pandas/io\n",
      "  \u001b[31m   \u001b[0m copying pandas/io/parsers.py -> build/lib.linux-x86_64-cpython-39/pandas/io\n",
      "  \u001b[31m   \u001b[0m copying pandas/io/date_converters.py -> build/lib.linux-x86_64-cpython-39/pandas/io\n",
      "  \u001b[31m   \u001b[0m copying pandas/io/stata.py -> build/lib.linux-x86_64-cpython-39/pandas/io\n",
      "  \u001b[31m   \u001b[0m copying pandas/io/gcs.py -> build/lib.linux-x86_64-cpython-39/pandas/io\n",
      "  \u001b[31m   \u001b[0m copying pandas/io/pickle.py -> build/lib.linux-x86_64-cpython-39/pandas/io\n",
      "  \u001b[31m   \u001b[0m copying pandas/io/parquet.py -> build/lib.linux-x86_64-cpython-39/pandas/io\n",
      "  \u001b[31m   \u001b[0m creating build/lib.linux-x86_64-cpython-39/pandas/util\n",
      "  \u001b[31m   \u001b[0m copying pandas/util/__init__.py -> build/lib.linux-x86_64-cpython-39/pandas/util\n",
      "  \u001b[31m   \u001b[0m copying pandas/util/_exceptions.py -> build/lib.linux-x86_64-cpython-39/pandas/util\n",
      "  \u001b[31m   \u001b[0m copying pandas/util/_print_versions.py -> build/lib.linux-x86_64-cpython-39/pandas/util\n",
      "  \u001b[31m   \u001b[0m copying pandas/util/_decorators.py -> build/lib.linux-x86_64-cpython-39/pandas/util\n",
      "  \u001b[31m   \u001b[0m copying pandas/util/_test_decorators.py -> build/lib.linux-x86_64-cpython-39/pandas/util\n",
      "  \u001b[31m   \u001b[0m copying pandas/util/_doctools.py -> build/lib.linux-x86_64-cpython-39/pandas/util\n",
      "  \u001b[31m   \u001b[0m copying pandas/util/_tester.py -> build/lib.linux-x86_64-cpython-39/pandas/util\n",
      "  \u001b[31m   \u001b[0m copying pandas/util/_depr_module.py -> build/lib.linux-x86_64-cpython-39/pandas/util\n",
      "  \u001b[31m   \u001b[0m copying pandas/util/testing.py -> build/lib.linux-x86_64-cpython-39/pandas/util\n",
      "  \u001b[31m   \u001b[0m copying pandas/util/_validators.py -> build/lib.linux-x86_64-cpython-39/pandas/util\n",
      "  \u001b[31m   \u001b[0m creating build/lib.linux-x86_64-cpython-39/pandas/tseries\n",
      "  \u001b[31m   \u001b[0m copying pandas/tseries/__init__.py -> build/lib.linux-x86_64-cpython-39/pandas/tseries\n",
      "  \u001b[31m   \u001b[0m copying pandas/tseries/frequencies.py -> build/lib.linux-x86_64-cpython-39/pandas/tseries\n",
      "  \u001b[31m   \u001b[0m copying pandas/tseries/plotting.py -> build/lib.linux-x86_64-cpython-39/pandas/tseries\n",
      "  \u001b[31m   \u001b[0m copying pandas/tseries/api.py -> build/lib.linux-x86_64-cpython-39/pandas/tseries\n",
      "  \u001b[31m   \u001b[0m copying pandas/tseries/offsets.py -> build/lib.linux-x86_64-cpython-39/pandas/tseries\n",
      "  \u001b[31m   \u001b[0m copying pandas/tseries/converter.py -> build/lib.linux-x86_64-cpython-39/pandas/tseries\n",
      "  \u001b[31m   \u001b[0m copying pandas/tseries/holiday.py -> build/lib.linux-x86_64-cpython-39/pandas/tseries\n",
      "  \u001b[31m   \u001b[0m creating build/lib.linux-x86_64-cpython-39/pandas/arrays\n",
      "  \u001b[31m   \u001b[0m copying pandas/arrays/__init__.py -> build/lib.linux-x86_64-cpython-39/pandas/arrays\n",
      "  \u001b[31m   \u001b[0m creating build/lib.linux-x86_64-cpython-39/pandas/core\n",
      "  \u001b[31m   \u001b[0m copying pandas/core/__init__.py -> build/lib.linux-x86_64-cpython-39/pandas/core\n",
      "  \u001b[31m   \u001b[0m copying pandas/core/generic.py -> build/lib.linux-x86_64-cpython-39/pandas/core\n",
      "  \u001b[31m   \u001b[0m copying pandas/core/apply.py -> build/lib.linux-x86_64-cpython-39/pandas/core\n",
      "  \u001b[31m   \u001b[0m copying pandas/core/common.py -> build/lib.linux-x86_64-cpython-39/pandas/core\n",
      "  \u001b[31m   \u001b[0m copying pandas/core/categorical.py -> build/lib.linux-x86_64-cpython-39/pandas/core\n",
      "  \u001b[31m   \u001b[0m copying pandas/core/api.py -> build/lib.linux-x86_64-cpython-39/pandas/core\n",
      "  \u001b[31m   \u001b[0m copying pandas/core/resample.py -> build/lib.linux-x86_64-cpython-39/pandas/core\n",
      "  \u001b[31m   \u001b[0m copying pandas/core/panel.py -> build/lib.linux-x86_64-cpython-39/pandas/core\n",
      "  \u001b[31m   \u001b[0m copying pandas/core/missing.py -> build/lib.linux-x86_64-cpython-39/pandas/core\n",
      "  \u001b[31m   \u001b[0m copying pandas/core/series.py -> build/lib.linux-x86_64-cpython-39/pandas/core\n",
      "  \u001b[31m   \u001b[0m copying pandas/core/config_init.py -> build/lib.linux-x86_64-cpython-39/pandas/core\n",
      "  \u001b[31m   \u001b[0m copying pandas/core/accessor.py -> build/lib.linux-x86_64-cpython-39/pandas/core\n",
      "  \u001b[31m   \u001b[0m copying pandas/core/algorithms.py -> build/lib.linux-x86_64-cpython-39/pandas/core\n",
      "  \u001b[31m   \u001b[0m copying pandas/core/sorting.py -> build/lib.linux-x86_64-cpython-39/pandas/core\n",
      "  \u001b[31m   \u001b[0m copying pandas/core/window.py -> build/lib.linux-x86_64-cpython-39/pandas/core\n",
      "  \u001b[31m   \u001b[0m copying pandas/core/strings.py -> build/lib.linux-x86_64-cpython-39/pandas/core\n",
      "  \u001b[31m   \u001b[0m copying pandas/core/indexing.py -> build/lib.linux-x86_64-cpython-39/pandas/core\n",
      "  \u001b[31m   \u001b[0m copying pandas/core/index.py -> build/lib.linux-x86_64-cpython-39/pandas/core\n",
      "  \u001b[31m   \u001b[0m copying pandas/core/config.py -> build/lib.linux-x86_64-cpython-39/pandas/core\n",
      "  \u001b[31m   \u001b[0m copying pandas/core/base.py -> build/lib.linux-x86_64-cpython-39/pandas/core\n",
      "  \u001b[31m   \u001b[0m copying pandas/core/frame.py -> build/lib.linux-x86_64-cpython-39/pandas/core\n",
      "  \u001b[31m   \u001b[0m copying pandas/core/nanops.py -> build/lib.linux-x86_64-cpython-39/pandas/core\n",
      "  \u001b[31m   \u001b[0m copying pandas/core/ops.py -> build/lib.linux-x86_64-cpython-39/pandas/core\n",
      "  \u001b[31m   \u001b[0m creating build/lib.linux-x86_64-cpython-39/pandas/compat\n",
      "  \u001b[31m   \u001b[0m copying pandas/compat/__init__.py -> build/lib.linux-x86_64-cpython-39/pandas/compat\n",
      "  \u001b[31m   \u001b[0m copying pandas/compat/chainmap.py -> build/lib.linux-x86_64-cpython-39/pandas/compat\n",
      "  \u001b[31m   \u001b[0m copying pandas/compat/pickle_compat.py -> build/lib.linux-x86_64-cpython-39/pandas/compat\n",
      "  \u001b[31m   \u001b[0m copying pandas/compat/chainmap_impl.py -> build/lib.linux-x86_64-cpython-39/pandas/compat\n",
      "  \u001b[31m   \u001b[0m creating build/lib.linux-x86_64-cpython-39/pandas/api\n",
      "  \u001b[31m   \u001b[0m copying pandas/api/__init__.py -> build/lib.linux-x86_64-cpython-39/pandas/api\n",
      "  \u001b[31m   \u001b[0m creating build/lib.linux-x86_64-cpython-39/pandas/errors\n",
      "  \u001b[31m   \u001b[0m copying pandas/errors/__init__.py -> build/lib.linux-x86_64-cpython-39/pandas/errors\n",
      "  \u001b[31m   \u001b[0m creating build/lib.linux-x86_64-cpython-39/pandas/_libs\n",
      "  \u001b[31m   \u001b[0m copying pandas/_libs/__init__.py -> build/lib.linux-x86_64-cpython-39/pandas/_libs\n",
      "  \u001b[31m   \u001b[0m creating build/lib.linux-x86_64-cpython-39/pandas/plotting\n",
      "  \u001b[31m   \u001b[0m copying pandas/plotting/__init__.py -> build/lib.linux-x86_64-cpython-39/pandas/plotting\n",
      "  \u001b[31m   \u001b[0m copying pandas/plotting/_style.py -> build/lib.linux-x86_64-cpython-39/pandas/plotting\n",
      "  \u001b[31m   \u001b[0m copying pandas/plotting/_core.py -> build/lib.linux-x86_64-cpython-39/pandas/plotting\n",
      "  \u001b[31m   \u001b[0m copying pandas/plotting/_timeseries.py -> build/lib.linux-x86_64-cpython-39/pandas/plotting\n",
      "  \u001b[31m   \u001b[0m copying pandas/plotting/_misc.py -> build/lib.linux-x86_64-cpython-39/pandas/plotting\n",
      "  \u001b[31m   \u001b[0m copying pandas/plotting/_tools.py -> build/lib.linux-x86_64-cpython-39/pandas/plotting\n",
      "  \u001b[31m   \u001b[0m copying pandas/plotting/_converter.py -> build/lib.linux-x86_64-cpython-39/pandas/plotting\n",
      "  \u001b[31m   \u001b[0m copying pandas/plotting/_compat.py -> build/lib.linux-x86_64-cpython-39/pandas/plotting\n",
      "  \u001b[31m   \u001b[0m creating build/lib.linux-x86_64-cpython-39/pandas/tests/reshape\n",
      "  \u001b[31m   \u001b[0m copying pandas/tests/reshape/__init__.py -> build/lib.linux-x86_64-cpython-39/pandas/tests/reshape\n",
      "  \u001b[31m   \u001b[0m copying pandas/tests/reshape/test_concat.py -> build/lib.linux-x86_64-cpython-39/pandas/tests/reshape\n",
      "  \u001b[31m   \u001b[0m copying pandas/tests/reshape/test_union_categoricals.py -> build/lib.linux-x86_64-cpython-39/pandas/tests/reshape\n",
      "  \u001b[31m   \u001b[0m copying pandas/tests/reshape/test_pivot.py -> build/lib.linux-x86_64-cpython-39/pandas/tests/reshape\n",
      "  \u001b[31m   \u001b[0m copying pandas/tests/reshape/test_qcut.py -> build/lib.linux-x86_64-cpython-39/pandas/tests/reshape\n",
      "  \u001b[31m   \u001b[0m copying pandas/tests/reshape/test_reshape.py -> build/lib.linux-x86_64-cpython-39/pandas/tests/reshape\n",
      "  \u001b[31m   \u001b[0m copying pandas/tests/reshape/test_util.py -> build/lib.linux-x86_64-cpython-39/pandas/tests/reshape\n",
      "  \u001b[31m   \u001b[0m copying pandas/tests/reshape/test_cut.py -> build/lib.linux-x86_64-cpython-39/pandas/tests/reshape\n",
      "  \u001b[31m   \u001b[0m copying pandas/tests/reshape/test_melt.py -> build/lib.linux-x86_64-cpython-39/pandas/tests/reshape\n",
      "  \u001b[31m   \u001b[0m creating build/lib.linux-x86_64-cpython-39/pandas/tests/io\n",
      "  \u001b[31m   \u001b[0m copying pandas/tests/io/__init__.py -> build/lib.linux-x86_64-cpython-39/pandas/tests/io\n",
      "  \u001b[31m   \u001b[0m copying pandas/tests/io/test_common.py -> build/lib.linux-x86_64-cpython-39/pandas/tests/io\n",
      "  \u001b[31m   \u001b[0m copying pandas/tests/io/test_s3.py -> build/lib.linux-x86_64-cpython-39/pandas/tests/io\n",
      "  \u001b[31m   \u001b[0m copying pandas/tests/io/test_gbq.py -> build/lib.linux-x86_64-cpython-39/pandas/tests/io\n",
      "  \u001b[31m   \u001b[0m copying pandas/tests/io/test_html.py -> build/lib.linux-x86_64-cpython-39/pandas/tests/io\n",
      "  \u001b[31m   \u001b[0m copying pandas/tests/io/test_packers.py -> build/lib.linux-x86_64-cpython-39/pandas/tests/io\n",
      "  \u001b[31m   \u001b[0m copying pandas/tests/io/test_parquet.py -> build/lib.linux-x86_64-cpython-39/pandas/tests/io\n",
      "  \u001b[31m   \u001b[0m copying pandas/tests/io/generate_legacy_storage_files.py -> build/lib.linux-x86_64-cpython-39/pandas/tests/io\n",
      "  \u001b[31m   \u001b[0m copying pandas/tests/io/test_stata.py -> build/lib.linux-x86_64-cpython-39/pandas/tests/io\n",
      "  \u001b[31m   \u001b[0m copying pandas/tests/io/test_feather.py -> build/lib.linux-x86_64-cpython-39/pandas/tests/io\n",
      "  \u001b[31m   \u001b[0m copying pandas/tests/io/test_pickle.py -> build/lib.linux-x86_64-cpython-39/pandas/tests/io\n",
      "  \u001b[31m   \u001b[0m copying pandas/tests/io/test_date_converters.py -> build/lib.linux-x86_64-cpython-39/pandas/tests/io\n",
      "  \u001b[31m   \u001b[0m copying pandas/tests/io/test_gcs.py -> build/lib.linux-x86_64-cpython-39/pandas/tests/io\n",
      "  \u001b[31m   \u001b[0m copying pandas/tests/io/test_compression.py -> build/lib.linux-x86_64-cpython-39/pandas/tests/io\n",
      "  \u001b[31m   \u001b[0m copying pandas/tests/io/conftest.py -> build/lib.linux-x86_64-cpython-39/pandas/tests/io\n",
      "  \u001b[31m   \u001b[0m copying pandas/tests/io/test_clipboard.py -> build/lib.linux-x86_64-cpython-39/pandas/tests/io\n",
      "  \u001b[31m   \u001b[0m copying pandas/tests/io/test_sql.py -> build/lib.linux-x86_64-cpython-39/pandas/tests/io\n",
      "  \u001b[31m   \u001b[0m copying pandas/tests/io/test_pytables.py -> build/lib.linux-x86_64-cpython-39/pandas/tests/io\n",
      "  \u001b[31m   \u001b[0m copying pandas/tests/io/test_excel.py -> build/lib.linux-x86_64-cpython-39/pandas/tests/io\n",
      "  \u001b[31m   \u001b[0m creating build/lib.linux-x86_64-cpython-39/pandas/tests/util\n",
      "  \u001b[31m   \u001b[0m copying pandas/tests/util/test_validate_args_and_kwargs.py -> build/lib.linux-x86_64-cpython-39/pandas/tests/util\n",
      "  \u001b[31m   \u001b[0m copying pandas/tests/util/__init__.py -> build/lib.linux-x86_64-cpython-39/pandas/tests/util\n",
      "  \u001b[31m   \u001b[0m copying pandas/tests/util/test_safe_import.py -> build/lib.linux-x86_64-cpython-39/pandas/tests/util\n",
      "  \u001b[31m   \u001b[0m copying pandas/tests/util/test_assert_numpy_array_equal.py -> build/lib.linux-x86_64-cpython-39/pandas/tests/util\n",
      "  \u001b[31m   \u001b[0m copying pandas/tests/util/test_hashing.py -> build/lib.linux-x86_64-cpython-39/pandas/tests/util\n",
      "  \u001b[31m   \u001b[0m copying pandas/tests/util/test_deprecate.py -> build/lib.linux-x86_64-cpython-39/pandas/tests/util\n",
      "  \u001b[31m   \u001b[0m copying pandas/tests/util/test_move.py -> build/lib.linux-x86_64-cpython-39/pandas/tests/util\n",
      "  \u001b[31m   \u001b[0m copying pandas/tests/util/test_assert_frame_equal.py -> build/lib.linux-x86_64-cpython-39/pandas/tests/util\n",
      "  \u001b[31m   \u001b[0m copying pandas/tests/util/test_validate_kwargs.py -> build/lib.linux-x86_64-cpython-39/pandas/tests/util\n",
      "  \u001b[31m   \u001b[0m copying pandas/tests/util/test_assert_categorical_equal.py -> build/lib.linux-x86_64-cpython-39/pandas/tests/util\n",
      "  \u001b[31m   \u001b[0m copying pandas/tests/util/test_util.py -> build/lib.linux-x86_64-cpython-39/pandas/tests/util\n",
      "  \u001b[31m   \u001b[0m copying pandas/tests/util/test_validate_args.py -> build/lib.linux-x86_64-cpython-39/pandas/tests/util\n",
      "  \u001b[31m   \u001b[0m copying pandas/tests/util/test_deprecate_kwarg.py -> build/lib.linux-x86_64-cpython-39/pandas/tests/util\n",
      "  \u001b[31m   \u001b[0m copying pandas/tests/util/test_assert_index_equal.py -> build/lib.linux-x86_64-cpython-39/pandas/tests/util\n",
      "  \u001b[31m   \u001b[0m copying pandas/tests/util/test_assert_almost_equal.py -> build/lib.linux-x86_64-cpython-39/pandas/tests/util\n",
      "  \u001b[31m   \u001b[0m copying pandas/tests/util/conftest.py -> build/lib.linux-x86_64-cpython-39/pandas/tests/util\n",
      "  \u001b[31m   \u001b[0m copying pandas/tests/util/test_assert_interval_array_equal.py -> build/lib.linux-x86_64-cpython-39/pandas/tests/util\n",
      "  \u001b[31m   \u001b[0m copying pandas/tests/util/test_locale.py -> build/lib.linux-x86_64-cpython-39/pandas/tests/util\n",
      "  \u001b[31m   \u001b[0m copying pandas/tests/util/test_assert_extension_array_equal.py -> build/lib.linux-x86_64-cpython-39/pandas/tests/util\n",
      "  \u001b[31m   \u001b[0m copying pandas/tests/util/test_assert_series_equal.py -> build/lib.linux-x86_64-cpython-39/pandas/tests/util\n",
      "  \u001b[31m   \u001b[0m creating build/lib.linux-x86_64-cpython-39/pandas/tests/sparse\n",
      "  \u001b[31m   \u001b[0m copying pandas/tests/sparse/__init__.py -> build/lib.linux-x86_64-cpython-39/pandas/tests/sparse\n",
      "  \u001b[31m   \u001b[0m copying pandas/tests/sparse/test_groupby.py -> build/lib.linux-x86_64-cpython-39/pandas/tests/sparse\n",
      "  \u001b[31m   \u001b[0m copying pandas/tests/sparse/common.py -> build/lib.linux-x86_64-cpython-39/pandas/tests/sparse\n",
      "  \u001b[31m   \u001b[0m copying pandas/tests/sparse/test_indexing.py -> build/lib.linux-x86_64-cpython-39/pandas/tests/sparse\n",
      "  \u001b[31m   \u001b[0m copying pandas/tests/sparse/test_combine_concat.py -> build/lib.linux-x86_64-cpython-39/pandas/tests/sparse\n",
      "  \u001b[31m   \u001b[0m copying pandas/tests/sparse/test_pivot.py -> build/lib.linux-x86_64-cpython-39/pandas/tests/sparse\n",
      "  \u001b[31m   \u001b[0m copying pandas/tests/sparse/test_reshape.py -> build/lib.linux-x86_64-cpython-39/pandas/tests/sparse\n",
      "  \u001b[31m   \u001b[0m copying pandas/tests/sparse/test_format.py -> build/lib.linux-x86_64-cpython-39/pandas/tests/sparse\n",
      "  \u001b[31m   \u001b[0m creating build/lib.linux-x86_64-cpython-39/pandas/tests/scalar\n",
      "  \u001b[31m   \u001b[0m copying pandas/tests/scalar/__init__.py -> build/lib.linux-x86_64-cpython-39/pandas/tests/scalar\n",
      "  \u001b[31m   \u001b[0m copying pandas/tests/scalar/test_nat.py -> build/lib.linux-x86_64-cpython-39/pandas/tests/scalar\n",
      "  \u001b[31m   \u001b[0m creating build/lib.linux-x86_64-cpython-39/pandas/tests/tslibs\n",
      "  \u001b[31m   \u001b[0m copying pandas/tests/tslibs/__init__.py -> build/lib.linux-x86_64-cpython-39/pandas/tests/tslibs\n",
      "  \u001b[31m   \u001b[0m copying pandas/tests/tslibs/test_timezones.py -> build/lib.linux-x86_64-cpython-39/pandas/tests/tslibs\n",
      "  \u001b[31m   \u001b[0m copying pandas/tests/tslibs/test_period_asfreq.py -> build/lib.linux-x86_64-cpython-39/pandas/tests/tslibs\n",
      "  \u001b[31m   \u001b[0m copying pandas/tests/tslibs/test_timedeltas.py -> build/lib.linux-x86_64-cpython-39/pandas/tests/tslibs\n",
      "  \u001b[31m   \u001b[0m copying pandas/tests/tslibs/test_ccalendar.py -> build/lib.linux-x86_64-cpython-39/pandas/tests/tslibs\n",
      "  \u001b[31m   \u001b[0m copying pandas/tests/tslibs/test_normalize_date.py -> build/lib.linux-x86_64-cpython-39/pandas/tests/tslibs\n",
      "  \u001b[31m   \u001b[0m copying pandas/tests/tslibs/test_parsing.py -> build/lib.linux-x86_64-cpython-39/pandas/tests/tslibs\n",
      "  \u001b[31m   \u001b[0m copying pandas/tests/tslibs/test_api.py -> build/lib.linux-x86_64-cpython-39/pandas/tests/tslibs\n",
      "  \u001b[31m   \u001b[0m copying pandas/tests/tslibs/test_liboffsets.py -> build/lib.linux-x86_64-cpython-39/pandas/tests/tslibs\n",
      "  \u001b[31m   \u001b[0m copying pandas/tests/tslibs/test_parse_iso8601.py -> build/lib.linux-x86_64-cpython-39/pandas/tests/tslibs\n",
      "  \u001b[31m   \u001b[0m copying pandas/tests/tslibs/test_conversion.py -> build/lib.linux-x86_64-cpython-39/pandas/tests/tslibs\n",
      "  \u001b[31m   \u001b[0m copying pandas/tests/tslibs/test_libfrequencies.py -> build/lib.linux-x86_64-cpython-39/pandas/tests/tslibs\n",
      "  \u001b[31m   \u001b[0m copying pandas/tests/tslibs/test_array_to_datetime.py -> build/lib.linux-x86_64-cpython-39/pandas/tests/tslibs\n",
      "  \u001b[31m   \u001b[0m creating build/lib.linux-x86_64-cpython-39/pandas/tests/internals\n",
      "  \u001b[31m   \u001b[0m copying pandas/tests/internals/__init__.py -> build/lib.linux-x86_64-cpython-39/pandas/tests/internals\n",
      "  \u001b[31m   \u001b[0m copying pandas/tests/internals/test_internals.py -> build/lib.linux-x86_64-cpython-39/pandas/tests/internals\n",
      "  \u001b[31m   \u001b[0m creating build/lib.linux-x86_64-cpython-39/pandas/tests/indexes\n",
      "  \u001b[31m   \u001b[0m copying pandas/tests/indexes/__init__.py -> build/lib.linux-x86_64-cpython-39/pandas/tests/indexes\n",
      "  \u001b[31m   \u001b[0m copying pandas/tests/indexes/test_common.py -> build/lib.linux-x86_64-cpython-39/pandas/tests/indexes\n",
      "  \u001b[31m   \u001b[0m copying pandas/tests/indexes/test_base.py -> build/lib.linux-x86_64-cpython-39/pandas/tests/indexes\n",
      "  \u001b[31m   \u001b[0m copying pandas/tests/indexes/test_numeric.py -> build/lib.linux-x86_64-cpython-39/pandas/tests/indexes\n",
      "  \u001b[31m   \u001b[0m copying pandas/tests/indexes/datetimelike.py -> build/lib.linux-x86_64-cpython-39/pandas/tests/indexes\n",
      "  \u001b[31m   \u001b[0m copying pandas/tests/indexes/common.py -> build/lib.linux-x86_64-cpython-39/pandas/tests/indexes\n",
      "  \u001b[31m   \u001b[0m copying pandas/tests/indexes/test_range.py -> build/lib.linux-x86_64-cpython-39/pandas/tests/indexes\n",
      "  \u001b[31m   \u001b[0m copying pandas/tests/indexes/conftest.py -> build/lib.linux-x86_64-cpython-39/pandas/tests/indexes\n",
      "  \u001b[31m   \u001b[0m copying pandas/tests/indexes/test_frozen.py -> build/lib.linux-x86_64-cpython-39/pandas/tests/indexes\n",
      "  \u001b[31m   \u001b[0m copying pandas/tests/indexes/test_category.py -> build/lib.linux-x86_64-cpython-39/pandas/tests/indexes\n",
      "  \u001b[31m   \u001b[0m creating build/lib.linux-x86_64-cpython-39/pandas/tests/dtypes\n",
      "  \u001b[31m   \u001b[0m copying pandas/tests/dtypes/__init__.py -> build/lib.linux-x86_64-cpython-39/pandas/tests/dtypes\n",
      "  \u001b[31m   \u001b[0m copying pandas/tests/dtypes/test_common.py -> build/lib.linux-x86_64-cpython-39/pandas/tests/dtypes\n",
      "  \u001b[31m   \u001b[0m copying pandas/tests/dtypes/test_concat.py -> build/lib.linux-x86_64-cpython-39/pandas/tests/dtypes\n",
      "  \u001b[31m   \u001b[0m copying pandas/tests/dtypes/test_generic.py -> build/lib.linux-x86_64-cpython-39/pandas/tests/dtypes\n",
      "  \u001b[31m   \u001b[0m copying pandas/tests/dtypes/test_inference.py -> build/lib.linux-x86_64-cpython-39/pandas/tests/dtypes\n",
      "  \u001b[31m   \u001b[0m copying pandas/tests/dtypes/test_missing.py -> build/lib.linux-x86_64-cpython-39/pandas/tests/dtypes\n",
      "  \u001b[31m   \u001b[0m copying pandas/tests/dtypes/test_dtypes.py -> build/lib.linux-x86_64-cpython-39/pandas/tests/dtypes\n",
      "  \u001b[31m   \u001b[0m creating build/lib.linux-x86_64-cpython-39/pandas/tests/reductions\n",
      "  \u001b[31m   \u001b[0m copying pandas/tests/reductions/__init__.py -> build/lib.linux-x86_64-cpython-39/pandas/tests/reductions\n",
      "  \u001b[31m   \u001b[0m copying pandas/tests/reductions/test_reductions.py -> build/lib.linux-x86_64-cpython-39/pandas/tests/reductions\n",
      "  \u001b[31m   \u001b[0m copying pandas/tests/reductions/test_stat_reductions.py -> build/lib.linux-x86_64-cpython-39/pandas/tests/reductions\n",
      "  \u001b[31m   \u001b[0m creating build/lib.linux-x86_64-cpython-39/pandas/tests/computation\n",
      "  \u001b[31m   \u001b[0m copying pandas/tests/computation/__init__.py -> build/lib.linux-x86_64-cpython-39/pandas/tests/computation\n",
      "  \u001b[31m   \u001b[0m copying pandas/tests/computation/test_compat.py -> build/lib.linux-x86_64-cpython-39/pandas/tests/computation\n",
      "  \u001b[31m   \u001b[0m copying pandas/tests/computation/test_eval.py -> build/lib.linux-x86_64-cpython-39/pandas/tests/computation\n",
      "  \u001b[31m   \u001b[0m creating build/lib.linux-x86_64-cpython-39/pandas/tests/frame\n",
      "  \u001b[31m   \u001b[0m copying pandas/tests/frame/__init__.py -> build/lib.linux-x86_64-cpython-39/pandas/tests/frame\n",
      "  \u001b[31m   \u001b[0m copying pandas/tests/frame/test_analytics.py -> build/lib.linux-x86_64-cpython-39/pandas/tests/frame\n",
      "  \u001b[31m   \u001b[0m copying pandas/tests/frame/test_duplicates.py -> build/lib.linux-x86_64-cpython-39/pandas/tests/frame\n",
      "  \u001b[31m   \u001b[0m copying pandas/tests/frame/test_arithmetic.py -> build/lib.linux-x86_64-cpython-39/pandas/tests/frame\n",
      "  \u001b[31m   \u001b[0m copying pandas/tests/frame/test_timezones.py -> build/lib.linux-x86_64-cpython-39/pandas/tests/frame\n",
      "  \u001b[31m   \u001b[0m copying pandas/tests/frame/test_sort_values_level_as_str.py -> build/lib.linux-x86_64-cpython-39/pandas/tests/frame\n",
      "  \u001b[31m   \u001b[0m copying pandas/tests/frame/test_repr_info.py -> build/lib.linux-x86_64-cpython-39/pandas/tests/frame\n",
      "  \u001b[31m   \u001b[0m copying pandas/tests/frame/common.py -> build/lib.linux-x86_64-cpython-39/pandas/tests/frame\n",
      "  \u001b[31m   \u001b[0m copying pandas/tests/frame/test_join.py -> build/lib.linux-x86_64-cpython-39/pandas/tests/frame\n",
      "  \u001b[31m   \u001b[0m copying pandas/tests/frame/test_indexing.py -> build/lib.linux-x86_64-cpython-39/pandas/tests/frame\n",
      "  \u001b[31m   \u001b[0m copying pandas/tests/frame/test_subclass.py -> build/lib.linux-x86_64-cpython-39/pandas/tests/frame\n",
      "  \u001b[31m   \u001b[0m copying pandas/tests/frame/test_combine_concat.py -> build/lib.linux-x86_64-cpython-39/pandas/tests/frame\n",
      "  \u001b[31m   \u001b[0m copying pandas/tests/frame/test_nonunique_indexes.py -> build/lib.linux-x86_64-cpython-39/pandas/tests/frame\n",
      "  \u001b[31m   \u001b[0m copying pandas/tests/frame/test_to_csv.py -> build/lib.linux-x86_64-cpython-39/pandas/tests/frame\n",
      "  \u001b[31m   \u001b[0m copying pandas/tests/frame/test_rank.py -> build/lib.linux-x86_64-cpython-39/pandas/tests/frame\n",
      "  \u001b[31m   \u001b[0m copying pandas/tests/frame/test_sorting.py -> build/lib.linux-x86_64-cpython-39/pandas/tests/frame\n",
      "  \u001b[31m   \u001b[0m copying pandas/tests/frame/test_reshape.py -> build/lib.linux-x86_64-cpython-39/pandas/tests/frame\n",
      "  \u001b[31m   \u001b[0m copying pandas/tests/frame/test_axis_select_reindex.py -> build/lib.linux-x86_64-cpython-39/pandas/tests/frame\n",
      "  \u001b[31m   \u001b[0m copying pandas/tests/frame/test_convert_to.py -> build/lib.linux-x86_64-cpython-39/pandas/tests/frame\n",
      "  \u001b[31m   \u001b[0m copying pandas/tests/frame/test_validate.py -> build/lib.linux-x86_64-cpython-39/pandas/tests/frame\n",
      "  \u001b[31m   \u001b[0m copying pandas/tests/frame/test_mutate_columns.py -> build/lib.linux-x86_64-cpython-39/pandas/tests/frame\n",
      "  \u001b[31m   \u001b[0m copying pandas/tests/frame/test_api.py -> build/lib.linux-x86_64-cpython-39/pandas/tests/frame\n",
      "  \u001b[31m   \u001b[0m copying pandas/tests/frame/test_apply.py -> build/lib.linux-x86_64-cpython-39/pandas/tests/frame\n",
      "  \u001b[31m   \u001b[0m copying pandas/tests/frame/conftest.py -> build/lib.linux-x86_64-cpython-39/pandas/tests/frame\n",
      "  \u001b[31m   \u001b[0m copying pandas/tests/frame/test_period.py -> build/lib.linux-x86_64-cpython-39/pandas/tests/frame\n",
      "  \u001b[31m   \u001b[0m copying pandas/tests/frame/test_alter_axes.py -> build/lib.linux-x86_64-cpython-39/pandas/tests/frame\n",
      "  \u001b[31m   \u001b[0m copying pandas/tests/frame/test_query_eval.py -> build/lib.linux-x86_64-cpython-39/pandas/tests/frame\n",
      "  \u001b[31m   \u001b[0m copying pandas/tests/frame/test_replace.py -> build/lib.linux-x86_64-cpython-39/pandas/tests/frame\n",
      "  \u001b[31m   \u001b[0m copying pandas/tests/frame/test_quantile.py -> build/lib.linux-x86_64-cpython-39/pandas/tests/frame\n",
      "  \u001b[31m   \u001b[0m copying pandas/tests/frame/test_timeseries.py -> build/lib.linux-x86_64-cpython-39/pandas/tests/frame\n",
      "  \u001b[31m   \u001b[0m copying pandas/tests/frame/test_missing.py -> build/lib.linux-x86_64-cpython-39/pandas/tests/frame\n",
      "  \u001b[31m   \u001b[0m copying pandas/tests/frame/test_block_internals.py -> build/lib.linux-x86_64-cpython-39/pandas/tests/frame\n",
      "  \u001b[31m   \u001b[0m copying pandas/tests/frame/test_constructors.py -> build/lib.linux-x86_64-cpython-39/pandas/tests/frame\n",
      "  \u001b[31m   \u001b[0m copying pandas/tests/frame/test_dtypes.py -> build/lib.linux-x86_64-cpython-39/pandas/tests/frame\n",
      "  \u001b[31m   \u001b[0m copying pandas/tests/frame/test_operators.py -> build/lib.linux-x86_64-cpython-39/pandas/tests/frame\n",
      "  \u001b[31m   \u001b[0m copying pandas/tests/frame/test_asof.py -> build/lib.linux-x86_64-cpython-39/pandas/tests/frame\n",
      "  \u001b[31m   \u001b[0m creating build/lib.linux-x86_64-cpython-39/pandas/tests/tseries\n",
      "  \u001b[31m   \u001b[0m copying pandas/tests/tseries/__init__.py -> build/lib.linux-x86_64-cpython-39/pandas/tests/tseries\n",
      "  \u001b[31m   \u001b[0m copying pandas/tests/tseries/test_holiday.py -> build/lib.linux-x86_64-cpython-39/pandas/tests/tseries\n",
      "  \u001b[31m   \u001b[0m copying pandas/tests/tseries/test_frequencies.py -> build/lib.linux-x86_64-cpython-39/pandas/tests/tseries\n",
      "  \u001b[31m   \u001b[0m creating build/lib.linux-x86_64-cpython-39/pandas/tests/arrays\n",
      "  \u001b[31m   \u001b[0m copying pandas/tests/arrays/__init__.py -> build/lib.linux-x86_64-cpython-39/pandas/tests/arrays\n",
      "  \u001b[31m   \u001b[0m copying pandas/tests/arrays/test_timedeltas.py -> build/lib.linux-x86_64-cpython-39/pandas/tests/arrays\n",
      "  \u001b[31m   \u001b[0m copying pandas/tests/arrays/test_numpy.py -> build/lib.linux-x86_64-cpython-39/pandas/tests/arrays\n",
      "  \u001b[31m   \u001b[0m copying pandas/tests/arrays/test_integer.py -> build/lib.linux-x86_64-cpython-39/pandas/tests/arrays\n",
      "  \u001b[31m   \u001b[0m copying pandas/tests/arrays/test_array.py -> build/lib.linux-x86_64-cpython-39/pandas/tests/arrays\n",
      "  \u001b[31m   \u001b[0m copying pandas/tests/arrays/test_datetimelike.py -> build/lib.linux-x86_64-cpython-39/pandas/tests/arrays\n",
      "  \u001b[31m   \u001b[0m copying pandas/tests/arrays/test_period.py -> build/lib.linux-x86_64-cpython-39/pandas/tests/arrays\n",
      "  \u001b[31m   \u001b[0m copying pandas/tests/arrays/test_datetimes.py -> build/lib.linux-x86_64-cpython-39/pandas/tests/arrays\n",
      "  \u001b[31m   \u001b[0m creating build/lib.linux-x86_64-cpython-39/pandas/tests/series\n",
      "  \u001b[31m   \u001b[0m copying pandas/tests/series/__init__.py -> build/lib.linux-x86_64-cpython-39/pandas/tests/series\n",
      "  \u001b[31m   \u001b[0m copying pandas/tests/series/test_analytics.py -> build/lib.linux-x86_64-cpython-39/pandas/tests/series\n",
      "  \u001b[31m   \u001b[0m copying pandas/tests/series/test_datetime_values.py -> build/lib.linux-x86_64-cpython-39/pandas/tests/series\n",
      "  \u001b[31m   \u001b[0m copying pandas/tests/series/test_duplicates.py -> build/lib.linux-x86_64-cpython-39/pandas/tests/series\n",
      "  \u001b[31m   \u001b[0m copying pandas/tests/series/test_arithmetic.py -> build/lib.linux-x86_64-cpython-39/pandas/tests/series\n",
      "  \u001b[31m   \u001b[0m copying pandas/tests/series/test_timezones.py -> build/lib.linux-x86_64-cpython-39/pandas/tests/series\n",
      "  \u001b[31m   \u001b[0m copying pandas/tests/series/common.py -> build/lib.linux-x86_64-cpython-39/pandas/tests/series\n",
      "  \u001b[31m   \u001b[0m copying pandas/tests/series/test_internals.py -> build/lib.linux-x86_64-cpython-39/pandas/tests/series\n",
      "  \u001b[31m   \u001b[0m copying pandas/tests/series/test_io.py -> build/lib.linux-x86_64-cpython-39/pandas/tests/series\n",
      "  \u001b[31m   \u001b[0m copying pandas/tests/series/test_subclass.py -> build/lib.linux-x86_64-cpython-39/pandas/tests/series\n",
      "  \u001b[31m   \u001b[0m copying pandas/tests/series/test_combine_concat.py -> build/lib.linux-x86_64-cpython-39/pandas/tests/series\n",
      "  \u001b[31m   \u001b[0m copying pandas/tests/series/test_rank.py -> build/lib.linux-x86_64-cpython-39/pandas/tests/series\n",
      "  \u001b[31m   \u001b[0m copying pandas/tests/series/test_sorting.py -> build/lib.linux-x86_64-cpython-39/pandas/tests/series\n",
      "  \u001b[31m   \u001b[0m copying pandas/tests/series/test_validate.py -> build/lib.linux-x86_64-cpython-39/pandas/tests/series\n",
      "  \u001b[31m   \u001b[0m copying pandas/tests/series/test_api.py -> build/lib.linux-x86_64-cpython-39/pandas/tests/series\n",
      "  \u001b[31m   \u001b[0m copying pandas/tests/series/test_apply.py -> build/lib.linux-x86_64-cpython-39/pandas/tests/series\n",
      "  \u001b[31m   \u001b[0m copying pandas/tests/series/conftest.py -> build/lib.linux-x86_64-cpython-39/pandas/tests/series\n",
      "  \u001b[31m   \u001b[0m copying pandas/tests/series/test_period.py -> build/lib.linux-x86_64-cpython-39/pandas/tests/series\n",
      "  \u001b[31m   \u001b[0m copying pandas/tests/series/test_alter_axes.py -> build/lib.linux-x86_64-cpython-39/pandas/tests/series\n",
      "  \u001b[31m   \u001b[0m copying pandas/tests/series/test_replace.py -> build/lib.linux-x86_64-cpython-39/pandas/tests/series\n",
      "  \u001b[31m   \u001b[0m copying pandas/tests/series/test_quantile.py -> build/lib.linux-x86_64-cpython-39/pandas/tests/series\n",
      "  \u001b[31m   \u001b[0m copying pandas/tests/series/test_timeseries.py -> build/lib.linux-x86_64-cpython-39/pandas/tests/series\n",
      "  \u001b[31m   \u001b[0m copying pandas/tests/series/test_missing.py -> build/lib.linux-x86_64-cpython-39/pandas/tests/series\n",
      "  \u001b[31m   \u001b[0m copying pandas/tests/series/test_repr.py -> build/lib.linux-x86_64-cpython-39/pandas/tests/series\n",
      "  \u001b[31m   \u001b[0m copying pandas/tests/series/test_block_internals.py -> build/lib.linux-x86_64-cpython-39/pandas/tests/series\n",
      "  \u001b[31m   \u001b[0m copying pandas/tests/series/test_constructors.py -> build/lib.linux-x86_64-cpython-39/pandas/tests/series\n",
      "  \u001b[31m   \u001b[0m copying pandas/tests/series/test_dtypes.py -> build/lib.linux-x86_64-cpython-39/pandas/tests/series\n",
      "  \u001b[31m   \u001b[0m copying pandas/tests/series/test_operators.py -> build/lib.linux-x86_64-cpython-39/pandas/tests/series\n",
      "  \u001b[31m   \u001b[0m copying pandas/tests/series/test_asof.py -> build/lib.linux-x86_64-cpython-39/pandas/tests/series\n",
      "  \u001b[31m   \u001b[0m creating build/lib.linux-x86_64-cpython-39/pandas/tests/generic\n",
      "  \u001b[31m   \u001b[0m copying pandas/tests/generic/__init__.py -> build/lib.linux-x86_64-cpython-39/pandas/tests/generic\n",
      "  \u001b[31m   \u001b[0m copying pandas/tests/generic/test_series.py -> build/lib.linux-x86_64-cpython-39/pandas/tests/generic\n",
      "  \u001b[31m   \u001b[0m copying pandas/tests/generic/test_generic.py -> build/lib.linux-x86_64-cpython-39/pandas/tests/generic\n",
      "  \u001b[31m   \u001b[0m copying pandas/tests/generic/test_frame.py -> build/lib.linux-x86_64-cpython-39/pandas/tests/generic\n",
      "  \u001b[31m   \u001b[0m copying pandas/tests/generic/test_panel.py -> build/lib.linux-x86_64-cpython-39/pandas/tests/generic\n",
      "  \u001b[31m   \u001b[0m copying pandas/tests/generic/test_label_or_level_utils.py -> build/lib.linux-x86_64-cpython-39/pandas/tests/generic\n",
      "  \u001b[31m   \u001b[0m creating build/lib.linux-x86_64-cpython-39/pandas/tests/api\n",
      "  \u001b[31m   \u001b[0m copying pandas/tests/api/__init__.py -> build/lib.linux-x86_64-cpython-39/pandas/tests/api\n",
      "  \u001b[31m   \u001b[0m copying pandas/tests/api/test_types.py -> build/lib.linux-x86_64-cpython-39/pandas/tests/api\n",
      "  \u001b[31m   \u001b[0m copying pandas/tests/api/test_api.py -> build/lib.linux-x86_64-cpython-39/pandas/tests/api\n",
      "  \u001b[31m   \u001b[0m creating build/lib.linux-x86_64-cpython-39/pandas/tests/extension\n",
      "  \u001b[31m   \u001b[0m copying pandas/tests/extension/__init__.py -> build/lib.linux-x86_64-cpython-39/pandas/tests/extension\n",
      "  \u001b[31m   \u001b[0m copying pandas/tests/extension/test_common.py -> build/lib.linux-x86_64-cpython-39/pandas/tests/extension\n",
      "  \u001b[31m   \u001b[0m copying pandas/tests/extension/test_external_block.py -> build/lib.linux-x86_64-cpython-39/pandas/tests/extension\n",
      "  \u001b[31m   \u001b[0m copying pandas/tests/extension/test_sparse.py -> build/lib.linux-x86_64-cpython-39/pandas/tests/extension\n",
      "  \u001b[31m   \u001b[0m copying pandas/tests/extension/test_interval.py -> build/lib.linux-x86_64-cpython-39/pandas/tests/extension\n",
      "  \u001b[31m   \u001b[0m copying pandas/tests/extension/test_integer.py -> build/lib.linux-x86_64-cpython-39/pandas/tests/extension\n",
      "  \u001b[31m   \u001b[0m copying pandas/tests/extension/test_categorical.py -> build/lib.linux-x86_64-cpython-39/pandas/tests/extension\n",
      "  \u001b[31m   \u001b[0m copying pandas/tests/extension/conftest.py -> build/lib.linux-x86_64-cpython-39/pandas/tests/extension\n",
      "  \u001b[31m   \u001b[0m copying pandas/tests/extension/test_period.py -> build/lib.linux-x86_64-cpython-39/pandas/tests/extension\n",
      "  \u001b[31m   \u001b[0m copying pandas/tests/extension/test_datetime.py -> build/lib.linux-x86_64-cpython-39/pandas/tests/extension\n",
      "  \u001b[31m   \u001b[0m creating build/lib.linux-x86_64-cpython-39/pandas/tests/arithmetic\n",
      "  \u001b[31m   \u001b[0m copying pandas/tests/arithmetic/__init__.py -> build/lib.linux-x86_64-cpython-39/pandas/tests/arithmetic\n",
      "  \u001b[31m   \u001b[0m copying pandas/tests/arithmetic/test_numeric.py -> build/lib.linux-x86_64-cpython-39/pandas/tests/arithmetic\n",
      "  \u001b[31m   \u001b[0m copying pandas/tests/arithmetic/test_timedelta64.py -> build/lib.linux-x86_64-cpython-39/pandas/tests/arithmetic\n",
      "  \u001b[31m   \u001b[0m copying pandas/tests/arithmetic/test_object.py -> build/lib.linux-x86_64-cpython-39/pandas/tests/arithmetic\n",
      "  \u001b[31m   \u001b[0m copying pandas/tests/arithmetic/test_datetime64.py -> build/lib.linux-x86_64-cpython-39/pandas/tests/arithmetic\n",
      "  \u001b[31m   \u001b[0m copying pandas/tests/arithmetic/conftest.py -> build/lib.linux-x86_64-cpython-39/pandas/tests/arithmetic\n",
      "  \u001b[31m   \u001b[0m copying pandas/tests/arithmetic/test_period.py -> build/lib.linux-x86_64-cpython-39/pandas/tests/arithmetic\n",
      "  \u001b[31m   \u001b[0m creating build/lib.linux-x86_64-cpython-39/pandas/tests/resample\n",
      "  \u001b[31m   \u001b[0m copying pandas/tests/resample/__init__.py -> build/lib.linux-x86_64-cpython-39/pandas/tests/resample\n",
      "  \u001b[31m   \u001b[0m copying pandas/tests/resample/test_base.py -> build/lib.linux-x86_64-cpython-39/pandas/tests/resample\n",
      "  \u001b[31m   \u001b[0m copying pandas/tests/resample/test_time_grouper.py -> build/lib.linux-x86_64-cpython-39/pandas/tests/resample\n",
      "  \u001b[31m   \u001b[0m copying pandas/tests/resample/test_timedelta.py -> build/lib.linux-x86_64-cpython-39/pandas/tests/resample\n",
      "  \u001b[31m   \u001b[0m copying pandas/tests/resample/test_resample_api.py -> build/lib.linux-x86_64-cpython-39/pandas/tests/resample\n",
      "  \u001b[31m   \u001b[0m copying pandas/tests/resample/test_resampler_grouper.py -> build/lib.linux-x86_64-cpython-39/pandas/tests/resample\n",
      "  \u001b[31m   \u001b[0m copying pandas/tests/resample/conftest.py -> build/lib.linux-x86_64-cpython-39/pandas/tests/resample\n",
      "  \u001b[31m   \u001b[0m copying pandas/tests/resample/test_period_index.py -> build/lib.linux-x86_64-cpython-39/pandas/tests/resample\n",
      "  \u001b[31m   \u001b[0m copying pandas/tests/resample/test_datetime_index.py -> build/lib.linux-x86_64-cpython-39/pandas/tests/resample\n",
      "  \u001b[31m   \u001b[0m creating build/lib.linux-x86_64-cpython-39/pandas/tests/indexing\n",
      "  \u001b[31m   \u001b[0m copying pandas/tests/indexing/__init__.py -> build/lib.linux-x86_64-cpython-39/pandas/tests/indexing\n",
      "  \u001b[31m   \u001b[0m copying pandas/tests/indexing/test_callable.py -> build/lib.linux-x86_64-cpython-39/pandas/tests/indexing\n",
      "  \u001b[31m   \u001b[0m copying pandas/tests/indexing/test_loc.py -> build/lib.linux-x86_64-cpython-39/pandas/tests/indexing\n",
      "  \u001b[31m   \u001b[0m copying pandas/tests/indexing/test_scalar.py -> build/lib.linux-x86_64-cpython-39/pandas/tests/indexing\n",
      "  \u001b[31m   \u001b[0m copying pandas/tests/indexing/test_indexing_engines.py -> build/lib.linux-x86_64-cpython-39/pandas/tests/indexing\n",
      "  \u001b[31m   \u001b[0m copying pandas/tests/indexing/test_iloc.py -> build/lib.linux-x86_64-cpython-39/pandas/tests/indexing\n",
      "  \u001b[31m   \u001b[0m copying pandas/tests/indexing/common.py -> build/lib.linux-x86_64-cpython-39/pandas/tests/indexing\n",
      "  \u001b[31m   \u001b[0m copying pandas/tests/indexing/test_timedelta.py -> build/lib.linux-x86_64-cpython-39/pandas/tests/indexing\n",
      "  \u001b[31m   \u001b[0m copying pandas/tests/indexing/test_indexing.py -> build/lib.linux-x86_64-cpython-39/pandas/tests/indexing\n",
      "  \u001b[31m   \u001b[0m copying pandas/tests/indexing/test_partial.py -> build/lib.linux-x86_64-cpython-39/pandas/tests/indexing\n",
      "  \u001b[31m   \u001b[0m copying pandas/tests/indexing/test_ix.py -> build/lib.linux-x86_64-cpython-39/pandas/tests/indexing\n",
      "  \u001b[31m   \u001b[0m copying pandas/tests/indexing/test_panel.py -> build/lib.linux-x86_64-cpython-39/pandas/tests/indexing\n",
      "  \u001b[31m   \u001b[0m copying pandas/tests/indexing/test_categorical.py -> build/lib.linux-x86_64-cpython-39/pandas/tests/indexing\n",
      "  \u001b[31m   \u001b[0m copying pandas/tests/indexing/test_floats.py -> build/lib.linux-x86_64-cpython-39/pandas/tests/indexing\n",
      "  \u001b[31m   \u001b[0m copying pandas/tests/indexing/conftest.py -> build/lib.linux-x86_64-cpython-39/pandas/tests/indexing\n",
      "  \u001b[31m   \u001b[0m copying pandas/tests/indexing/test_coercion.py -> build/lib.linux-x86_64-cpython-39/pandas/tests/indexing\n",
      "  \u001b[31m   \u001b[0m copying pandas/tests/indexing/test_chaining_and_caching.py -> build/lib.linux-x86_64-cpython-39/pandas/tests/indexing\n",
      "  \u001b[31m   \u001b[0m copying pandas/tests/indexing/test_indexing_slow.py -> build/lib.linux-x86_64-cpython-39/pandas/tests/indexing\n",
      "  \u001b[31m   \u001b[0m copying pandas/tests/indexing/test_datetime.py -> build/lib.linux-x86_64-cpython-39/pandas/tests/indexing\n",
      "  \u001b[31m   \u001b[0m creating build/lib.linux-x86_64-cpython-39/pandas/tests/groupby\n",
      "  \u001b[31m   \u001b[0m copying pandas/tests/groupby/__init__.py -> build/lib.linux-x86_64-cpython-39/pandas/tests/groupby\n",
      "  \u001b[31m   \u001b[0m copying pandas/tests/groupby/test_counting.py -> build/lib.linux-x86_64-cpython-39/pandas/tests/groupby\n",
      "  \u001b[31m   \u001b[0m copying pandas/tests/groupby/test_transform.py -> build/lib.linux-x86_64-cpython-39/pandas/tests/groupby\n",
      "  \u001b[31m   \u001b[0m copying pandas/tests/groupby/test_groupby.py -> build/lib.linux-x86_64-cpython-39/pandas/tests/groupby\n",
      "  \u001b[31m   \u001b[0m copying pandas/tests/groupby/test_function.py -> build/lib.linux-x86_64-cpython-39/pandas/tests/groupby\n",
      "  \u001b[31m   \u001b[0m copying pandas/tests/groupby/test_filters.py -> build/lib.linux-x86_64-cpython-39/pandas/tests/groupby\n",
      "  \u001b[31m   \u001b[0m copying pandas/tests/groupby/test_index_as_string.py -> build/lib.linux-x86_64-cpython-39/pandas/tests/groupby\n",
      "  \u001b[31m   \u001b[0m copying pandas/tests/groupby/test_bin_groupby.py -> build/lib.linux-x86_64-cpython-39/pandas/tests/groupby\n",
      "  \u001b[31m   \u001b[0m copying pandas/tests/groupby/test_rank.py -> build/lib.linux-x86_64-cpython-39/pandas/tests/groupby\n",
      "  \u001b[31m   \u001b[0m copying pandas/tests/groupby/test_grouping.py -> build/lib.linux-x86_64-cpython-39/pandas/tests/groupby\n",
      "  \u001b[31m   \u001b[0m copying pandas/tests/groupby/test_categorical.py -> build/lib.linux-x86_64-cpython-39/pandas/tests/groupby\n",
      "  \u001b[31m   \u001b[0m copying pandas/tests/groupby/test_whitelist.py -> build/lib.linux-x86_64-cpython-39/pandas/tests/groupby\n",
      "  \u001b[31m   \u001b[0m copying pandas/tests/groupby/test_value_counts.py -> build/lib.linux-x86_64-cpython-39/pandas/tests/groupby\n",
      "  \u001b[31m   \u001b[0m copying pandas/tests/groupby/test_apply.py -> build/lib.linux-x86_64-cpython-39/pandas/tests/groupby\n",
      "  \u001b[31m   \u001b[0m copying pandas/tests/groupby/conftest.py -> build/lib.linux-x86_64-cpython-39/pandas/tests/groupby\n",
      "  \u001b[31m   \u001b[0m copying pandas/tests/groupby/test_timegrouper.py -> build/lib.linux-x86_64-cpython-39/pandas/tests/groupby\n",
      "  \u001b[31m   \u001b[0m copying pandas/tests/groupby/test_nth.py -> build/lib.linux-x86_64-cpython-39/pandas/tests/groupby\n",
      "  \u001b[31m   \u001b[0m creating build/lib.linux-x86_64-cpython-39/pandas/tests/plotting\n",
      "  \u001b[31m   \u001b[0m copying pandas/tests/plotting/__init__.py -> build/lib.linux-x86_64-cpython-39/pandas/tests/plotting\n",
      "  \u001b[31m   \u001b[0m copying pandas/tests/plotting/test_groupby.py -> build/lib.linux-x86_64-cpython-39/pandas/tests/plotting\n",
      "  \u001b[31m   \u001b[0m copying pandas/tests/plotting/test_hist_method.py -> build/lib.linux-x86_64-cpython-39/pandas/tests/plotting\n",
      "  \u001b[31m   \u001b[0m copying pandas/tests/plotting/test_series.py -> build/lib.linux-x86_64-cpython-39/pandas/tests/plotting\n",
      "  \u001b[31m   \u001b[0m copying pandas/tests/plotting/common.py -> build/lib.linux-x86_64-cpython-39/pandas/tests/plotting\n",
      "  \u001b[31m   \u001b[0m copying pandas/tests/plotting/test_misc.py -> build/lib.linux-x86_64-cpython-39/pandas/tests/plotting\n",
      "  \u001b[31m   \u001b[0m copying pandas/tests/plotting/test_frame.py -> build/lib.linux-x86_64-cpython-39/pandas/tests/plotting\n",
      "  \u001b[31m   \u001b[0m copying pandas/tests/plotting/test_datetimelike.py -> build/lib.linux-x86_64-cpython-39/pandas/tests/plotting\n",
      "  \u001b[31m   \u001b[0m copying pandas/tests/plotting/test_boxplot_method.py -> build/lib.linux-x86_64-cpython-39/pandas/tests/plotting\n",
      "  \u001b[31m   \u001b[0m copying pandas/tests/plotting/test_converter.py -> build/lib.linux-x86_64-cpython-39/pandas/tests/plotting\n",
      "  \u001b[31m   \u001b[0m creating build/lib.linux-x86_64-cpython-39/pandas/tests/tools\n",
      "  \u001b[31m   \u001b[0m copying pandas/tests/tools/__init__.py -> build/lib.linux-x86_64-cpython-39/pandas/tests/tools\n",
      "  \u001b[31m   \u001b[0m copying pandas/tests/tools/test_numeric.py -> build/lib.linux-x86_64-cpython-39/pandas/tests/tools\n",
      "  \u001b[31m   \u001b[0m creating build/lib.linux-x86_64-cpython-39/pandas/tests/reshape/merge\n",
      "  \u001b[31m   \u001b[0m copying pandas/tests/reshape/merge/__init__.py -> build/lib.linux-x86_64-cpython-39/pandas/tests/reshape/merge\n",
      "  \u001b[31m   \u001b[0m copying pandas/tests/reshape/merge/test_merge.py -> build/lib.linux-x86_64-cpython-39/pandas/tests/reshape/merge\n",
      "  \u001b[31m   \u001b[0m copying pandas/tests/reshape/merge/test_merge_asof.py -> build/lib.linux-x86_64-cpython-39/pandas/tests/reshape/merge\n",
      "  \u001b[31m   \u001b[0m copying pandas/tests/reshape/merge/test_join.py -> build/lib.linux-x86_64-cpython-39/pandas/tests/reshape/merge\n",
      "  \u001b[31m   \u001b[0m copying pandas/tests/reshape/merge/test_multi.py -> build/lib.linux-x86_64-cpython-39/pandas/tests/reshape/merge\n",
      "  \u001b[31m   \u001b[0m copying pandas/tests/reshape/merge/test_merge_ordered.py -> build/lib.linux-x86_64-cpython-39/pandas/tests/reshape/merge\n",
      "  \u001b[31m   \u001b[0m copying pandas/tests/reshape/merge/test_merge_index_as_string.py -> build/lib.linux-x86_64-cpython-39/pandas/tests/reshape/merge\n",
      "  \u001b[31m   \u001b[0m creating build/lib.linux-x86_64-cpython-39/pandas/tests/io/msgpack\n",
      "  \u001b[31m   \u001b[0m copying pandas/tests/io/msgpack/__init__.py -> build/lib.linux-x86_64-cpython-39/pandas/tests/io/msgpack\n",
      "  \u001b[31m   \u001b[0m copying pandas/tests/io/msgpack/test_limits.py -> build/lib.linux-x86_64-cpython-39/pandas/tests/io/msgpack\n",
      "  \u001b[31m   \u001b[0m copying pandas/tests/io/msgpack/test_seq.py -> build/lib.linux-x86_64-cpython-39/pandas/tests/io/msgpack\n",
      "  \u001b[31m   \u001b[0m copying pandas/tests/io/msgpack/test_unpack_raw.py -> build/lib.linux-x86_64-cpython-39/pandas/tests/io/msgpack\n",
      "  \u001b[31m   \u001b[0m copying pandas/tests/io/msgpack/test_except.py -> build/lib.linux-x86_64-cpython-39/pandas/tests/io/msgpack\n",
      "  \u001b[31m   \u001b[0m copying pandas/tests/io/msgpack/test_read_size.py -> build/lib.linux-x86_64-cpython-39/pandas/tests/io/msgpack\n",
      "  \u001b[31m   \u001b[0m copying pandas/tests/io/msgpack/common.py -> build/lib.linux-x86_64-cpython-39/pandas/tests/io/msgpack\n",
      "  \u001b[31m   \u001b[0m copying pandas/tests/io/msgpack/test_newspec.py -> build/lib.linux-x86_64-cpython-39/pandas/tests/io/msgpack\n",
      "  \u001b[31m   \u001b[0m copying pandas/tests/io/msgpack/test_obj.py -> build/lib.linux-x86_64-cpython-39/pandas/tests/io/msgpack\n",
      "  \u001b[31m   \u001b[0m copying pandas/tests/io/msgpack/test_subtype.py -> build/lib.linux-x86_64-cpython-39/pandas/tests/io/msgpack\n",
      "  \u001b[31m   \u001b[0m copying pandas/tests/io/msgpack/test_sequnpack.py -> build/lib.linux-x86_64-cpython-39/pandas/tests/io/msgpack\n",
      "  \u001b[31m   \u001b[0m copying pandas/tests/io/msgpack/test_buffer.py -> build/lib.linux-x86_64-cpython-39/pandas/tests/io/msgpack\n",
      "  \u001b[31m   \u001b[0m copying pandas/tests/io/msgpack/test_pack.py -> build/lib.linux-x86_64-cpython-39/pandas/tests/io/msgpack\n",
      "  \u001b[31m   \u001b[0m copying pandas/tests/io/msgpack/test_format.py -> build/lib.linux-x86_64-cpython-39/pandas/tests/io/msgpack\n",
      "  \u001b[31m   \u001b[0m copying pandas/tests/io/msgpack/test_unpack.py -> build/lib.linux-x86_64-cpython-39/pandas/tests/io/msgpack\n",
      "  \u001b[31m   \u001b[0m copying pandas/tests/io/msgpack/test_case.py -> build/lib.linux-x86_64-cpython-39/pandas/tests/io/msgpack\n",
      "  \u001b[31m   \u001b[0m copying pandas/tests/io/msgpack/test_extension.py -> build/lib.linux-x86_64-cpython-39/pandas/tests/io/msgpack\n",
      "  \u001b[31m   \u001b[0m creating build/lib.linux-x86_64-cpython-39/pandas/tests/io/json\n",
      "  \u001b[31m   \u001b[0m copying pandas/tests/io/json/__init__.py -> build/lib.linux-x86_64-cpython-39/pandas/tests/io/json\n",
      "  \u001b[31m   \u001b[0m copying pandas/tests/io/json/test_pandas.py -> build/lib.linux-x86_64-cpython-39/pandas/tests/io/json\n",
      "  \u001b[31m   \u001b[0m copying pandas/tests/io/json/test_compression.py -> build/lib.linux-x86_64-cpython-39/pandas/tests/io/json\n",
      "  \u001b[31m   \u001b[0m copying pandas/tests/io/json/test_ujson.py -> build/lib.linux-x86_64-cpython-39/pandas/tests/io/json\n",
      "  \u001b[31m   \u001b[0m copying pandas/tests/io/json/test_readlines.py -> build/lib.linux-x86_64-cpython-39/pandas/tests/io/json\n",
      "  \u001b[31m   \u001b[0m copying pandas/tests/io/json/test_normalize.py -> build/lib.linux-x86_64-cpython-39/pandas/tests/io/json\n",
      "  \u001b[31m   \u001b[0m copying pandas/tests/io/json/test_json_table_schema.py -> build/lib.linux-x86_64-cpython-39/pandas/tests/io/json\n",
      "  \u001b[31m   \u001b[0m creating build/lib.linux-x86_64-cpython-39/pandas/tests/io/formats\n",
      "  \u001b[31m   \u001b[0m copying pandas/tests/io/formats/__init__.py -> build/lib.linux-x86_64-cpython-39/pandas/tests/io/formats\n",
      "  \u001b[31m   \u001b[0m copying pandas/tests/io/formats/test_console.py -> build/lib.linux-x86_64-cpython-39/pandas/tests/io/formats\n",
      "  \u001b[31m   \u001b[0m copying pandas/tests/io/formats/test_printing.py -> build/lib.linux-x86_64-cpython-39/pandas/tests/io/formats\n",
      "  \u001b[31m   \u001b[0m copying pandas/tests/io/formats/test_to_csv.py -> build/lib.linux-x86_64-cpython-39/pandas/tests/io/formats\n",
      "  \u001b[31m   \u001b[0m copying pandas/tests/io/formats/test_css.py -> build/lib.linux-x86_64-cpython-39/pandas/tests/io/formats\n",
      "  \u001b[31m   \u001b[0m copying pandas/tests/io/formats/test_format.py -> build/lib.linux-x86_64-cpython-39/pandas/tests/io/formats\n",
      "  \u001b[31m   \u001b[0m copying pandas/tests/io/formats/test_to_html.py -> build/lib.linux-x86_64-cpython-39/pandas/tests/io/formats\n",
      "  \u001b[31m   \u001b[0m copying pandas/tests/io/formats/test_style.py -> build/lib.linux-x86_64-cpython-39/pandas/tests/io/formats\n",
      "  \u001b[31m   \u001b[0m copying pandas/tests/io/formats/test_to_excel.py -> build/lib.linux-x86_64-cpython-39/pandas/tests/io/formats\n",
      "  \u001b[31m   \u001b[0m copying pandas/tests/io/formats/test_to_latex.py -> build/lib.linux-x86_64-cpython-39/pandas/tests/io/formats\n",
      "  \u001b[31m   \u001b[0m copying pandas/tests/io/formats/test_eng_formatting.py -> build/lib.linux-x86_64-cpython-39/pandas/tests/io/formats\n",
      "  \u001b[31m   \u001b[0m creating build/lib.linux-x86_64-cpython-39/pandas/tests/io/sas\n",
      "  \u001b[31m   \u001b[0m copying pandas/tests/io/sas/__init__.py -> build/lib.linux-x86_64-cpython-39/pandas/tests/io/sas\n",
      "  \u001b[31m   \u001b[0m copying pandas/tests/io/sas/test_sas7bdat.py -> build/lib.linux-x86_64-cpython-39/pandas/tests/io/sas\n",
      "  \u001b[31m   \u001b[0m copying pandas/tests/io/sas/test_sas.py -> build/lib.linux-x86_64-cpython-39/pandas/tests/io/sas\n",
      "  \u001b[31m   \u001b[0m copying pandas/tests/io/sas/test_xport.py -> build/lib.linux-x86_64-cpython-39/pandas/tests/io/sas\n",
      "  \u001b[31m   \u001b[0m creating build/lib.linux-x86_64-cpython-39/pandas/tests/io/parser\n",
      "  \u001b[31m   \u001b[0m copying pandas/tests/io/parser/__init__.py -> build/lib.linux-x86_64-cpython-39/pandas/tests/io/parser\n",
      "  \u001b[31m   \u001b[0m copying pandas/tests/io/parser/test_common.py -> build/lib.linux-x86_64-cpython-39/pandas/tests/io/parser\n",
      "  \u001b[31m   \u001b[0m copying pandas/tests/io/parser/test_header.py -> build/lib.linux-x86_64-cpython-39/pandas/tests/io/parser\n",
      "  \u001b[31m   \u001b[0m copying pandas/tests/io/parser/test_multi_thread.py -> build/lib.linux-x86_64-cpython-39/pandas/tests/io/parser\n",
      "  \u001b[31m   \u001b[0m copying pandas/tests/io/parser/test_skiprows.py -> build/lib.linux-x86_64-cpython-39/pandas/tests/io/parser\n",
      "  \u001b[31m   \u001b[0m copying pandas/tests/io/parser/test_comment.py -> build/lib.linux-x86_64-cpython-39/pandas/tests/io/parser\n",
      "  \u001b[31m   \u001b[0m copying pandas/tests/io/parser/test_network.py -> build/lib.linux-x86_64-cpython-39/pandas/tests/io/parser\n",
      "  \u001b[31m   \u001b[0m copying pandas/tests/io/parser/test_converters.py -> build/lib.linux-x86_64-cpython-39/pandas/tests/io/parser\n",
      "  \u001b[31m   \u001b[0m copying pandas/tests/io/parser/test_index_col.py -> build/lib.linux-x86_64-cpython-39/pandas/tests/io/parser\n",
      "  \u001b[31m   \u001b[0m copying pandas/tests/io/parser/test_quoting.py -> build/lib.linux-x86_64-cpython-39/pandas/tests/io/parser\n",
      "  \u001b[31m   \u001b[0m copying pandas/tests/io/parser/test_mangle_dupes.py -> build/lib.linux-x86_64-cpython-39/pandas/tests/io/parser\n",
      "  \u001b[31m   \u001b[0m copying pandas/tests/io/parser/test_parse_dates.py -> build/lib.linux-x86_64-cpython-39/pandas/tests/io/parser\n",
      "  \u001b[31m   \u001b[0m copying pandas/tests/io/parser/test_usecols.py -> build/lib.linux-x86_64-cpython-39/pandas/tests/io/parser\n",
      "  \u001b[31m   \u001b[0m copying pandas/tests/io/parser/test_compression.py -> build/lib.linux-x86_64-cpython-39/pandas/tests/io/parser\n",
      "  \u001b[31m   \u001b[0m copying pandas/tests/io/parser/test_dialect.py -> build/lib.linux-x86_64-cpython-39/pandas/tests/io/parser\n",
      "  \u001b[31m   \u001b[0m copying pandas/tests/io/parser/test_read_fwf.py -> build/lib.linux-x86_64-cpython-39/pandas/tests/io/parser\n",
      "  \u001b[31m   \u001b[0m copying pandas/tests/io/parser/test_na_values.py -> build/lib.linux-x86_64-cpython-39/pandas/tests/io/parser\n",
      "  \u001b[31m   \u001b[0m copying pandas/tests/io/parser/test_textreader.py -> build/lib.linux-x86_64-cpython-39/pandas/tests/io/parser\n",
      "  \u001b[31m   \u001b[0m copying pandas/tests/io/parser/conftest.py -> build/lib.linux-x86_64-cpython-39/pandas/tests/io/parser\n",
      "  \u001b[31m   \u001b[0m copying pandas/tests/io/parser/test_python_parser_only.py -> build/lib.linux-x86_64-cpython-39/pandas/tests/io/parser\n",
      "  \u001b[31m   \u001b[0m copying pandas/tests/io/parser/test_c_parser_only.py -> build/lib.linux-x86_64-cpython-39/pandas/tests/io/parser\n",
      "  \u001b[31m   \u001b[0m copying pandas/tests/io/parser/test_unsupported.py -> build/lib.linux-x86_64-cpython-39/pandas/tests/io/parser\n",
      "  \u001b[31m   \u001b[0m copying pandas/tests/io/parser/test_dtypes.py -> build/lib.linux-x86_64-cpython-39/pandas/tests/io/parser\n",
      "  \u001b[31m   \u001b[0m creating build/lib.linux-x86_64-cpython-39/pandas/tests/sparse/frame\n",
      "  \u001b[31m   \u001b[0m copying pandas/tests/sparse/frame/__init__.py -> build/lib.linux-x86_64-cpython-39/pandas/tests/sparse/frame\n",
      "  \u001b[31m   \u001b[0m copying pandas/tests/sparse/frame/test_analytics.py -> build/lib.linux-x86_64-cpython-39/pandas/tests/sparse/frame\n",
      "  \u001b[31m   \u001b[0m copying pandas/tests/sparse/frame/test_to_from_scipy.py -> build/lib.linux-x86_64-cpython-39/pandas/tests/sparse/frame\n",
      "  \u001b[31m   \u001b[0m copying pandas/tests/sparse/frame/test_indexing.py -> build/lib.linux-x86_64-cpython-39/pandas/tests/sparse/frame\n",
      "  \u001b[31m   \u001b[0m copying pandas/tests/sparse/frame/test_to_csv.py -> build/lib.linux-x86_64-cpython-39/pandas/tests/sparse/frame\n",
      "  \u001b[31m   \u001b[0m copying pandas/tests/sparse/frame/test_frame.py -> build/lib.linux-x86_64-cpython-39/pandas/tests/sparse/frame\n",
      "  \u001b[31m   \u001b[0m copying pandas/tests/sparse/frame/test_apply.py -> build/lib.linux-x86_64-cpython-39/pandas/tests/sparse/frame\n",
      "  \u001b[31m   \u001b[0m copying pandas/tests/sparse/frame/conftest.py -> build/lib.linux-x86_64-cpython-39/pandas/tests/sparse/frame\n",
      "  \u001b[31m   \u001b[0m creating build/lib.linux-x86_64-cpython-39/pandas/tests/sparse/series\n",
      "  \u001b[31m   \u001b[0m copying pandas/tests/sparse/series/__init__.py -> build/lib.linux-x86_64-cpython-39/pandas/tests/sparse/series\n",
      "  \u001b[31m   \u001b[0m copying pandas/tests/sparse/series/test_series.py -> build/lib.linux-x86_64-cpython-39/pandas/tests/sparse/series\n",
      "  \u001b[31m   \u001b[0m copying pandas/tests/sparse/series/test_indexing.py -> build/lib.linux-x86_64-cpython-39/pandas/tests/sparse/series\n",
      "  \u001b[31m   \u001b[0m creating build/lib.linux-x86_64-cpython-39/pandas/tests/scalar/interval\n",
      "  \u001b[31m   \u001b[0m copying pandas/tests/scalar/interval/__init__.py -> build/lib.linux-x86_64-cpython-39/pandas/tests/scalar/interval\n",
      "  \u001b[31m   \u001b[0m copying pandas/tests/scalar/interval/test_interval.py -> build/lib.linux-x86_64-cpython-39/pandas/tests/scalar/interval\n",
      "  \u001b[31m   \u001b[0m copying pandas/tests/scalar/interval/test_ops.py -> build/lib.linux-x86_64-cpython-39/pandas/tests/scalar/interval\n",
      "  \u001b[31m   \u001b[0m creating build/lib.linux-x86_64-cpython-39/pandas/tests/scalar/timedelta\n",
      "  \u001b[31m   \u001b[0m copying pandas/tests/scalar/timedelta/__init__.py -> build/lib.linux-x86_64-cpython-39/pandas/tests/scalar/timedelta\n",
      "  \u001b[31m   \u001b[0m copying pandas/tests/scalar/timedelta/test_arithmetic.py -> build/lib.linux-x86_64-cpython-39/pandas/tests/scalar/timedelta\n",
      "  \u001b[31m   \u001b[0m copying pandas/tests/scalar/timedelta/test_timedelta.py -> build/lib.linux-x86_64-cpython-39/pandas/tests/scalar/timedelta\n",
      "  \u001b[31m   \u001b[0m copying pandas/tests/scalar/timedelta/test_formats.py -> build/lib.linux-x86_64-cpython-39/pandas/tests/scalar/timedelta\n",
      "  \u001b[31m   \u001b[0m copying pandas/tests/scalar/timedelta/test_construction.py -> build/lib.linux-x86_64-cpython-39/pandas/tests/scalar/timedelta\n",
      "  \u001b[31m   \u001b[0m creating build/lib.linux-x86_64-cpython-39/pandas/tests/scalar/timestamp\n",
      "  \u001b[31m   \u001b[0m copying pandas/tests/scalar/timestamp/__init__.py -> build/lib.linux-x86_64-cpython-39/pandas/tests/scalar/timestamp\n",
      "  \u001b[31m   \u001b[0m copying pandas/tests/scalar/timestamp/test_arithmetic.py -> build/lib.linux-x86_64-cpython-39/pandas/tests/scalar/timestamp\n",
      "  \u001b[31m   \u001b[0m copying pandas/tests/scalar/timestamp/test_timezones.py -> build/lib.linux-x86_64-cpython-39/pandas/tests/scalar/timestamp\n",
      "  \u001b[31m   \u001b[0m copying pandas/tests/scalar/timestamp/test_comparisons.py -> build/lib.linux-x86_64-cpython-39/pandas/tests/scalar/timestamp\n",
      "  \u001b[31m   \u001b[0m copying pandas/tests/scalar/timestamp/test_rendering.py -> build/lib.linux-x86_64-cpython-39/pandas/tests/scalar/timestamp\n",
      "  \u001b[31m   \u001b[0m copying pandas/tests/scalar/timestamp/test_unary_ops.py -> build/lib.linux-x86_64-cpython-39/pandas/tests/scalar/timestamp\n",
      "  \u001b[31m   \u001b[0m copying pandas/tests/scalar/timestamp/test_timestamp.py -> build/lib.linux-x86_64-cpython-39/pandas/tests/scalar/timestamp\n",
      "  \u001b[31m   \u001b[0m creating build/lib.linux-x86_64-cpython-39/pandas/tests/scalar/period\n",
      "  \u001b[31m   \u001b[0m copying pandas/tests/scalar/period/__init__.py -> build/lib.linux-x86_64-cpython-39/pandas/tests/scalar/period\n",
      "  \u001b[31m   \u001b[0m copying pandas/tests/scalar/period/test_asfreq.py -> build/lib.linux-x86_64-cpython-39/pandas/tests/scalar/period\n",
      "  \u001b[31m   \u001b[0m copying pandas/tests/scalar/period/test_period.py -> build/lib.linux-x86_64-cpython-39/pandas/tests/scalar/period\n",
      "  \u001b[31m   \u001b[0m creating build/lib.linux-x86_64-cpython-39/pandas/tests/indexes/multi\n",
      "  \u001b[31m   \u001b[0m copying pandas/tests/indexes/multi/__init__.py -> build/lib.linux-x86_64-cpython-39/pandas/tests/indexes/multi\n",
      "  \u001b[31m   \u001b[0m copying pandas/tests/indexes/multi/test_get_set.py -> build/lib.linux-x86_64-cpython-39/pandas/tests/indexes/multi\n",
      "  \u001b[31m   \u001b[0m copying pandas/tests/indexes/multi/test_analytics.py -> build/lib.linux-x86_64-cpython-39/pandas/tests/indexes/multi\n",
      "  \u001b[31m   \u001b[0m copying pandas/tests/indexes/multi/test_reindex.py -> build/lib.linux-x86_64-cpython-39/pandas/tests/indexes/multi\n",
      "  \u001b[31m   \u001b[0m copying pandas/tests/indexes/multi/test_duplicates.py -> build/lib.linux-x86_64-cpython-39/pandas/tests/indexes/multi\n",
      "  \u001b[31m   \u001b[0m copying pandas/tests/indexes/multi/test_equivalence.py -> build/lib.linux-x86_64-cpython-39/pandas/tests/indexes/multi\n",
      "  \u001b[31m   \u001b[0m copying pandas/tests/indexes/multi/test_contains.py -> build/lib.linux-x86_64-cpython-39/pandas/tests/indexes/multi\n",
      "  \u001b[31m   \u001b[0m copying pandas/tests/indexes/multi/test_names.py -> build/lib.linux-x86_64-cpython-39/pandas/tests/indexes/multi\n",
      "  \u001b[31m   \u001b[0m copying pandas/tests/indexes/multi/test_compat.py -> build/lib.linux-x86_64-cpython-39/pandas/tests/indexes/multi\n",
      "  \u001b[31m   \u001b[0m copying pandas/tests/indexes/multi/test_join.py -> build/lib.linux-x86_64-cpython-39/pandas/tests/indexes/multi\n",
      "  \u001b[31m   \u001b[0m copying pandas/tests/indexes/multi/test_indexing.py -> build/lib.linux-x86_64-cpython-39/pandas/tests/indexes/multi\n",
      "  \u001b[31m   \u001b[0m copying pandas/tests/indexes/multi/test_copy.py -> build/lib.linux-x86_64-cpython-39/pandas/tests/indexes/multi\n",
      "  \u001b[31m   \u001b[0m copying pandas/tests/indexes/multi/test_integrity.py -> build/lib.linux-x86_64-cpython-39/pandas/tests/indexes/multi\n",
      "  \u001b[31m   \u001b[0m copying pandas/tests/indexes/multi/test_sorting.py -> build/lib.linux-x86_64-cpython-39/pandas/tests/indexes/multi\n",
      "  \u001b[31m   \u001b[0m copying pandas/tests/indexes/multi/test_reshape.py -> build/lib.linux-x86_64-cpython-39/pandas/tests/indexes/multi\n",
      "  \u001b[31m   \u001b[0m copying pandas/tests/indexes/multi/test_monotonic.py -> build/lib.linux-x86_64-cpython-39/pandas/tests/indexes/multi\n",
      "  \u001b[31m   \u001b[0m copying pandas/tests/indexes/multi/conftest.py -> build/lib.linux-x86_64-cpython-39/pandas/tests/indexes/multi\n",
      "  \u001b[31m   \u001b[0m copying pandas/tests/indexes/multi/test_format.py -> build/lib.linux-x86_64-cpython-39/pandas/tests/indexes/multi\n",
      "  \u001b[31m   \u001b[0m copying pandas/tests/indexes/multi/test_partial_indexing.py -> build/lib.linux-x86_64-cpython-39/pandas/tests/indexes/multi\n",
      "  \u001b[31m   \u001b[0m copying pandas/tests/indexes/multi/test_drop.py -> build/lib.linux-x86_64-cpython-39/pandas/tests/indexes/multi\n",
      "  \u001b[31m   \u001b[0m copying pandas/tests/indexes/multi/test_conversion.py -> build/lib.linux-x86_64-cpython-39/pandas/tests/indexes/multi\n",
      "  \u001b[31m   \u001b[0m copying pandas/tests/indexes/multi/test_missing.py -> build/lib.linux-x86_64-cpython-39/pandas/tests/indexes/multi\n",
      "  \u001b[31m   \u001b[0m copying pandas/tests/indexes/multi/test_astype.py -> build/lib.linux-x86_64-cpython-39/pandas/tests/indexes/multi\n",
      "  \u001b[31m   \u001b[0m copying pandas/tests/indexes/multi/test_set_ops.py -> build/lib.linux-x86_64-cpython-39/pandas/tests/indexes/multi\n",
      "  \u001b[31m   \u001b[0m copying pandas/tests/indexes/multi/test_constructor.py -> build/lib.linux-x86_64-cpython-39/pandas/tests/indexes/multi\n",
      "  \u001b[31m   \u001b[0m creating build/lib.linux-x86_64-cpython-39/pandas/tests/indexes/timedeltas\n",
      "  \u001b[31m   \u001b[0m copying pandas/tests/indexes/timedeltas/__init__.py -> build/lib.linux-x86_64-cpython-39/pandas/tests/indexes/timedeltas\n",
      "  \u001b[31m   \u001b[0m copying pandas/tests/indexes/timedeltas/test_timedelta_range.py -> build/lib.linux-x86_64-cpython-39/pandas/tests/indexes/timedeltas\n",
      "  \u001b[31m   \u001b[0m copying pandas/tests/indexes/timedeltas/test_scalar_compat.py -> build/lib.linux-x86_64-cpython-39/pandas/tests/indexes/timedeltas\n",
      "  \u001b[31m   \u001b[0m copying pandas/tests/indexes/timedeltas/test_arithmetic.py -> build/lib.linux-x86_64-cpython-39/pandas/tests/indexes/timedeltas\n",
      "  \u001b[31m   \u001b[0m copying pandas/tests/indexes/timedeltas/test_partial_slicing.py -> build/lib.linux-x86_64-cpython-39/pandas/tests/indexes/timedeltas\n",
      "  \u001b[31m   \u001b[0m copying pandas/tests/indexes/timedeltas/test_timedelta.py -> build/lib.linux-x86_64-cpython-39/pandas/tests/indexes/timedeltas\n",
      "  \u001b[31m   \u001b[0m copying pandas/tests/indexes/timedeltas/test_indexing.py -> build/lib.linux-x86_64-cpython-39/pandas/tests/indexes/timedeltas\n",
      "  \u001b[31m   \u001b[0m copying pandas/tests/indexes/timedeltas/test_formats.py -> build/lib.linux-x86_64-cpython-39/pandas/tests/indexes/timedeltas\n",
      "  \u001b[31m   \u001b[0m copying pandas/tests/indexes/timedeltas/test_ops.py -> build/lib.linux-x86_64-cpython-39/pandas/tests/indexes/timedeltas\n",
      "  \u001b[31m   \u001b[0m copying pandas/tests/indexes/timedeltas/test_setops.py -> build/lib.linux-x86_64-cpython-39/pandas/tests/indexes/timedeltas\n",
      "  \u001b[31m   \u001b[0m copying pandas/tests/indexes/timedeltas/test_tools.py -> build/lib.linux-x86_64-cpython-39/pandas/tests/indexes/timedeltas\n",
      "  \u001b[31m   \u001b[0m copying pandas/tests/indexes/timedeltas/test_astype.py -> build/lib.linux-x86_64-cpython-39/pandas/tests/indexes/timedeltas\n",
      "  \u001b[31m   \u001b[0m copying pandas/tests/indexes/timedeltas/test_construction.py -> build/lib.linux-x86_64-cpython-39/pandas/tests/indexes/timedeltas\n",
      "  \u001b[31m   \u001b[0m creating build/lib.linux-x86_64-cpython-39/pandas/tests/indexes/datetimes\n",
      "  \u001b[31m   \u001b[0m copying pandas/tests/indexes/datetimes/__init__.py -> build/lib.linux-x86_64-cpython-39/pandas/tests/indexes/datetimes\n",
      "  \u001b[31m   \u001b[0m copying pandas/tests/indexes/datetimes/test_scalar_compat.py -> build/lib.linux-x86_64-cpython-39/pandas/tests/indexes/datetimes\n",
      "  \u001b[31m   \u001b[0m copying pandas/tests/indexes/datetimes/test_arithmetic.py -> build/lib.linux-x86_64-cpython-39/pandas/tests/indexes/datetimes\n",
      "  \u001b[31m   \u001b[0m copying pandas/tests/indexes/datetimes/test_timezones.py -> build/lib.linux-x86_64-cpython-39/pandas/tests/indexes/datetimes\n",
      "  \u001b[31m   \u001b[0m copying pandas/tests/indexes/datetimes/test_partial_slicing.py -> build/lib.linux-x86_64-cpython-39/pandas/tests/indexes/datetimes\n",
      "  \u001b[31m   \u001b[0m copying pandas/tests/indexes/datetimes/test_misc.py -> build/lib.linux-x86_64-cpython-39/pandas/tests/indexes/datetimes\n",
      "  \u001b[31m   \u001b[0m copying pandas/tests/indexes/datetimes/test_indexing.py -> build/lib.linux-x86_64-cpython-39/pandas/tests/indexes/datetimes\n",
      "  \u001b[31m   \u001b[0m copying pandas/tests/indexes/datetimes/test_date_range.py -> build/lib.linux-x86_64-cpython-39/pandas/tests/indexes/datetimes\n",
      "  \u001b[31m   \u001b[0m copying pandas/tests/indexes/datetimes/test_formats.py -> build/lib.linux-x86_64-cpython-39/pandas/tests/indexes/datetimes\n",
      "  \u001b[31m   \u001b[0m copying pandas/tests/indexes/datetimes/test_datetimelike.py -> build/lib.linux-x86_64-cpython-39/pandas/tests/indexes/datetimes\n",
      "  \u001b[31m   \u001b[0m copying pandas/tests/indexes/datetimes/test_ops.py -> build/lib.linux-x86_64-cpython-39/pandas/tests/indexes/datetimes\n",
      "  \u001b[31m   \u001b[0m copying pandas/tests/indexes/datetimes/test_setops.py -> build/lib.linux-x86_64-cpython-39/pandas/tests/indexes/datetimes\n",
      "  \u001b[31m   \u001b[0m copying pandas/tests/indexes/datetimes/test_tools.py -> build/lib.linux-x86_64-cpython-39/pandas/tests/indexes/datetimes\n",
      "  \u001b[31m   \u001b[0m copying pandas/tests/indexes/datetimes/test_missing.py -> build/lib.linux-x86_64-cpython-39/pandas/tests/indexes/datetimes\n",
      "  \u001b[31m   \u001b[0m copying pandas/tests/indexes/datetimes/test_astype.py -> build/lib.linux-x86_64-cpython-39/pandas/tests/indexes/datetimes\n",
      "  \u001b[31m   \u001b[0m copying pandas/tests/indexes/datetimes/test_construction.py -> build/lib.linux-x86_64-cpython-39/pandas/tests/indexes/datetimes\n",
      "  \u001b[31m   \u001b[0m copying pandas/tests/indexes/datetimes/test_datetime.py -> build/lib.linux-x86_64-cpython-39/pandas/tests/indexes/datetimes\n",
      "  \u001b[31m   \u001b[0m creating build/lib.linux-x86_64-cpython-39/pandas/tests/indexes/interval\n",
      "  \u001b[31m   \u001b[0m copying pandas/tests/indexes/interval/__init__.py -> build/lib.linux-x86_64-cpython-39/pandas/tests/indexes/interval\n",
      "  \u001b[31m   \u001b[0m copying pandas/tests/indexes/interval/test_interval.py -> build/lib.linux-x86_64-cpython-39/pandas/tests/indexes/interval\n",
      "  \u001b[31m   \u001b[0m copying pandas/tests/indexes/interval/test_interval_range.py -> build/lib.linux-x86_64-cpython-39/pandas/tests/indexes/interval\n",
      "  \u001b[31m   \u001b[0m copying pandas/tests/indexes/interval/test_interval_tree.py -> build/lib.linux-x86_64-cpython-39/pandas/tests/indexes/interval\n",
      "  \u001b[31m   \u001b[0m copying pandas/tests/indexes/interval/test_astype.py -> build/lib.linux-x86_64-cpython-39/pandas/tests/indexes/interval\n",
      "  \u001b[31m   \u001b[0m copying pandas/tests/indexes/interval/test_construction.py -> build/lib.linux-x86_64-cpython-39/pandas/tests/indexes/interval\n",
      "  \u001b[31m   \u001b[0m copying pandas/tests/indexes/interval/test_interval_new.py -> build/lib.linux-x86_64-cpython-39/pandas/tests/indexes/interval\n",
      "  \u001b[31m   \u001b[0m creating build/lib.linux-x86_64-cpython-39/pandas/tests/indexes/period\n",
      "  \u001b[31m   \u001b[0m copying pandas/tests/indexes/period/__init__.py -> build/lib.linux-x86_64-cpython-39/pandas/tests/indexes/period\n",
      "  \u001b[31m   \u001b[0m copying pandas/tests/indexes/period/test_scalar_compat.py -> build/lib.linux-x86_64-cpython-39/pandas/tests/indexes/period\n",
      "  \u001b[31m   \u001b[0m copying pandas/tests/indexes/period/test_arithmetic.py -> build/lib.linux-x86_64-cpython-39/pandas/tests/indexes/period\n",
      "  \u001b[31m   \u001b[0m copying pandas/tests/indexes/period/test_partial_slicing.py -> build/lib.linux-x86_64-cpython-39/pandas/tests/indexes/period\n",
      "  \u001b[31m   \u001b[0m copying pandas/tests/indexes/period/test_indexing.py -> build/lib.linux-x86_64-cpython-39/pandas/tests/indexes/period\n",
      "  \u001b[31m   \u001b[0m copying pandas/tests/indexes/period/test_asfreq.py -> build/lib.linux-x86_64-cpython-39/pandas/tests/indexes/period\n",
      "  \u001b[31m   \u001b[0m copying pandas/tests/indexes/period/test_formats.py -> build/lib.linux-x86_64-cpython-39/pandas/tests/indexes/period\n",
      "  \u001b[31m   \u001b[0m copying pandas/tests/indexes/period/test_ops.py -> build/lib.linux-x86_64-cpython-39/pandas/tests/indexes/period\n",
      "  \u001b[31m   \u001b[0m copying pandas/tests/indexes/period/test_period.py -> build/lib.linux-x86_64-cpython-39/pandas/tests/indexes/period\n",
      "  \u001b[31m   \u001b[0m copying pandas/tests/indexes/period/test_setops.py -> build/lib.linux-x86_64-cpython-39/pandas/tests/indexes/period\n",
      "  \u001b[31m   \u001b[0m copying pandas/tests/indexes/period/test_period_range.py -> build/lib.linux-x86_64-cpython-39/pandas/tests/indexes/period\n",
      "  \u001b[31m   \u001b[0m copying pandas/tests/indexes/period/test_tools.py -> build/lib.linux-x86_64-cpython-39/pandas/tests/indexes/period\n",
      "  \u001b[31m   \u001b[0m copying pandas/tests/indexes/period/test_astype.py -> build/lib.linux-x86_64-cpython-39/pandas/tests/indexes/period\n",
      "  \u001b[31m   \u001b[0m copying pandas/tests/indexes/period/test_construction.py -> build/lib.linux-x86_64-cpython-39/pandas/tests/indexes/period\n",
      "  \u001b[31m   \u001b[0m creating build/lib.linux-x86_64-cpython-39/pandas/tests/dtypes/cast\n",
      "  \u001b[31m   \u001b[0m copying pandas/tests/dtypes/cast/__init__.py -> build/lib.linux-x86_64-cpython-39/pandas/tests/dtypes/cast\n",
      "  \u001b[31m   \u001b[0m copying pandas/tests/dtypes/cast/test_infer_dtype.py -> build/lib.linux-x86_64-cpython-39/pandas/tests/dtypes/cast\n",
      "  \u001b[31m   \u001b[0m copying pandas/tests/dtypes/cast/test_convert_objects.py -> build/lib.linux-x86_64-cpython-39/pandas/tests/dtypes/cast\n",
      "  \u001b[31m   \u001b[0m copying pandas/tests/dtypes/cast/test_downcast.py -> build/lib.linux-x86_64-cpython-39/pandas/tests/dtypes/cast\n",
      "  \u001b[31m   \u001b[0m copying pandas/tests/dtypes/cast/test_find_common_type.py -> build/lib.linux-x86_64-cpython-39/pandas/tests/dtypes/cast\n",
      "  \u001b[31m   \u001b[0m copying pandas/tests/dtypes/cast/test_construct_object_arr.py -> build/lib.linux-x86_64-cpython-39/pandas/tests/dtypes/cast\n",
      "  \u001b[31m   \u001b[0m copying pandas/tests/dtypes/cast/test_construct_from_scalar.py -> build/lib.linux-x86_64-cpython-39/pandas/tests/dtypes/cast\n",
      "  \u001b[31m   \u001b[0m copying pandas/tests/dtypes/cast/test_infer_datetimelike.py -> build/lib.linux-x86_64-cpython-39/pandas/tests/dtypes/cast\n",
      "  \u001b[31m   \u001b[0m copying pandas/tests/dtypes/cast/test_construct_ndarray.py -> build/lib.linux-x86_64-cpython-39/pandas/tests/dtypes/cast\n",
      "  \u001b[31m   \u001b[0m creating build/lib.linux-x86_64-cpython-39/pandas/tests/tseries/offsets\n",
      "  \u001b[31m   \u001b[0m copying pandas/tests/tseries/offsets/__init__.py -> build/lib.linux-x86_64-cpython-39/pandas/tests/tseries/offsets\n",
      "  \u001b[31m   \u001b[0m copying pandas/tests/tseries/offsets/test_offsets.py -> build/lib.linux-x86_64-cpython-39/pandas/tests/tseries/offsets\n",
      "  \u001b[31m   \u001b[0m copying pandas/tests/tseries/offsets/test_offsets_properties.py -> build/lib.linux-x86_64-cpython-39/pandas/tests/tseries/offsets\n",
      "  \u001b[31m   \u001b[0m copying pandas/tests/tseries/offsets/test_fiscal.py -> build/lib.linux-x86_64-cpython-39/pandas/tests/tseries/offsets\n",
      "  \u001b[31m   \u001b[0m copying pandas/tests/tseries/offsets/common.py -> build/lib.linux-x86_64-cpython-39/pandas/tests/tseries/offsets\n",
      "  \u001b[31m   \u001b[0m copying pandas/tests/tseries/offsets/test_yqm_offsets.py -> build/lib.linux-x86_64-cpython-39/pandas/tests/tseries/offsets\n",
      "  \u001b[31m   \u001b[0m copying pandas/tests/tseries/offsets/test_ticks.py -> build/lib.linux-x86_64-cpython-39/pandas/tests/tseries/offsets\n",
      "  \u001b[31m   \u001b[0m copying pandas/tests/tseries/offsets/conftest.py -> build/lib.linux-x86_64-cpython-39/pandas/tests/tseries/offsets\n",
      "  \u001b[31m   \u001b[0m creating build/lib.linux-x86_64-cpython-39/pandas/tests/arrays/sparse\n",
      "  \u001b[31m   \u001b[0m copying pandas/tests/arrays/sparse/__init__.py -> build/lib.linux-x86_64-cpython-39/pandas/tests/arrays/sparse\n",
      "  \u001b[31m   \u001b[0m copying pandas/tests/arrays/sparse/test_dtype.py -> build/lib.linux-x86_64-cpython-39/pandas/tests/arrays/sparse\n",
      "  \u001b[31m   \u001b[0m copying pandas/tests/arrays/sparse/test_array.py -> build/lib.linux-x86_64-cpython-39/pandas/tests/arrays/sparse\n",
      "  \u001b[31m   \u001b[0m copying pandas/tests/arrays/sparse/test_libsparse.py -> build/lib.linux-x86_64-cpython-39/pandas/tests/arrays/sparse\n",
      "  \u001b[31m   \u001b[0m copying pandas/tests/arrays/sparse/test_arithmetics.py -> build/lib.linux-x86_64-cpython-39/pandas/tests/arrays/sparse\n",
      "  \u001b[31m   \u001b[0m creating build/lib.linux-x86_64-cpython-39/pandas/tests/arrays/interval\n",
      "  \u001b[31m   \u001b[0m copying pandas/tests/arrays/interval/__init__.py -> build/lib.linux-x86_64-cpython-39/pandas/tests/arrays/interval\n",
      "  \u001b[31m   \u001b[0m copying pandas/tests/arrays/interval/test_interval.py -> build/lib.linux-x86_64-cpython-39/pandas/tests/arrays/interval\n",
      "  \u001b[31m   \u001b[0m copying pandas/tests/arrays/interval/test_ops.py -> build/lib.linux-x86_64-cpython-39/pandas/tests/arrays/interval\n",
      "  \u001b[31m   \u001b[0m creating build/lib.linux-x86_64-cpython-39/pandas/tests/arrays/categorical\n",
      "  \u001b[31m   \u001b[0m copying pandas/tests/arrays/categorical/__init__.py -> build/lib.linux-x86_64-cpython-39/pandas/tests/arrays/categorical\n",
      "  \u001b[31m   \u001b[0m copying pandas/tests/arrays/categorical/test_analytics.py -> build/lib.linux-x86_64-cpython-39/pandas/tests/arrays/categorical\n",
      "  \u001b[31m   \u001b[0m copying pandas/tests/arrays/categorical/common.py -> build/lib.linux-x86_64-cpython-39/pandas/tests/arrays/categorical\n",
      "  \u001b[31m   \u001b[0m copying pandas/tests/arrays/categorical/test_algos.py -> build/lib.linux-x86_64-cpython-39/pandas/tests/arrays/categorical\n",
      "  \u001b[31m   \u001b[0m copying pandas/tests/arrays/categorical/test_indexing.py -> build/lib.linux-x86_64-cpython-39/pandas/tests/arrays/categorical\n",
      "  \u001b[31m   \u001b[0m copying pandas/tests/arrays/categorical/test_subclass.py -> build/lib.linux-x86_64-cpython-39/pandas/tests/arrays/categorical\n",
      "  \u001b[31m   \u001b[0m copying pandas/tests/arrays/categorical/test_sorting.py -> build/lib.linux-x86_64-cpython-39/pandas/tests/arrays/categorical\n",
      "  \u001b[31m   \u001b[0m copying pandas/tests/arrays/categorical/test_api.py -> build/lib.linux-x86_64-cpython-39/pandas/tests/arrays/categorical\n",
      "  \u001b[31m   \u001b[0m copying pandas/tests/arrays/categorical/conftest.py -> build/lib.linux-x86_64-cpython-39/pandas/tests/arrays/categorical\n",
      "  \u001b[31m   \u001b[0m copying pandas/tests/arrays/categorical/test_warnings.py -> build/lib.linux-x86_64-cpython-39/pandas/tests/arrays/categorical\n",
      "  \u001b[31m   \u001b[0m copying pandas/tests/arrays/categorical/test_missing.py -> build/lib.linux-x86_64-cpython-39/pandas/tests/arrays/categorical\n",
      "  \u001b[31m   \u001b[0m copying pandas/tests/arrays/categorical/test_repr.py -> build/lib.linux-x86_64-cpython-39/pandas/tests/arrays/categorical\n",
      "  \u001b[31m   \u001b[0m copying pandas/tests/arrays/categorical/test_constructors.py -> build/lib.linux-x86_64-cpython-39/pandas/tests/arrays/categorical\n",
      "  \u001b[31m   \u001b[0m copying pandas/tests/arrays/categorical/test_dtypes.py -> build/lib.linux-x86_64-cpython-39/pandas/tests/arrays/categorical\n",
      "  \u001b[31m   \u001b[0m copying pandas/tests/arrays/categorical/test_operators.py -> build/lib.linux-x86_64-cpython-39/pandas/tests/arrays/categorical\n",
      "  \u001b[31m   \u001b[0m creating build/lib.linux-x86_64-cpython-39/pandas/tests/series/indexing\n",
      "  \u001b[31m   \u001b[0m copying pandas/tests/series/indexing/__init__.py -> build/lib.linux-x86_64-cpython-39/pandas/tests/series/indexing\n",
      "  \u001b[31m   \u001b[0m copying pandas/tests/series/indexing/test_callable.py -> build/lib.linux-x86_64-cpython-39/pandas/tests/series/indexing\n",
      "  \u001b[31m   \u001b[0m copying pandas/tests/series/indexing/test_numeric.py -> build/lib.linux-x86_64-cpython-39/pandas/tests/series/indexing\n",
      "  \u001b[31m   \u001b[0m copying pandas/tests/series/indexing/test_loc.py -> build/lib.linux-x86_64-cpython-39/pandas/tests/series/indexing\n",
      "  \u001b[31m   \u001b[0m copying pandas/tests/series/indexing/test_iloc.py -> build/lib.linux-x86_64-cpython-39/pandas/tests/series/indexing\n",
      "  \u001b[31m   \u001b[0m copying pandas/tests/series/indexing/test_indexing.py -> build/lib.linux-x86_64-cpython-39/pandas/tests/series/indexing\n",
      "  \u001b[31m   \u001b[0m copying pandas/tests/series/indexing/test_alter_index.py -> build/lib.linux-x86_64-cpython-39/pandas/tests/series/indexing\n",
      "  \u001b[31m   \u001b[0m copying pandas/tests/series/indexing/conftest.py -> build/lib.linux-x86_64-cpython-39/pandas/tests/series/indexing\n",
      "  \u001b[31m   \u001b[0m copying pandas/tests/series/indexing/test_boolean.py -> build/lib.linux-x86_64-cpython-39/pandas/tests/series/indexing\n",
      "  \u001b[31m   \u001b[0m copying pandas/tests/series/indexing/test_datetime.py -> build/lib.linux-x86_64-cpython-39/pandas/tests/series/indexing\n",
      "  \u001b[31m   \u001b[0m creating build/lib.linux-x86_64-cpython-39/pandas/tests/extension/decimal\n",
      "  \u001b[31m   \u001b[0m copying pandas/tests/extension/decimal/__init__.py -> build/lib.linux-x86_64-cpython-39/pandas/tests/extension/decimal\n",
      "  \u001b[31m   \u001b[0m copying pandas/tests/extension/decimal/test_decimal.py -> build/lib.linux-x86_64-cpython-39/pandas/tests/extension/decimal\n",
      "  \u001b[31m   \u001b[0m copying pandas/tests/extension/decimal/array.py -> build/lib.linux-x86_64-cpython-39/pandas/tests/extension/decimal\n",
      "  \u001b[31m   \u001b[0m creating build/lib.linux-x86_64-cpython-39/pandas/tests/extension/numpy_\n",
      "  \u001b[31m   \u001b[0m copying pandas/tests/extension/numpy_/__init__.py -> build/lib.linux-x86_64-cpython-39/pandas/tests/extension/numpy_\n",
      "  \u001b[31m   \u001b[0m copying pandas/tests/extension/numpy_/test_numpy_nested.py -> build/lib.linux-x86_64-cpython-39/pandas/tests/extension/numpy_\n",
      "  \u001b[31m   \u001b[0m copying pandas/tests/extension/numpy_/test_numpy.py -> build/lib.linux-x86_64-cpython-39/pandas/tests/extension/numpy_\n",
      "  \u001b[31m   \u001b[0m copying pandas/tests/extension/numpy_/conftest.py -> build/lib.linux-x86_64-cpython-39/pandas/tests/extension/numpy_\n",
      "  \u001b[31m   \u001b[0m creating build/lib.linux-x86_64-cpython-39/pandas/tests/extension/json\n",
      "  \u001b[31m   \u001b[0m copying pandas/tests/extension/json/__init__.py -> build/lib.linux-x86_64-cpython-39/pandas/tests/extension/json\n",
      "  \u001b[31m   \u001b[0m copying pandas/tests/extension/json/test_json.py -> build/lib.linux-x86_64-cpython-39/pandas/tests/extension/json\n",
      "  \u001b[31m   \u001b[0m copying pandas/tests/extension/json/array.py -> build/lib.linux-x86_64-cpython-39/pandas/tests/extension/json\n",
      "  \u001b[31m   \u001b[0m creating build/lib.linux-x86_64-cpython-39/pandas/tests/extension/arrow\n",
      "  \u001b[31m   \u001b[0m copying pandas/tests/extension/arrow/__init__.py -> build/lib.linux-x86_64-cpython-39/pandas/tests/extension/arrow\n",
      "  \u001b[31m   \u001b[0m copying pandas/tests/extension/arrow/bool.py -> build/lib.linux-x86_64-cpython-39/pandas/tests/extension/arrow\n",
      "  \u001b[31m   \u001b[0m copying pandas/tests/extension/arrow/test_bool.py -> build/lib.linux-x86_64-cpython-39/pandas/tests/extension/arrow\n",
      "  \u001b[31m   \u001b[0m creating build/lib.linux-x86_64-cpython-39/pandas/tests/extension/base\n",
      "  \u001b[31m   \u001b[0m copying pandas/tests/extension/base/__init__.py -> build/lib.linux-x86_64-cpython-39/pandas/tests/extension/base\n",
      "  \u001b[31m   \u001b[0m copying pandas/tests/extension/base/reshaping.py -> build/lib.linux-x86_64-cpython-39/pandas/tests/extension/base\n",
      "  \u001b[31m   \u001b[0m copying pandas/tests/extension/base/casting.py -> build/lib.linux-x86_64-cpython-39/pandas/tests/extension/base\n",
      "  \u001b[31m   \u001b[0m copying pandas/tests/extension/base/missing.py -> build/lib.linux-x86_64-cpython-39/pandas/tests/extension/base\n",
      "  \u001b[31m   \u001b[0m copying pandas/tests/extension/base/interface.py -> build/lib.linux-x86_64-cpython-39/pandas/tests/extension/base\n",
      "  \u001b[31m   \u001b[0m copying pandas/tests/extension/base/io.py -> build/lib.linux-x86_64-cpython-39/pandas/tests/extension/base\n",
      "  \u001b[31m   \u001b[0m copying pandas/tests/extension/base/printing.py -> build/lib.linux-x86_64-cpython-39/pandas/tests/extension/base\n",
      "  \u001b[31m   \u001b[0m copying pandas/tests/extension/base/methods.py -> build/lib.linux-x86_64-cpython-39/pandas/tests/extension/base\n",
      "  \u001b[31m   \u001b[0m copying pandas/tests/extension/base/groupby.py -> build/lib.linux-x86_64-cpython-39/pandas/tests/extension/base\n",
      "  \u001b[31m   \u001b[0m copying pandas/tests/extension/base/reduce.py -> build/lib.linux-x86_64-cpython-39/pandas/tests/extension/base\n",
      "  \u001b[31m   \u001b[0m copying pandas/tests/extension/base/getitem.py -> build/lib.linux-x86_64-cpython-39/pandas/tests/extension/base\n",
      "  \u001b[31m   \u001b[0m copying pandas/tests/extension/base/constructors.py -> build/lib.linux-x86_64-cpython-39/pandas/tests/extension/base\n",
      "  \u001b[31m   \u001b[0m copying pandas/tests/extension/base/setitem.py -> build/lib.linux-x86_64-cpython-39/pandas/tests/extension/base\n",
      "  \u001b[31m   \u001b[0m copying pandas/tests/extension/base/base.py -> build/lib.linux-x86_64-cpython-39/pandas/tests/extension/base\n",
      "  \u001b[31m   \u001b[0m copying pandas/tests/extension/base/ops.py -> build/lib.linux-x86_64-cpython-39/pandas/tests/extension/base\n",
      "  \u001b[31m   \u001b[0m copying pandas/tests/extension/base/dtype.py -> build/lib.linux-x86_64-cpython-39/pandas/tests/extension/base\n",
      "  \u001b[31m   \u001b[0m creating build/lib.linux-x86_64-cpython-39/pandas/tests/indexing/interval\n",
      "  \u001b[31m   \u001b[0m copying pandas/tests/indexing/interval/__init__.py -> build/lib.linux-x86_64-cpython-39/pandas/tests/indexing/interval\n",
      "  \u001b[31m   \u001b[0m copying pandas/tests/indexing/interval/test_interval.py -> build/lib.linux-x86_64-cpython-39/pandas/tests/indexing/interval\n",
      "  \u001b[31m   \u001b[0m copying pandas/tests/indexing/interval/test_interval_new.py -> build/lib.linux-x86_64-cpython-39/pandas/tests/indexing/interval\n",
      "  \u001b[31m   \u001b[0m creating build/lib.linux-x86_64-cpython-39/pandas/tests/indexing/multiindex\n",
      "  \u001b[31m   \u001b[0m copying pandas/tests/indexing/multiindex/__init__.py -> build/lib.linux-x86_64-cpython-39/pandas/tests/indexing/multiindex\n",
      "  \u001b[31m   \u001b[0m copying pandas/tests/indexing/multiindex/test_loc.py -> build/lib.linux-x86_64-cpython-39/pandas/tests/indexing/multiindex\n",
      "  \u001b[31m   \u001b[0m copying pandas/tests/indexing/multiindex/test_slice.py -> build/lib.linux-x86_64-cpython-39/pandas/tests/indexing/multiindex\n",
      "  \u001b[31m   \u001b[0m copying pandas/tests/indexing/multiindex/test_iloc.py -> build/lib.linux-x86_64-cpython-39/pandas/tests/indexing/multiindex\n",
      "  \u001b[31m   \u001b[0m copying pandas/tests/indexing/multiindex/test_sorted.py -> build/lib.linux-x86_64-cpython-39/pandas/tests/indexing/multiindex\n",
      "  \u001b[31m   \u001b[0m copying pandas/tests/indexing/multiindex/test_partial.py -> build/lib.linux-x86_64-cpython-39/pandas/tests/indexing/multiindex\n",
      "  \u001b[31m   \u001b[0m copying pandas/tests/indexing/multiindex/test_ix.py -> build/lib.linux-x86_64-cpython-39/pandas/tests/indexing/multiindex\n",
      "  \u001b[31m   \u001b[0m copying pandas/tests/indexing/multiindex/test_setitem.py -> build/lib.linux-x86_64-cpython-39/pandas/tests/indexing/multiindex\n",
      "  \u001b[31m   \u001b[0m copying pandas/tests/indexing/multiindex/test_panel.py -> build/lib.linux-x86_64-cpython-39/pandas/tests/indexing/multiindex\n",
      "  \u001b[31m   \u001b[0m copying pandas/tests/indexing/multiindex/conftest.py -> build/lib.linux-x86_64-cpython-39/pandas/tests/indexing/multiindex\n",
      "  \u001b[31m   \u001b[0m copying pandas/tests/indexing/multiindex/test_chaining_and_caching.py -> build/lib.linux-x86_64-cpython-39/pandas/tests/indexing/multiindex\n",
      "  \u001b[31m   \u001b[0m copying pandas/tests/indexing/multiindex/test_multiindex.py -> build/lib.linux-x86_64-cpython-39/pandas/tests/indexing/multiindex\n",
      "  \u001b[31m   \u001b[0m copying pandas/tests/indexing/multiindex/test_indexing_slow.py -> build/lib.linux-x86_64-cpython-39/pandas/tests/indexing/multiindex\n",
      "  \u001b[31m   \u001b[0m copying pandas/tests/indexing/multiindex/test_getitem.py -> build/lib.linux-x86_64-cpython-39/pandas/tests/indexing/multiindex\n",
      "  \u001b[31m   \u001b[0m copying pandas/tests/indexing/multiindex/test_set_ops.py -> build/lib.linux-x86_64-cpython-39/pandas/tests/indexing/multiindex\n",
      "  \u001b[31m   \u001b[0m copying pandas/tests/indexing/multiindex/test_xs.py -> build/lib.linux-x86_64-cpython-39/pandas/tests/indexing/multiindex\n",
      "  \u001b[31m   \u001b[0m copying pandas/tests/indexing/multiindex/test_datetime.py -> build/lib.linux-x86_64-cpython-39/pandas/tests/indexing/multiindex\n",
      "  \u001b[31m   \u001b[0m creating build/lib.linux-x86_64-cpython-39/pandas/tests/groupby/aggregate\n",
      "  \u001b[31m   \u001b[0m copying pandas/tests/groupby/aggregate/__init__.py -> build/lib.linux-x86_64-cpython-39/pandas/tests/groupby/aggregate\n",
      "  \u001b[31m   \u001b[0m copying pandas/tests/groupby/aggregate/test_aggregate.py -> build/lib.linux-x86_64-cpython-39/pandas/tests/groupby/aggregate\n",
      "  \u001b[31m   \u001b[0m copying pandas/tests/groupby/aggregate/test_other.py -> build/lib.linux-x86_64-cpython-39/pandas/tests/groupby/aggregate\n",
      "  \u001b[31m   \u001b[0m copying pandas/tests/groupby/aggregate/test_cython.py -> build/lib.linux-x86_64-cpython-39/pandas/tests/groupby/aggregate\n",
      "  \u001b[31m   \u001b[0m creating build/lib.linux-x86_64-cpython-39/pandas/io/clipboard\n",
      "  \u001b[31m   \u001b[0m copying pandas/io/clipboard/__init__.py -> build/lib.linux-x86_64-cpython-39/pandas/io/clipboard\n",
      "  \u001b[31m   \u001b[0m copying pandas/io/clipboard/clipboards.py -> build/lib.linux-x86_64-cpython-39/pandas/io/clipboard\n",
      "  \u001b[31m   \u001b[0m copying pandas/io/clipboard/exceptions.py -> build/lib.linux-x86_64-cpython-39/pandas/io/clipboard\n",
      "  \u001b[31m   \u001b[0m copying pandas/io/clipboard/windows.py -> build/lib.linux-x86_64-cpython-39/pandas/io/clipboard\n",
      "  \u001b[31m   \u001b[0m creating build/lib.linux-x86_64-cpython-39/pandas/io/msgpack\n",
      "  \u001b[31m   \u001b[0m copying pandas/io/msgpack/__init__.py -> build/lib.linux-x86_64-cpython-39/pandas/io/msgpack\n",
      "  \u001b[31m   \u001b[0m copying pandas/io/msgpack/_version.py -> build/lib.linux-x86_64-cpython-39/pandas/io/msgpack\n",
      "  \u001b[31m   \u001b[0m copying pandas/io/msgpack/exceptions.py -> build/lib.linux-x86_64-cpython-39/pandas/io/msgpack\n",
      "  \u001b[31m   \u001b[0m creating build/lib.linux-x86_64-cpython-39/pandas/io/json\n",
      "  \u001b[31m   \u001b[0m copying pandas/io/json/__init__.py -> build/lib.linux-x86_64-cpython-39/pandas/io/json\n",
      "  \u001b[31m   \u001b[0m copying pandas/io/json/table_schema.py -> build/lib.linux-x86_64-cpython-39/pandas/io/json\n",
      "  \u001b[31m   \u001b[0m copying pandas/io/json/json.py -> build/lib.linux-x86_64-cpython-39/pandas/io/json\n",
      "  \u001b[31m   \u001b[0m copying pandas/io/json/normalize.py -> build/lib.linux-x86_64-cpython-39/pandas/io/json\n",
      "  \u001b[31m   \u001b[0m creating build/lib.linux-x86_64-cpython-39/pandas/io/formats\n",
      "  \u001b[31m   \u001b[0m copying pandas/io/formats/__init__.py -> build/lib.linux-x86_64-cpython-39/pandas/io/formats\n",
      "  \u001b[31m   \u001b[0m copying pandas/io/formats/terminal.py -> build/lib.linux-x86_64-cpython-39/pandas/io/formats\n",
      "  \u001b[31m   \u001b[0m copying pandas/io/formats/latex.py -> build/lib.linux-x86_64-cpython-39/pandas/io/formats\n",
      "  \u001b[31m   \u001b[0m copying pandas/io/formats/csvs.py -> build/lib.linux-x86_64-cpython-39/pandas/io/formats\n",
      "  \u001b[31m   \u001b[0m copying pandas/io/formats/excel.py -> build/lib.linux-x86_64-cpython-39/pandas/io/formats\n",
      "  \u001b[31m   \u001b[0m copying pandas/io/formats/html.py -> build/lib.linux-x86_64-cpython-39/pandas/io/formats\n",
      "  \u001b[31m   \u001b[0m copying pandas/io/formats/style.py -> build/lib.linux-x86_64-cpython-39/pandas/io/formats\n",
      "  \u001b[31m   \u001b[0m copying pandas/io/formats/format.py -> build/lib.linux-x86_64-cpython-39/pandas/io/formats\n",
      "  \u001b[31m   \u001b[0m copying pandas/io/formats/printing.py -> build/lib.linux-x86_64-cpython-39/pandas/io/formats\n",
      "  \u001b[31m   \u001b[0m copying pandas/io/formats/console.py -> build/lib.linux-x86_64-cpython-39/pandas/io/formats\n",
      "  \u001b[31m   \u001b[0m copying pandas/io/formats/css.py -> build/lib.linux-x86_64-cpython-39/pandas/io/formats\n",
      "  \u001b[31m   \u001b[0m creating build/lib.linux-x86_64-cpython-39/pandas/io/sas\n",
      "  \u001b[31m   \u001b[0m copying pandas/io/sas/__init__.py -> build/lib.linux-x86_64-cpython-39/pandas/io/sas\n",
      "  \u001b[31m   \u001b[0m copying pandas/io/sas/sasreader.py -> build/lib.linux-x86_64-cpython-39/pandas/io/sas\n",
      "  \u001b[31m   \u001b[0m copying pandas/io/sas/sas_xport.py -> build/lib.linux-x86_64-cpython-39/pandas/io/sas\n",
      "  \u001b[31m   \u001b[0m copying pandas/io/sas/sas_constants.py -> build/lib.linux-x86_64-cpython-39/pandas/io/sas\n",
      "  \u001b[31m   \u001b[0m copying pandas/io/sas/sas7bdat.py -> build/lib.linux-x86_64-cpython-39/pandas/io/sas\n",
      "  \u001b[31m   \u001b[0m creating build/lib.linux-x86_64-cpython-39/pandas/core/reshape\n",
      "  \u001b[31m   \u001b[0m copying pandas/core/reshape/__init__.py -> build/lib.linux-x86_64-cpython-39/pandas/core/reshape\n",
      "  \u001b[31m   \u001b[0m copying pandas/core/reshape/tile.py -> build/lib.linux-x86_64-cpython-39/pandas/core/reshape\n",
      "  \u001b[31m   \u001b[0m copying pandas/core/reshape/reshape.py -> build/lib.linux-x86_64-cpython-39/pandas/core/reshape\n",
      "  \u001b[31m   \u001b[0m copying pandas/core/reshape/api.py -> build/lib.linux-x86_64-cpython-39/pandas/core/reshape\n",
      "  \u001b[31m   \u001b[0m copying pandas/core/reshape/pivot.py -> build/lib.linux-x86_64-cpython-39/pandas/core/reshape\n",
      "  \u001b[31m   \u001b[0m copying pandas/core/reshape/util.py -> build/lib.linux-x86_64-cpython-39/pandas/core/reshape\n",
      "  \u001b[31m   \u001b[0m copying pandas/core/reshape/concat.py -> build/lib.linux-x86_64-cpython-39/pandas/core/reshape\n",
      "  \u001b[31m   \u001b[0m copying pandas/core/reshape/melt.py -> build/lib.linux-x86_64-cpython-39/pandas/core/reshape\n",
      "  \u001b[31m   \u001b[0m copying pandas/core/reshape/merge.py -> build/lib.linux-x86_64-cpython-39/pandas/core/reshape\n",
      "  \u001b[31m   \u001b[0m creating build/lib.linux-x86_64-cpython-39/pandas/core/util\n",
      "  \u001b[31m   \u001b[0m copying pandas/core/util/__init__.py -> build/lib.linux-x86_64-cpython-39/pandas/core/util\n",
      "  \u001b[31m   \u001b[0m copying pandas/core/util/hashing.py -> build/lib.linux-x86_64-cpython-39/pandas/core/util\n",
      "  \u001b[31m   \u001b[0m creating build/lib.linux-x86_64-cpython-39/pandas/core/sparse\n",
      "  \u001b[31m   \u001b[0m copying pandas/core/sparse/__init__.py -> build/lib.linux-x86_64-cpython-39/pandas/core/sparse\n",
      "  \u001b[31m   \u001b[0m copying pandas/core/sparse/scipy_sparse.py -> build/lib.linux-x86_64-cpython-39/pandas/core/sparse\n",
      "  \u001b[31m   \u001b[0m copying pandas/core/sparse/api.py -> build/lib.linux-x86_64-cpython-39/pandas/core/sparse\n",
      "  \u001b[31m   \u001b[0m copying pandas/core/sparse/series.py -> build/lib.linux-x86_64-cpython-39/pandas/core/sparse\n",
      "  \u001b[31m   \u001b[0m copying pandas/core/sparse/frame.py -> build/lib.linux-x86_64-cpython-39/pandas/core/sparse\n",
      "  \u001b[31m   \u001b[0m creating build/lib.linux-x86_64-cpython-39/pandas/core/internals\n",
      "  \u001b[31m   \u001b[0m copying pandas/core/internals/__init__.py -> build/lib.linux-x86_64-cpython-39/pandas/core/internals\n",
      "  \u001b[31m   \u001b[0m copying pandas/core/internals/blocks.py -> build/lib.linux-x86_64-cpython-39/pandas/core/internals\n",
      "  \u001b[31m   \u001b[0m copying pandas/core/internals/construction.py -> build/lib.linux-x86_64-cpython-39/pandas/core/internals\n",
      "  \u001b[31m   \u001b[0m copying pandas/core/internals/arrays.py -> build/lib.linux-x86_64-cpython-39/pandas/core/internals\n",
      "  \u001b[31m   \u001b[0m copying pandas/core/internals/managers.py -> build/lib.linux-x86_64-cpython-39/pandas/core/internals\n",
      "  \u001b[31m   \u001b[0m copying pandas/core/internals/concat.py -> build/lib.linux-x86_64-cpython-39/pandas/core/internals\n",
      "  \u001b[31m   \u001b[0m creating build/lib.linux-x86_64-cpython-39/pandas/core/indexes\n",
      "  \u001b[31m   \u001b[0m copying pandas/core/indexes/__init__.py -> build/lib.linux-x86_64-cpython-39/pandas/core/indexes\n",
      "  \u001b[31m   \u001b[0m copying pandas/core/indexes/datetimes.py -> build/lib.linux-x86_64-cpython-39/pandas/core/indexes\n",
      "  \u001b[31m   \u001b[0m copying pandas/core/indexes/frozen.py -> build/lib.linux-x86_64-cpython-39/pandas/core/indexes\n",
      "  \u001b[31m   \u001b[0m copying pandas/core/indexes/numeric.py -> build/lib.linux-x86_64-cpython-39/pandas/core/indexes\n",
      "  \u001b[31m   \u001b[0m copying pandas/core/indexes/accessors.py -> build/lib.linux-x86_64-cpython-39/pandas/core/indexes\n",
      "  \u001b[31m   \u001b[0m copying pandas/core/indexes/datetimelike.py -> build/lib.linux-x86_64-cpython-39/pandas/core/indexes\n",
      "  \u001b[31m   \u001b[0m copying pandas/core/indexes/api.py -> build/lib.linux-x86_64-cpython-39/pandas/core/indexes\n",
      "  \u001b[31m   \u001b[0m copying pandas/core/indexes/category.py -> build/lib.linux-x86_64-cpython-39/pandas/core/indexes\n",
      "  \u001b[31m   \u001b[0m copying pandas/core/indexes/range.py -> build/lib.linux-x86_64-cpython-39/pandas/core/indexes\n",
      "  \u001b[31m   \u001b[0m copying pandas/core/indexes/timedeltas.py -> build/lib.linux-x86_64-cpython-39/pandas/core/indexes\n",
      "  \u001b[31m   \u001b[0m copying pandas/core/indexes/interval.py -> build/lib.linux-x86_64-cpython-39/pandas/core/indexes\n",
      "  \u001b[31m   \u001b[0m copying pandas/core/indexes/period.py -> build/lib.linux-x86_64-cpython-39/pandas/core/indexes\n",
      "  \u001b[31m   \u001b[0m copying pandas/core/indexes/base.py -> build/lib.linux-x86_64-cpython-39/pandas/core/indexes\n",
      "  \u001b[31m   \u001b[0m copying pandas/core/indexes/multi.py -> build/lib.linux-x86_64-cpython-39/pandas/core/indexes\n",
      "  \u001b[31m   \u001b[0m creating build/lib.linux-x86_64-cpython-39/pandas/core/dtypes\n",
      "  \u001b[31m   \u001b[0m copying pandas/core/dtypes/__init__.py -> build/lib.linux-x86_64-cpython-39/pandas/core/dtypes\n",
      "  \u001b[31m   \u001b[0m copying pandas/core/dtypes/generic.py -> build/lib.linux-x86_64-cpython-39/pandas/core/dtypes\n",
      "  \u001b[31m   \u001b[0m copying pandas/core/dtypes/common.py -> build/lib.linux-x86_64-cpython-39/pandas/core/dtypes\n",
      "  \u001b[31m   \u001b[0m copying pandas/core/dtypes/api.py -> build/lib.linux-x86_64-cpython-39/pandas/core/dtypes\n",
      "  \u001b[31m   \u001b[0m copying pandas/core/dtypes/missing.py -> build/lib.linux-x86_64-cpython-39/pandas/core/dtypes\n",
      "  \u001b[31m   \u001b[0m copying pandas/core/dtypes/dtypes.py -> build/lib.linux-x86_64-cpython-39/pandas/core/dtypes\n",
      "  \u001b[31m   \u001b[0m copying pandas/core/dtypes/cast.py -> build/lib.linux-x86_64-cpython-39/pandas/core/dtypes\n",
      "  \u001b[31m   \u001b[0m copying pandas/core/dtypes/inference.py -> build/lib.linux-x86_64-cpython-39/pandas/core/dtypes\n",
      "  \u001b[31m   \u001b[0m copying pandas/core/dtypes/concat.py -> build/lib.linux-x86_64-cpython-39/pandas/core/dtypes\n",
      "  \u001b[31m   \u001b[0m copying pandas/core/dtypes/base.py -> build/lib.linux-x86_64-cpython-39/pandas/core/dtypes\n",
      "  \u001b[31m   \u001b[0m creating build/lib.linux-x86_64-cpython-39/pandas/core/computation\n",
      "  \u001b[31m   \u001b[0m copying pandas/core/computation/__init__.py -> build/lib.linux-x86_64-cpython-39/pandas/core/computation\n",
      "  \u001b[31m   \u001b[0m copying pandas/core/computation/pytables.py -> build/lib.linux-x86_64-cpython-39/pandas/core/computation\n",
      "  \u001b[31m   \u001b[0m copying pandas/core/computation/engines.py -> build/lib.linux-x86_64-cpython-39/pandas/core/computation\n",
      "  \u001b[31m   \u001b[0m copying pandas/core/computation/common.py -> build/lib.linux-x86_64-cpython-39/pandas/core/computation\n",
      "  \u001b[31m   \u001b[0m copying pandas/core/computation/api.py -> build/lib.linux-x86_64-cpython-39/pandas/core/computation\n",
      "  \u001b[31m   \u001b[0m copying pandas/core/computation/scope.py -> build/lib.linux-x86_64-cpython-39/pandas/core/computation\n",
      "  \u001b[31m   \u001b[0m copying pandas/core/computation/expressions.py -> build/lib.linux-x86_64-cpython-39/pandas/core/computation\n",
      "  \u001b[31m   \u001b[0m copying pandas/core/computation/eval.py -> build/lib.linux-x86_64-cpython-39/pandas/core/computation\n",
      "  \u001b[31m   \u001b[0m copying pandas/core/computation/align.py -> build/lib.linux-x86_64-cpython-39/pandas/core/computation\n",
      "  \u001b[31m   \u001b[0m copying pandas/core/computation/check.py -> build/lib.linux-x86_64-cpython-39/pandas/core/computation\n",
      "  \u001b[31m   \u001b[0m copying pandas/core/computation/expr.py -> build/lib.linux-x86_64-cpython-39/pandas/core/computation\n",
      "  \u001b[31m   \u001b[0m copying pandas/core/computation/ops.py -> build/lib.linux-x86_64-cpython-39/pandas/core/computation\n",
      "  \u001b[31m   \u001b[0m creating build/lib.linux-x86_64-cpython-39/pandas/core/arrays\n",
      "  \u001b[31m   \u001b[0m copying pandas/core/arrays/__init__.py -> build/lib.linux-x86_64-cpython-39/pandas/core/arrays\n",
      "  \u001b[31m   \u001b[0m copying pandas/core/arrays/datetimes.py -> build/lib.linux-x86_64-cpython-39/pandas/core/arrays\n",
      "  \u001b[31m   \u001b[0m copying pandas/core/arrays/numpy_.py -> build/lib.linux-x86_64-cpython-39/pandas/core/arrays\n",
      "  \u001b[31m   \u001b[0m copying pandas/core/arrays/datetimelike.py -> build/lib.linux-x86_64-cpython-39/pandas/core/arrays\n",
      "  \u001b[31m   \u001b[0m copying pandas/core/arrays/categorical.py -> build/lib.linux-x86_64-cpython-39/pandas/core/arrays\n",
      "  \u001b[31m   \u001b[0m copying pandas/core/arrays/integer.py -> build/lib.linux-x86_64-cpython-39/pandas/core/arrays\n",
      "  \u001b[31m   \u001b[0m copying pandas/core/arrays/_ranges.py -> build/lib.linux-x86_64-cpython-39/pandas/core/arrays\n",
      "  \u001b[31m   \u001b[0m copying pandas/core/arrays/sparse.py -> build/lib.linux-x86_64-cpython-39/pandas/core/arrays\n",
      "  \u001b[31m   \u001b[0m copying pandas/core/arrays/timedeltas.py -> build/lib.linux-x86_64-cpython-39/pandas/core/arrays\n",
      "  \u001b[31m   \u001b[0m copying pandas/core/arrays/interval.py -> build/lib.linux-x86_64-cpython-39/pandas/core/arrays\n",
      "  \u001b[31m   \u001b[0m copying pandas/core/arrays/period.py -> build/lib.linux-x86_64-cpython-39/pandas/core/arrays\n",
      "  \u001b[31m   \u001b[0m copying pandas/core/arrays/array_.py -> build/lib.linux-x86_64-cpython-39/pandas/core/arrays\n",
      "  \u001b[31m   \u001b[0m copying pandas/core/arrays/base.py -> build/lib.linux-x86_64-cpython-39/pandas/core/arrays\n",
      "  \u001b[31m   \u001b[0m creating build/lib.linux-x86_64-cpython-39/pandas/core/groupby\n",
      "  \u001b[31m   \u001b[0m copying pandas/core/groupby/__init__.py -> build/lib.linux-x86_64-cpython-39/pandas/core/groupby\n",
      "  \u001b[31m   \u001b[0m copying pandas/core/groupby/generic.py -> build/lib.linux-x86_64-cpython-39/pandas/core/groupby\n",
      "  \u001b[31m   \u001b[0m copying pandas/core/groupby/grouper.py -> build/lib.linux-x86_64-cpython-39/pandas/core/groupby\n",
      "  \u001b[31m   \u001b[0m copying pandas/core/groupby/categorical.py -> build/lib.linux-x86_64-cpython-39/pandas/core/groupby\n",
      "  \u001b[31m   \u001b[0m copying pandas/core/groupby/groupby.py -> build/lib.linux-x86_64-cpython-39/pandas/core/groupby\n",
      "  \u001b[31m   \u001b[0m copying pandas/core/groupby/base.py -> build/lib.linux-x86_64-cpython-39/pandas/core/groupby\n",
      "  \u001b[31m   \u001b[0m copying pandas/core/groupby/ops.py -> build/lib.linux-x86_64-cpython-39/pandas/core/groupby\n",
      "  \u001b[31m   \u001b[0m creating build/lib.linux-x86_64-cpython-39/pandas/core/tools\n",
      "  \u001b[31m   \u001b[0m copying pandas/core/tools/__init__.py -> build/lib.linux-x86_64-cpython-39/pandas/core/tools\n",
      "  \u001b[31m   \u001b[0m copying pandas/core/tools/datetimes.py -> build/lib.linux-x86_64-cpython-39/pandas/core/tools\n",
      "  \u001b[31m   \u001b[0m copying pandas/core/tools/numeric.py -> build/lib.linux-x86_64-cpython-39/pandas/core/tools\n",
      "  \u001b[31m   \u001b[0m copying pandas/core/tools/timedeltas.py -> build/lib.linux-x86_64-cpython-39/pandas/core/tools\n",
      "  \u001b[31m   \u001b[0m creating build/lib.linux-x86_64-cpython-39/pandas/compat/numpy\n",
      "  \u001b[31m   \u001b[0m copying pandas/compat/numpy/__init__.py -> build/lib.linux-x86_64-cpython-39/pandas/compat/numpy\n",
      "  \u001b[31m   \u001b[0m copying pandas/compat/numpy/function.py -> build/lib.linux-x86_64-cpython-39/pandas/compat/numpy\n",
      "  \u001b[31m   \u001b[0m creating build/lib.linux-x86_64-cpython-39/pandas/api/types\n",
      "  \u001b[31m   \u001b[0m copying pandas/api/types/__init__.py -> build/lib.linux-x86_64-cpython-39/pandas/api/types\n",
      "  \u001b[31m   \u001b[0m creating build/lib.linux-x86_64-cpython-39/pandas/api/extensions\n",
      "  \u001b[31m   \u001b[0m copying pandas/api/extensions/__init__.py -> build/lib.linux-x86_64-cpython-39/pandas/api/extensions\n",
      "  \u001b[31m   \u001b[0m creating build/lib.linux-x86_64-cpython-39/pandas/_libs/tslibs\n",
      "  \u001b[31m   \u001b[0m copying pandas/_libs/tslibs/__init__.py -> build/lib.linux-x86_64-cpython-39/pandas/_libs/tslibs\n",
      "  \u001b[31m   \u001b[0m creating build/lib.linux-x86_64-cpython-39/pandas/io/formats/templates\n",
      "  \u001b[31m   \u001b[0m copying pandas/io/formats/templates/html.tpl -> build/lib.linux-x86_64-cpython-39/pandas/io/formats/templates\n",
      "  \u001b[31m   \u001b[0m UPDATING build/lib.linux-x86_64-cpython-39/pandas/_version.py\n",
      "  \u001b[31m   \u001b[0m set build/lib.linux-x86_64-cpython-39/pandas/_version.py to '0.24.2'\n",
      "  \u001b[31m   \u001b[0m running build_ext\n",
      "  \u001b[31m   \u001b[0m building 'pandas._libs.algos' extension\n",
      "  \u001b[31m   \u001b[0m creating build/temp.linux-x86_64-cpython-39\n",
      "  \u001b[31m   \u001b[0m creating build/temp.linux-x86_64-cpython-39/pandas\n",
      "  \u001b[31m   \u001b[0m creating build/temp.linux-x86_64-cpython-39/pandas/_libs\n",
      "  \u001b[31m   \u001b[0m gcc -pthread -B /home/richard/anaconda3/compiler_compat -Wno-unused-result -Wsign-compare -DNDEBUG -O2 -Wall -fPIC -O2 -isystem /home/richard/anaconda3/include -I/home/richard/anaconda3/include -fPIC -O2 -isystem /home/richard/anaconda3/include -fPIC -I./pandas/_libs -Ipandas/_libs/src/klib -Ipandas/_libs/src -I/home/richard/anaconda3/lib/python3.9/site-packages/numpy/core/include -I/home/richard/anaconda3/include/python3.9 -c pandas/_libs/algos.c -o build/temp.linux-x86_64-cpython-39/pandas/_libs/algos.o -Wno-unused-function\n",
      "  \u001b[31m   \u001b[0m In file included from /home/richard/anaconda3/lib/python3.9/site-packages/numpy/core/include/numpy/ndarraytypes.h:1969,\n",
      "  \u001b[31m   \u001b[0m                  from /home/richard/anaconda3/lib/python3.9/site-packages/numpy/core/include/numpy/ndarrayobject.h:12,\n",
      "  \u001b[31m   \u001b[0m                  from /home/richard/anaconda3/lib/python3.9/site-packages/numpy/core/include/numpy/arrayobject.h:4,\n",
      "  \u001b[31m   \u001b[0m                  from pandas/_libs/algos.c:791:\n",
      "  \u001b[31m   \u001b[0m /home/richard/anaconda3/lib/python3.9/site-packages/numpy/core/include/numpy/npy_1_7_deprecated_api.h:17:2: warning: #warning \"Using deprecated NumPy API, disable it with \" \"#define NPY_NO_DEPRECATED_API NPY_1_7_API_VERSION\" [-Wcpp]\n",
      "  \u001b[31m   \u001b[0m    17 | #warning \"Using deprecated NumPy API, disable it with \" \\\n",
      "  \u001b[31m   \u001b[0m       |  ^~~~~~~\n",
      "  \u001b[31m   \u001b[0m gcc -pthread -B /home/richard/anaconda3/compiler_compat -shared -Wl,-rpath,/home/richard/anaconda3/lib -Wl,-rpath-link,/home/richard/anaconda3/lib -L/home/richard/anaconda3/lib -L/home/richard/anaconda3/lib -Wl,-rpath,/home/richard/anaconda3/lib -Wl,-rpath-link,/home/richard/anaconda3/lib -L/home/richard/anaconda3/lib build/temp.linux-x86_64-cpython-39/pandas/_libs/algos.o -o build/lib.linux-x86_64-cpython-39/pandas/_libs/algos.cpython-39-x86_64-linux-gnu.so\n",
      "  \u001b[31m   \u001b[0m building 'pandas._libs.groupby' extension\n",
      "  \u001b[31m   \u001b[0m gcc -pthread -B /home/richard/anaconda3/compiler_compat -Wno-unused-result -Wsign-compare -DNDEBUG -O2 -Wall -fPIC -O2 -isystem /home/richard/anaconda3/include -I/home/richard/anaconda3/include -fPIC -O2 -isystem /home/richard/anaconda3/include -fPIC -I./pandas/_libs -Ipandas/_libs/src/klib -Ipandas/_libs/src -I/home/richard/anaconda3/lib/python3.9/site-packages/numpy/core/include -I/home/richard/anaconda3/include/python3.9 -c pandas/_libs/groupby.c -o build/temp.linux-x86_64-cpython-39/pandas/_libs/groupby.o -Wno-unused-function\n",
      "  \u001b[31m   \u001b[0m In file included from /home/richard/anaconda3/lib/python3.9/site-packages/numpy/core/include/numpy/ndarraytypes.h:1969,\n",
      "  \u001b[31m   \u001b[0m                  from /home/richard/anaconda3/lib/python3.9/site-packages/numpy/core/include/numpy/ndarrayobject.h:12,\n",
      "  \u001b[31m   \u001b[0m                  from /home/richard/anaconda3/lib/python3.9/site-packages/numpy/core/include/numpy/arrayobject.h:4,\n",
      "  \u001b[31m   \u001b[0m                  from pandas/_libs/groupby.c:780:\n",
      "  \u001b[31m   \u001b[0m /home/richard/anaconda3/lib/python3.9/site-packages/numpy/core/include/numpy/npy_1_7_deprecated_api.h:17:2: warning: #warning \"Using deprecated NumPy API, disable it with \" \"#define NPY_NO_DEPRECATED_API NPY_1_7_API_VERSION\" [-Wcpp]\n",
      "  \u001b[31m   \u001b[0m    17 | #warning \"Using deprecated NumPy API, disable it with \" \\\n",
      "  \u001b[31m   \u001b[0m       |  ^~~~~~~\n",
      "  \u001b[31m   \u001b[0m pandas/_libs/groupby.c: In function ‘__pyx_pf_6pandas_5_libs_7groupby_44group_last_int64’:\n",
      "  \u001b[31m   \u001b[0m pandas/_libs/groupby.c:26898:40: warning: self-comparison always evaluates to true [-Wtautological-compare]\n",
      "  \u001b[31m   \u001b[0m 26898 |             __pyx_t_22 = ((__pyx_v_val == __pyx_v_val) != 0);\n",
      "  \u001b[31m   \u001b[0m       |                                        ^~\n",
      "  \u001b[31m   \u001b[0m pandas/_libs/groupby.c: In function ‘__pyx_pf_6pandas_5_libs_7groupby_46group_nth_int64’:\n",
      "  \u001b[31m   \u001b[0m pandas/_libs/groupby.c:27647:40: warning: self-comparison always evaluates to true [-Wtautological-compare]\n",
      "  \u001b[31m   \u001b[0m 27647 |             __pyx_t_22 = ((__pyx_v_val == __pyx_v_val) != 0);\n",
      "  \u001b[31m   \u001b[0m       |                                        ^~\n",
      "  \u001b[31m   \u001b[0m gcc -pthread -B /home/richard/anaconda3/compiler_compat -shared -Wl,-rpath,/home/richard/anaconda3/lib -Wl,-rpath-link,/home/richard/anaconda3/lib -L/home/richard/anaconda3/lib -L/home/richard/anaconda3/lib -Wl,-rpath,/home/richard/anaconda3/lib -Wl,-rpath-link,/home/richard/anaconda3/lib -L/home/richard/anaconda3/lib build/temp.linux-x86_64-cpython-39/pandas/_libs/groupby.o -o build/lib.linux-x86_64-cpython-39/pandas/_libs/groupby.cpython-39-x86_64-linux-gnu.so\n",
      "  \u001b[31m   \u001b[0m building 'pandas._libs.hashing' extension\n",
      "  \u001b[31m   \u001b[0m gcc -pthread -B /home/richard/anaconda3/compiler_compat -Wno-unused-result -Wsign-compare -DNDEBUG -O2 -Wall -fPIC -O2 -isystem /home/richard/anaconda3/include -I/home/richard/anaconda3/include -fPIC -O2 -isystem /home/richard/anaconda3/include -fPIC -I./pandas/_libs -I/home/richard/anaconda3/lib/python3.9/site-packages/numpy/core/include -I/home/richard/anaconda3/include/python3.9 -c pandas/_libs/hashing.c -o build/temp.linux-x86_64-cpython-39/pandas/_libs/hashing.o -Wno-unused-function\n",
      "  \u001b[31m   \u001b[0m In file included from /home/richard/anaconda3/lib/python3.9/site-packages/numpy/core/include/numpy/ndarraytypes.h:1969,\n",
      "  \u001b[31m   \u001b[0m                  from /home/richard/anaconda3/lib/python3.9/site-packages/numpy/core/include/numpy/ndarrayobject.h:12,\n",
      "  \u001b[31m   \u001b[0m                  from /home/richard/anaconda3/lib/python3.9/site-packages/numpy/core/include/numpy/arrayobject.h:4,\n",
      "  \u001b[31m   \u001b[0m                  from pandas/_libs/hashing.c:776:\n",
      "  \u001b[31m   \u001b[0m /home/richard/anaconda3/lib/python3.9/site-packages/numpy/core/include/numpy/npy_1_7_deprecated_api.h:17:2: warning: #warning \"Using deprecated NumPy API, disable it with \" \"#define NPY_NO_DEPRECATED_API NPY_1_7_API_VERSION\" [-Wcpp]\n",
      "  \u001b[31m   \u001b[0m    17 | #warning \"Using deprecated NumPy API, disable it with \" \\\n",
      "  \u001b[31m   \u001b[0m       |  ^~~~~~~\n",
      "  \u001b[31m   \u001b[0m gcc -pthread -B /home/richard/anaconda3/compiler_compat -shared -Wl,-rpath,/home/richard/anaconda3/lib -Wl,-rpath-link,/home/richard/anaconda3/lib -L/home/richard/anaconda3/lib -L/home/richard/anaconda3/lib -Wl,-rpath,/home/richard/anaconda3/lib -Wl,-rpath-link,/home/richard/anaconda3/lib -L/home/richard/anaconda3/lib build/temp.linux-x86_64-cpython-39/pandas/_libs/hashing.o -o build/lib.linux-x86_64-cpython-39/pandas/_libs/hashing.cpython-39-x86_64-linux-gnu.so\n",
      "  \u001b[31m   \u001b[0m building 'pandas._libs.hashtable' extension\n",
      "  \u001b[31m   \u001b[0m gcc -pthread -B /home/richard/anaconda3/compiler_compat -Wno-unused-result -Wsign-compare -DNDEBUG -O2 -Wall -fPIC -O2 -isystem /home/richard/anaconda3/include -I/home/richard/anaconda3/include -fPIC -O2 -isystem /home/richard/anaconda3/include -fPIC -I./pandas/_libs -Ipandas/_libs/src/klib -Ipandas/_libs/src -I/home/richard/anaconda3/lib/python3.9/site-packages/numpy/core/include -I/home/richard/anaconda3/include/python3.9 -c pandas/_libs/hashtable.c -o build/temp.linux-x86_64-cpython-39/pandas/_libs/hashtable.o -Wno-unused-function\n",
      "  \u001b[31m   \u001b[0m In file included from /home/richard/anaconda3/lib/python3.9/site-packages/numpy/core/include/numpy/ndarraytypes.h:1969,\n",
      "  \u001b[31m   \u001b[0m                  from /home/richard/anaconda3/lib/python3.9/site-packages/numpy/core/include/numpy/ndarrayobject.h:12,\n",
      "  \u001b[31m   \u001b[0m                  from /home/richard/anaconda3/lib/python3.9/site-packages/numpy/core/include/numpy/arrayobject.h:4,\n",
      "  \u001b[31m   \u001b[0m                  from pandas/_libs/hashtable.c:782:\n",
      "  \u001b[31m   \u001b[0m /home/richard/anaconda3/lib/python3.9/site-packages/numpy/core/include/numpy/npy_1_7_deprecated_api.h:17:2: warning: #warning \"Using deprecated NumPy API, disable it with \" \"#define NPY_NO_DEPRECATED_API NPY_1_7_API_VERSION\" [-Wcpp]\n",
      "  \u001b[31m   \u001b[0m    17 | #warning \"Using deprecated NumPy API, disable it with \" \\\n",
      "  \u001b[31m   \u001b[0m       |  ^~~~~~~\n",
      "  \u001b[31m   \u001b[0m pandas/_libs/hashtable.c: In function ‘__pyx_f_6pandas_5_libs_9hashtable_13Float64Vector_resize’:\n",
      "  \u001b[31m   \u001b[0m pandas/_libs/hashtable.c:4285:19: warning: comparison of integer expressions of different signedness: ‘size_t’ {aka ‘long unsigned int’} and ‘Py_ssize_t’ {aka ‘long int’} [-Wsign-compare]\n",
      "  \u001b[31m   \u001b[0m  4285 |   if (((__pyx_t_1 > __pyx_t_2) != 0)) {\n",
      "  \u001b[31m   \u001b[0m       |                   ^\n",
      "  \u001b[31m   \u001b[0m pandas/_libs/hashtable.c: In function ‘__pyx_f_6pandas_5_libs_9hashtable_12UInt64Vector_resize’:\n",
      "  \u001b[31m   \u001b[0m pandas/_libs/hashtable.c:5211:19: warning: comparison of integer expressions of different signedness: ‘size_t’ {aka ‘long unsigned int’} and ‘Py_ssize_t’ {aka ‘long int’} [-Wsign-compare]\n",
      "  \u001b[31m   \u001b[0m  5211 |   if (((__pyx_t_1 > __pyx_t_2) != 0)) {\n",
      "  \u001b[31m   \u001b[0m       |                   ^\n",
      "  \u001b[31m   \u001b[0m pandas/_libs/hashtable.c: In function ‘__pyx_f_6pandas_5_libs_9hashtable_12StringVector_resize’:\n",
      "  \u001b[31m   \u001b[0m pandas/_libs/hashtable.c:7054:19: warning: comparison of integer expressions of different signedness: ‘size_t’ {aka ‘long unsigned int’} and ‘Py_ssize_t’ {aka ‘long int’} [-Wsign-compare]\n",
      "  \u001b[31m   \u001b[0m  7054 |   if (((__pyx_t_2 > __pyx_t_1) != 0)) {\n",
      "  \u001b[31m   \u001b[0m       |                   ^\n",
      "  \u001b[31m   \u001b[0m pandas/_libs/hashtable.c: In function ‘__pyx_f_6pandas_5_libs_9hashtable_12ObjectVector_append’:\n",
      "  \u001b[31m   \u001b[0m pandas/_libs/hashtable.c:7990:21: warning: comparison of integer expressions of different signedness: ‘size_t’ {aka ‘long unsigned int’} and ‘Py_ssize_t’ {aka ‘long int’} [-Wsign-compare]\n",
      "  \u001b[31m   \u001b[0m  7990 |     if (((__pyx_t_3 > __pyx_t_4) != 0)) {\n",
      "  \u001b[31m   \u001b[0m       |                     ^\n",
      "  \u001b[31m   \u001b[0m pandas/_libs/hashtable.c: In function ‘__pyx_pf_6pandas_5_libs_9hashtable_15UInt64HashTable_20_unique’:\n",
      "  \u001b[31m   \u001b[0m pandas/_libs/hashtable.c:14678:38: warning: self-comparison always evaluates to false [-Wtautological-compare]\n",
      "  \u001b[31m   \u001b[0m 14678 |           __pyx_t_15 = ((__pyx_v_val != __pyx_v_val) != 0);\n",
      "  \u001b[31m   \u001b[0m       |                                      ^~\n",
      "  \u001b[31m   \u001b[0m pandas/_libs/hashtable.c: In function ‘__pyx_pf_6pandas_5_libs_9hashtable_14Int64HashTable_20_unique’:\n",
      "  \u001b[31m   \u001b[0m pandas/_libs/hashtable.c:18479:38: warning: self-comparison always evaluates to false [-Wtautological-compare]\n",
      "  \u001b[31m   \u001b[0m 18479 |           __pyx_t_15 = ((__pyx_v_val != __pyx_v_val) != 0);\n",
      "  \u001b[31m   \u001b[0m       |                                      ^~\n",
      "  \u001b[31m   \u001b[0m pandas/_libs/hashtable.c: In function ‘__pyx_pf_6pandas_5_libs_9hashtable_15StringHashTable_12lookup’:\n",
      "  \u001b[31m   \u001b[0m pandas/_libs/hashtable.c:21703:31: warning: assignment discards ‘const’ qualifier from pointer target type [-Wdiscarded-qualifiers]\n",
      "  \u001b[31m   \u001b[0m 21703 |     (__pyx_v_vecs[__pyx_v_i]) = __pyx_v_v;\n",
      "  \u001b[31m   \u001b[0m       |                               ^\n",
      "  \u001b[31m   \u001b[0m pandas/_libs/hashtable.c: In function ‘__pyx_pf_6pandas_5_libs_9hashtable_4ismember_float64’:\n",
      "  \u001b[31m   \u001b[0m pandas/_libs/hashtable.c:28504:19: warning: comparison of integer expressions of different signedness: ‘size_t’ {aka ‘long unsigned int’} and ‘Py_ssize_t’ {aka ‘long int’} [-Wsign-compare]\n",
      "  \u001b[31m   \u001b[0m 28504 |   if (((__pyx_t_1 < __pyx_t_2) != 0)) {\n",
      "  \u001b[31m   \u001b[0m       |                   ^\n",
      "  \u001b[31m   \u001b[0m pandas/_libs/hashtable.c: In function ‘__pyx_pf_6pandas_5_libs_9hashtable_10ismember_uint64’:\n",
      "  \u001b[31m   \u001b[0m pandas/_libs/hashtable.c:30194:19: warning: comparison of integer expressions of different signedness: ‘size_t’ {aka ‘long unsigned int’} and ‘Py_ssize_t’ {aka ‘long int’} [-Wsign-compare]\n",
      "  \u001b[31m   \u001b[0m 30194 |   if (((__pyx_t_1 < __pyx_t_2) != 0)) {\n",
      "  \u001b[31m   \u001b[0m       |                   ^\n",
      "  \u001b[31m   \u001b[0m pandas/_libs/hashtable.c: In function ‘__pyx_pf_6pandas_5_libs_9hashtable_22ismember_int64’:\n",
      "  \u001b[31m   \u001b[0m pandas/_libs/hashtable.c:33447:19: warning: comparison of integer expressions of different signedness: ‘size_t’ {aka ‘long unsigned int’} and ‘Py_ssize_t’ {aka ‘long int’} [-Wsign-compare]\n",
      "  \u001b[31m   \u001b[0m 33447 |   if (((__pyx_t_1 < __pyx_t_2) != 0)) {\n",
      "  \u001b[31m   \u001b[0m       |                   ^\n",
      "  \u001b[31m   \u001b[0m gcc -pthread -B /home/richard/anaconda3/compiler_compat -shared -Wl,-rpath,/home/richard/anaconda3/lib -Wl,-rpath-link,/home/richard/anaconda3/lib -L/home/richard/anaconda3/lib -L/home/richard/anaconda3/lib -Wl,-rpath,/home/richard/anaconda3/lib -Wl,-rpath-link,/home/richard/anaconda3/lib -L/home/richard/anaconda3/lib build/temp.linux-x86_64-cpython-39/pandas/_libs/hashtable.o -o build/lib.linux-x86_64-cpython-39/pandas/_libs/hashtable.cpython-39-x86_64-linux-gnu.so\n",
      "  \u001b[31m   \u001b[0m building 'pandas._libs.index' extension\n",
      "  \u001b[31m   \u001b[0m creating build/temp.linux-x86_64-cpython-39/pandas/_libs/tslibs\n",
      "  \u001b[31m   \u001b[0m creating build/temp.linux-x86_64-cpython-39/pandas/_libs/tslibs/src\n",
      "  \u001b[31m   \u001b[0m creating build/temp.linux-x86_64-cpython-39/pandas/_libs/tslibs/src/datetime\n",
      "  \u001b[31m   \u001b[0m gcc -pthread -B /home/richard/anaconda3/compiler_compat -Wno-unused-result -Wsign-compare -DNDEBUG -O2 -Wall -fPIC -O2 -isystem /home/richard/anaconda3/include -I/home/richard/anaconda3/include -fPIC -O2 -isystem /home/richard/anaconda3/include -fPIC -I./pandas/_libs/tslibs -I./pandas/_libs -Ipandas/_libs/src/klib -Ipandas/_libs/src -Ipandas/_libs/tslibs/src -Ipandas/_libs/tslibs -I/home/richard/anaconda3/lib/python3.9/site-packages/numpy/core/include -I/home/richard/anaconda3/include/python3.9 -c pandas/_libs/index.c -o build/temp.linux-x86_64-cpython-39/pandas/_libs/index.o -Wno-unused-function\n",
      "  \u001b[31m   \u001b[0m In file included from /home/richard/anaconda3/lib/python3.9/site-packages/numpy/core/include/numpy/ndarraytypes.h:1969,\n",
      "  \u001b[31m   \u001b[0m                  from /home/richard/anaconda3/lib/python3.9/site-packages/numpy/core/include/numpy/ndarrayobject.h:12,\n",
      "  \u001b[31m   \u001b[0m                  from /home/richard/anaconda3/lib/python3.9/site-packages/numpy/core/include/numpy/arrayobject.h:4,\n",
      "  \u001b[31m   \u001b[0m                  from pandas/_libs/index.c:785:\n",
      "  \u001b[31m   \u001b[0m /home/richard/anaconda3/lib/python3.9/site-packages/numpy/core/include/numpy/npy_1_7_deprecated_api.h:17:2: warning: #warning \"Using deprecated NumPy API, disable it with \" \"#define NPY_NO_DEPRECATED_API NPY_1_7_API_VERSION\" [-Wcpp]\n",
      "  \u001b[31m   \u001b[0m    17 | #warning \"Using deprecated NumPy API, disable it with \" \\\n",
      "  \u001b[31m   \u001b[0m       |  ^~~~~~~\n",
      "  \u001b[31m   \u001b[0m pandas/_libs/index.c: In function ‘__pyx_f_6pandas_5_libs_5index_11IndexEngine_get_loc’:\n",
      "  \u001b[31m   \u001b[0m pandas/_libs/index.c:699:40: warning: ‘__pyx_v_mid’ may be used uninitialized [-Wmaybe-uninitialized]\n",
      "  \u001b[31m   \u001b[0m   699 |   #define PyInt_FromSsize_t            PyLong_FromSsize_t\n",
      "  \u001b[31m   \u001b[0m       |                                        ^~~~~~~~~~~~~~~~~~\n",
      "  \u001b[31m   \u001b[0m pandas/_libs/index.c:10260:14: note: ‘__pyx_v_mid’ was declared here\n",
      "  \u001b[31m   \u001b[0m 10260 |   Py_ssize_t __pyx_v_mid;\n",
      "  \u001b[31m   \u001b[0m       |              ^~~~~~~~~~~\n",
      "  \u001b[31m   \u001b[0m gcc -pthread -B /home/richard/anaconda3/compiler_compat -Wno-unused-result -Wsign-compare -DNDEBUG -O2 -Wall -fPIC -O2 -isystem /home/richard/anaconda3/include -I/home/richard/anaconda3/include -fPIC -O2 -isystem /home/richard/anaconda3/include -fPIC -I./pandas/_libs/tslibs -I./pandas/_libs -Ipandas/_libs/src/klib -Ipandas/_libs/src -Ipandas/_libs/tslibs/src -Ipandas/_libs/tslibs -I/home/richard/anaconda3/lib/python3.9/site-packages/numpy/core/include -I/home/richard/anaconda3/include/python3.9 -c pandas/_libs/tslibs/src/datetime/np_datetime.c -o build/temp.linux-x86_64-cpython-39/pandas/_libs/tslibs/src/datetime/np_datetime.o -Wno-unused-function\n",
      "  \u001b[31m   \u001b[0m In file included from pandas/_libs/tslibs/src/datetime/np_datetime.c:24:\n",
      "  \u001b[31m   \u001b[0m /home/richard/anaconda3/include/python3.9/datetime.h:189:25: warning: ‘PyDateTimeAPI’ defined but not used [-Wunused-variable]\n",
      "  \u001b[31m   \u001b[0m   189 | static PyDateTime_CAPI *PyDateTimeAPI = NULL;\n",
      "  \u001b[31m   \u001b[0m       |                         ^~~~~~~~~~~~~\n",
      "  \u001b[31m   \u001b[0m gcc -pthread -B /home/richard/anaconda3/compiler_compat -Wno-unused-result -Wsign-compare -DNDEBUG -O2 -Wall -fPIC -O2 -isystem /home/richard/anaconda3/include -I/home/richard/anaconda3/include -fPIC -O2 -isystem /home/richard/anaconda3/include -fPIC -I./pandas/_libs/tslibs -I./pandas/_libs -Ipandas/_libs/src/klib -Ipandas/_libs/src -Ipandas/_libs/tslibs/src -Ipandas/_libs/tslibs -I/home/richard/anaconda3/lib/python3.9/site-packages/numpy/core/include -I/home/richard/anaconda3/include/python3.9 -c pandas/_libs/tslibs/src/datetime/np_datetime_strings.c -o build/temp.linux-x86_64-cpython-39/pandas/_libs/tslibs/src/datetime/np_datetime_strings.o -Wno-unused-function\n",
      "  \u001b[31m   \u001b[0m In file included from pandas/_libs/tslibs/src/datetime/np_datetime.h:25,\n",
      "  \u001b[31m   \u001b[0m                  from pandas/_libs/tslibs/src/datetime/np_datetime_strings.c:37:\n",
      "  \u001b[31m   \u001b[0m /home/richard/anaconda3/include/python3.9/datetime.h:189:25: warning: ‘PyDateTimeAPI’ defined but not used [-Wunused-variable]\n",
      "  \u001b[31m   \u001b[0m   189 | static PyDateTime_CAPI *PyDateTimeAPI = NULL;\n",
      "  \u001b[31m   \u001b[0m       |                         ^~~~~~~~~~~~~\n",
      "  \u001b[31m   \u001b[0m gcc -pthread -B /home/richard/anaconda3/compiler_compat -shared -Wl,-rpath,/home/richard/anaconda3/lib -Wl,-rpath-link,/home/richard/anaconda3/lib -L/home/richard/anaconda3/lib -L/home/richard/anaconda3/lib -Wl,-rpath,/home/richard/anaconda3/lib -Wl,-rpath-link,/home/richard/anaconda3/lib -L/home/richard/anaconda3/lib build/temp.linux-x86_64-cpython-39/pandas/_libs/index.o build/temp.linux-x86_64-cpython-39/pandas/_libs/tslibs/src/datetime/np_datetime.o build/temp.linux-x86_64-cpython-39/pandas/_libs/tslibs/src/datetime/np_datetime_strings.o -o build/lib.linux-x86_64-cpython-39/pandas/_libs/index.cpython-39-x86_64-linux-gnu.so\n",
      "  \u001b[31m   \u001b[0m building 'pandas._libs.indexing' extension\n",
      "  \u001b[31m   \u001b[0m gcc -pthread -B /home/richard/anaconda3/compiler_compat -Wno-unused-result -Wsign-compare -DNDEBUG -O2 -Wall -fPIC -O2 -isystem /home/richard/anaconda3/include -I/home/richard/anaconda3/include -fPIC -O2 -isystem /home/richard/anaconda3/include -fPIC -Ipandas/_libs/src/klib -Ipandas/_libs/src -I/home/richard/anaconda3/lib/python3.9/site-packages/numpy/core/include -I/home/richard/anaconda3/include/python3.9 -c pandas/_libs/indexing.c -o build/temp.linux-x86_64-cpython-39/pandas/_libs/indexing.o -Wno-unused-function\n",
      "  \u001b[31m   \u001b[0m pandas/_libs/indexing.c: In function ‘__Pyx_modinit_type_init_code’:\n",
      "  \u001b[31m   \u001b[0m pandas/_libs/indexing.c:2812:58: error: ‘PyTypeObject’ {aka ‘struct _typeobject’} has no member named ‘tp_print’\n",
      "  \u001b[31m   \u001b[0m  2812 |   __pyx_type_6pandas_5_libs_8indexing__NDFrameIndexerBase.tp_print = 0;\n",
      "  \u001b[31m   \u001b[0m       |                                                          ^\n",
      "  \u001b[31m   \u001b[0m pandas/_libs/indexing.c: In function ‘__Pyx_ParseOptionalKeywords’:\n",
      "  \u001b[31m   \u001b[0m pandas/_libs/indexing.c:3199:21: warning: ‘_PyUnicode_get_wstr_length’ is deprecated [-Wdeprecated-declarations]\n",
      "  \u001b[31m   \u001b[0m  3199 |                     (PyUnicode_GET_SIZE(**name) != PyUnicode_GET_SIZE(key)) ? 1 :\n",
      "  \u001b[31m   \u001b[0m       |                     ^\n",
      "  \u001b[31m   \u001b[0m In file included from /home/richard/anaconda3/include/python3.9/unicodeobject.h:1026,\n",
      "  \u001b[31m   \u001b[0m                  from /home/richard/anaconda3/include/python3.9/Python.h:93,\n",
      "  \u001b[31m   \u001b[0m                  from pandas/_libs/indexing.c:25:\n",
      "  \u001b[31m   \u001b[0m /home/richard/anaconda3/include/python3.9/cpython/unicodeobject.h:446:26: note: declared here\n",
      "  \u001b[31m   \u001b[0m   446 | static inline Py_ssize_t _PyUnicode_get_wstr_length(PyObject *op) {\n",
      "  \u001b[31m   \u001b[0m       |                          ^~~~~~~~~~~~~~~~~~~~~~~~~~\n",
      "  \u001b[31m   \u001b[0m pandas/_libs/indexing.c:3199:21: warning: ‘PyUnicode_AsUnicode’ is deprecated [-Wdeprecated-declarations]\n",
      "  \u001b[31m   \u001b[0m  3199 |                     (PyUnicode_GET_SIZE(**name) != PyUnicode_GET_SIZE(key)) ? 1 :\n",
      "  \u001b[31m   \u001b[0m       |                     ^\n",
      "  \u001b[31m   \u001b[0m In file included from /home/richard/anaconda3/include/python3.9/unicodeobject.h:1026,\n",
      "  \u001b[31m   \u001b[0m                  from /home/richard/anaconda3/include/python3.9/Python.h:93,\n",
      "  \u001b[31m   \u001b[0m                  from pandas/_libs/indexing.c:25:\n",
      "  \u001b[31m   \u001b[0m /home/richard/anaconda3/include/python3.9/cpython/unicodeobject.h:580:45: note: declared here\n",
      "  \u001b[31m   \u001b[0m   580 | Py_DEPRECATED(3.3) PyAPI_FUNC(Py_UNICODE *) PyUnicode_AsUnicode(\n",
      "  \u001b[31m   \u001b[0m       |                                             ^~~~~~~~~~~~~~~~~~~\n",
      "  \u001b[31m   \u001b[0m pandas/_libs/indexing.c:3199:21: warning: ‘_PyUnicode_get_wstr_length’ is deprecated [-Wdeprecated-declarations]\n",
      "  \u001b[31m   \u001b[0m  3199 |                     (PyUnicode_GET_SIZE(**name) != PyUnicode_GET_SIZE(key)) ? 1 :\n",
      "  \u001b[31m   \u001b[0m       |                     ^\n",
      "  \u001b[31m   \u001b[0m In file included from /home/richard/anaconda3/include/python3.9/unicodeobject.h:1026,\n",
      "  \u001b[31m   \u001b[0m                  from /home/richard/anaconda3/include/python3.9/Python.h:93,\n",
      "  \u001b[31m   \u001b[0m                  from pandas/_libs/indexing.c:25:\n",
      "  \u001b[31m   \u001b[0m /home/richard/anaconda3/include/python3.9/cpython/unicodeobject.h:446:26: note: declared here\n",
      "  \u001b[31m   \u001b[0m   446 | static inline Py_ssize_t _PyUnicode_get_wstr_length(PyObject *op) {\n",
      "  \u001b[31m   \u001b[0m       |                          ^~~~~~~~~~~~~~~~~~~~~~~~~~\n",
      "  \u001b[31m   \u001b[0m pandas/_libs/indexing.c:3199:21: warning: ‘_PyUnicode_get_wstr_length’ is deprecated [-Wdeprecated-declarations]\n",
      "  \u001b[31m   \u001b[0m  3199 |                     (PyUnicode_GET_SIZE(**name) != PyUnicode_GET_SIZE(key)) ? 1 :\n",
      "  \u001b[31m   \u001b[0m       |                     ^\n",
      "  \u001b[31m   \u001b[0m In file included from /home/richard/anaconda3/include/python3.9/unicodeobject.h:1026,\n",
      "  \u001b[31m   \u001b[0m                  from /home/richard/anaconda3/include/python3.9/Python.h:93,\n",
      "  \u001b[31m   \u001b[0m                  from pandas/_libs/indexing.c:25:\n",
      "  \u001b[31m   \u001b[0m /home/richard/anaconda3/include/python3.9/cpython/unicodeobject.h:446:26: note: declared here\n",
      "  \u001b[31m   \u001b[0m   446 | static inline Py_ssize_t _PyUnicode_get_wstr_length(PyObject *op) {\n",
      "  \u001b[31m   \u001b[0m       |                          ^~~~~~~~~~~~~~~~~~~~~~~~~~\n",
      "  \u001b[31m   \u001b[0m pandas/_libs/indexing.c:3199:21: warning: ‘PyUnicode_AsUnicode’ is deprecated [-Wdeprecated-declarations]\n",
      "  \u001b[31m   \u001b[0m  3199 |                     (PyUnicode_GET_SIZE(**name) != PyUnicode_GET_SIZE(key)) ? 1 :\n",
      "  \u001b[31m   \u001b[0m       |                     ^\n",
      "  \u001b[31m   \u001b[0m In file included from /home/richard/anaconda3/include/python3.9/unicodeobject.h:1026,\n",
      "  \u001b[31m   \u001b[0m                  from /home/richard/anaconda3/include/python3.9/Python.h:93,\n",
      "  \u001b[31m   \u001b[0m                  from pandas/_libs/indexing.c:25:\n",
      "  \u001b[31m   \u001b[0m /home/richard/anaconda3/include/python3.9/cpython/unicodeobject.h:580:45: note: declared here\n",
      "  \u001b[31m   \u001b[0m   580 | Py_DEPRECATED(3.3) PyAPI_FUNC(Py_UNICODE *) PyUnicode_AsUnicode(\n",
      "  \u001b[31m   \u001b[0m       |                                             ^~~~~~~~~~~~~~~~~~~\n",
      "  \u001b[31m   \u001b[0m pandas/_libs/indexing.c:3199:21: warning: ‘_PyUnicode_get_wstr_length’ is deprecated [-Wdeprecated-declarations]\n",
      "  \u001b[31m   \u001b[0m  3199 |                     (PyUnicode_GET_SIZE(**name) != PyUnicode_GET_SIZE(key)) ? 1 :\n",
      "  \u001b[31m   \u001b[0m       |                     ^\n",
      "  \u001b[31m   \u001b[0m In file included from /home/richard/anaconda3/include/python3.9/unicodeobject.h:1026,\n",
      "  \u001b[31m   \u001b[0m                  from /home/richard/anaconda3/include/python3.9/Python.h:93,\n",
      "  \u001b[31m   \u001b[0m                  from pandas/_libs/indexing.c:25:\n",
      "  \u001b[31m   \u001b[0m /home/richard/anaconda3/include/python3.9/cpython/unicodeobject.h:446:26: note: declared here\n",
      "  \u001b[31m   \u001b[0m   446 | static inline Py_ssize_t _PyUnicode_get_wstr_length(PyObject *op) {\n",
      "  \u001b[31m   \u001b[0m       |                          ^~~~~~~~~~~~~~~~~~~~~~~~~~\n",
      "  \u001b[31m   \u001b[0m pandas/_libs/indexing.c:3215:25: warning: ‘_PyUnicode_get_wstr_length’ is deprecated [-Wdeprecated-declarations]\n",
      "  \u001b[31m   \u001b[0m  3215 |                         (PyUnicode_GET_SIZE(**argname) != PyUnicode_GET_SIZE(key)) ? 1 :\n",
      "  \u001b[31m   \u001b[0m       |                         ^\n",
      "  \u001b[31m   \u001b[0m In file included from /home/richard/anaconda3/include/python3.9/unicodeobject.h:1026,\n",
      "  \u001b[31m   \u001b[0m                  from /home/richard/anaconda3/include/python3.9/Python.h:93,\n",
      "  \u001b[31m   \u001b[0m                  from pandas/_libs/indexing.c:25:\n",
      "  \u001b[31m   \u001b[0m /home/richard/anaconda3/include/python3.9/cpython/unicodeobject.h:446:26: note: declared here\n",
      "  \u001b[31m   \u001b[0m   446 | static inline Py_ssize_t _PyUnicode_get_wstr_length(PyObject *op) {\n",
      "  \u001b[31m   \u001b[0m       |                          ^~~~~~~~~~~~~~~~~~~~~~~~~~\n",
      "  \u001b[31m   \u001b[0m pandas/_libs/indexing.c:3215:25: warning: ‘PyUnicode_AsUnicode’ is deprecated [-Wdeprecated-declarations]\n",
      "  \u001b[31m   \u001b[0m  3215 |                         (PyUnicode_GET_SIZE(**argname) != PyUnicode_GET_SIZE(key)) ? 1 :\n",
      "  \u001b[31m   \u001b[0m       |                         ^\n",
      "  \u001b[31m   \u001b[0m In file included from /home/richard/anaconda3/include/python3.9/unicodeobject.h:1026,\n",
      "  \u001b[31m   \u001b[0m                  from /home/richard/anaconda3/include/python3.9/Python.h:93,\n",
      "  \u001b[31m   \u001b[0m                  from pandas/_libs/indexing.c:25:\n",
      "  \u001b[31m   \u001b[0m /home/richard/anaconda3/include/python3.9/cpython/unicodeobject.h:580:45: note: declared here\n",
      "  \u001b[31m   \u001b[0m   580 | Py_DEPRECATED(3.3) PyAPI_FUNC(Py_UNICODE *) PyUnicode_AsUnicode(\n",
      "  \u001b[31m   \u001b[0m       |                                             ^~~~~~~~~~~~~~~~~~~\n",
      "  \u001b[31m   \u001b[0m pandas/_libs/indexing.c:3215:25: warning: ‘_PyUnicode_get_wstr_length’ is deprecated [-Wdeprecated-declarations]\n",
      "  \u001b[31m   \u001b[0m  3215 |                         (PyUnicode_GET_SIZE(**argname) != PyUnicode_GET_SIZE(key)) ? 1 :\n",
      "  \u001b[31m   \u001b[0m       |                         ^\n",
      "  \u001b[31m   \u001b[0m In file included from /home/richard/anaconda3/include/python3.9/unicodeobject.h:1026,\n",
      "  \u001b[31m   \u001b[0m                  from /home/richard/anaconda3/include/python3.9/Python.h:93,\n",
      "  \u001b[31m   \u001b[0m                  from pandas/_libs/indexing.c:25:\n",
      "  \u001b[31m   \u001b[0m /home/richard/anaconda3/include/python3.9/cpython/unicodeobject.h:446:26: note: declared here\n",
      "  \u001b[31m   \u001b[0m   446 | static inline Py_ssize_t _PyUnicode_get_wstr_length(PyObject *op) {\n",
      "  \u001b[31m   \u001b[0m       |                          ^~~~~~~~~~~~~~~~~~~~~~~~~~\n",
      "  \u001b[31m   \u001b[0m pandas/_libs/indexing.c:3215:25: warning: ‘_PyUnicode_get_wstr_length’ is deprecated [-Wdeprecated-declarations]\n",
      "  \u001b[31m   \u001b[0m  3215 |                         (PyUnicode_GET_SIZE(**argname) != PyUnicode_GET_SIZE(key)) ? 1 :\n",
      "  \u001b[31m   \u001b[0m       |                         ^\n",
      "  \u001b[31m   \u001b[0m In file included from /home/richard/anaconda3/include/python3.9/unicodeobject.h:1026,\n",
      "  \u001b[31m   \u001b[0m                  from /home/richard/anaconda3/include/python3.9/Python.h:93,\n",
      "  \u001b[31m   \u001b[0m                  from pandas/_libs/indexing.c:25:\n",
      "  \u001b[31m   \u001b[0m /home/richard/anaconda3/include/python3.9/cpython/unicodeobject.h:446:26: note: declared here\n",
      "  \u001b[31m   \u001b[0m   446 | static inline Py_ssize_t _PyUnicode_get_wstr_length(PyObject *op) {\n",
      "  \u001b[31m   \u001b[0m       |                          ^~~~~~~~~~~~~~~~~~~~~~~~~~\n",
      "  \u001b[31m   \u001b[0m pandas/_libs/indexing.c:3215:25: warning: ‘PyUnicode_AsUnicode’ is deprecated [-Wdeprecated-declarations]\n",
      "  \u001b[31m   \u001b[0m  3215 |                         (PyUnicode_GET_SIZE(**argname) != PyUnicode_GET_SIZE(key)) ? 1 :\n",
      "  \u001b[31m   \u001b[0m       |                         ^\n",
      "  \u001b[31m   \u001b[0m In file included from /home/richard/anaconda3/include/python3.9/unicodeobject.h:1026,\n",
      "  \u001b[31m   \u001b[0m                  from /home/richard/anaconda3/include/python3.9/Python.h:93,\n",
      "  \u001b[31m   \u001b[0m                  from pandas/_libs/indexing.c:25:\n",
      "  \u001b[31m   \u001b[0m /home/richard/anaconda3/include/python3.9/cpython/unicodeobject.h:580:45: note: declared here\n",
      "  \u001b[31m   \u001b[0m   580 | Py_DEPRECATED(3.3) PyAPI_FUNC(Py_UNICODE *) PyUnicode_AsUnicode(\n",
      "  \u001b[31m   \u001b[0m       |                                             ^~~~~~~~~~~~~~~~~~~\n",
      "  \u001b[31m   \u001b[0m pandas/_libs/indexing.c:3215:25: warning: ‘_PyUnicode_get_wstr_length’ is deprecated [-Wdeprecated-declarations]\n",
      "  \u001b[31m   \u001b[0m  3215 |                         (PyUnicode_GET_SIZE(**argname) != PyUnicode_GET_SIZE(key)) ? 1 :\n",
      "  \u001b[31m   \u001b[0m       |                         ^\n",
      "  \u001b[31m   \u001b[0m In file included from /home/richard/anaconda3/include/python3.9/unicodeobject.h:1026,\n",
      "  \u001b[31m   \u001b[0m                  from /home/richard/anaconda3/include/python3.9/Python.h:93,\n",
      "  \u001b[31m   \u001b[0m                  from pandas/_libs/indexing.c:25:\n",
      "  \u001b[31m   \u001b[0m /home/richard/anaconda3/include/python3.9/cpython/unicodeobject.h:446:26: note: declared here\n",
      "  \u001b[31m   \u001b[0m   446 | static inline Py_ssize_t _PyUnicode_get_wstr_length(PyObject *op) {\n",
      "  \u001b[31m   \u001b[0m       |                          ^~~~~~~~~~~~~~~~~~~~~~~~~~\n",
      "  \u001b[31m   \u001b[0m error: command '/usr/bin/gcc' failed with exit code 1\n",
      "  \u001b[31m   \u001b[0m \u001b[31m[end of output]\u001b[0m\n",
      "  \n",
      "  \u001b[1;35mnote\u001b[0m: This error originates from a subprocess, and is likely not a problem with pip.\n",
      "\u001b[31m  ERROR: Failed building wheel for pandas\u001b[0m\u001b[31m\n",
      "\u001b[0m\u001b[?25h  Running setup.py clean for pandas\n"
     ]
    },
    {
     "name": "stdout",
     "output_type": "stream",
     "text": [
      "Failed to build pandas\n",
      "\u001b[33mWARNING: Ignoring invalid distribution -andas (/home/richard/anaconda3/lib/python3.9/site-packages)\u001b[0m\u001b[33m\n",
      "\u001b[0mInstalling collected packages: pandas, jupyter-client, ipython, ipykernel, notebook, google-colab\n",
      "  Running setup.py install for pandas ... \u001b[?25l-"
     ]
    }
   ],
   "source": [
    "# utiliser cette cellule pour installer les librairies manquantes\n",
    "# pour cela il suffit de taper dans cette cellule : !pip install nom_librairie_manquante\n",
    "# d'exécuter la cellule et de relancer la cellule suivante pour voir si tout se passe bien\n",
    "# recommencer tant que toutes les librairies ne sont pas installées ...\n",
    "\n",
    "\n",
    "#!pip install ..\n",
    "# !pip install google\n",
    "!pip install google-colab\n",
    "\n",
    "\n",
    "# ne pas oublier de relancer le kernel du notebook"
   ]
  },
  {
   "cell_type": "code",
   "execution_count": 1,
   "metadata": {
    "id": "gJXkCVWmMfvW"
   },
   "outputs": [
    {
     "ename": "ModuleNotFoundError",
     "evalue": "No module named 'pandas'",
     "output_type": "error",
     "traceback": [
      "\u001b[0;31m---------------------------------------------------------------------------\u001b[0m",
      "\u001b[0;31mModuleNotFoundError\u001b[0m                       Traceback (most recent call last)",
      "Cell \u001b[0;32mIn[1], line 9\u001b[0m\n\u001b[1;32m      6\u001b[0m \u001b[38;5;28;01mimport\u001b[39;00m \u001b[38;5;21;01mwarnings\u001b[39;00m\n\u001b[1;32m      7\u001b[0m warnings\u001b[38;5;241m.\u001b[39mfilterwarnings(\u001b[38;5;124m\"\u001b[39m\u001b[38;5;124mignore\u001b[39m\u001b[38;5;124m\"\u001b[39m, category\u001b[38;5;241m=\u001b[39m\u001b[38;5;167;01mFutureWarning\u001b[39;00m)\n\u001b[0;32m----> 9\u001b[0m \u001b[38;5;28;01mimport\u001b[39;00m \u001b[38;5;21;01mpandas\u001b[39;00m \u001b[38;5;28;01mas\u001b[39;00m \u001b[38;5;21;01mpd\u001b[39;00m\n\u001b[1;32m     10\u001b[0m \u001b[38;5;28;01mimport\u001b[39;00m \u001b[38;5;21;01mseaborn\u001b[39;00m \u001b[38;5;28;01mas\u001b[39;00m \u001b[38;5;21;01msns\u001b[39;00m\n\u001b[1;32m     11\u001b[0m \u001b[38;5;28;01mimport\u001b[39;00m \u001b[38;5;21;01mmatplotlib\u001b[39;00m\u001b[38;5;21;01m.\u001b[39;00m\u001b[38;5;21;01mpyplot\u001b[39;00m \u001b[38;5;28;01mas\u001b[39;00m \u001b[38;5;21;01mplt\u001b[39;00m\n",
      "\u001b[0;31mModuleNotFoundError\u001b[0m: No module named 'pandas'"
     ]
    }
   ],
   "source": [
    "# Importation des différentes librairies utiles pour le notebook\n",
    "\n",
    "#Sickit learn met régulièrement à jour des versions et \n",
    "#indique des futurs warnings. \n",
    "#ces deux lignes permettent de ne pas les afficher.\n",
    "import warnings\n",
    "warnings.filterwarnings(\"ignore\", category=FutureWarning)\n",
    "\n",
    "import pandas as pd\n",
    "import seaborn as sns\n",
    "import matplotlib.pyplot as plt\n",
    "import sys"
   ]
  },
  {
   "cell_type": "markdown",
   "metadata": {
    "id": "uJyoB1FiNAkI"
   },
   "source": [
    "Pour pouvoir lire et sauvegarder sur votre répertoire Google Drive, il est nécessaire de fournir une autorisation. Pour cela il suffit d'éxecuter la ligne suivante et de saisir le code donné par Google."
   ]
  },
  {
   "cell_type": "code",
   "execution_count": 4,
   "metadata": {},
   "outputs": [
    {
     "name": "stdout",
     "output_type": "stream",
     "text": [
      "Package                       Version\r\n",
      "----------------------------- --------------------\r\n",
      "alabaster                     0.7.12\r\n",
      "anaconda-client               1.11.0\r\n",
      "anaconda-navigator            2.3.1\r\n",
      "anaconda-project              0.11.1\r\n",
      "anyio                         3.5.0\r\n",
      "appdirs                       1.4.4\r\n",
      "argon2-cffi                   21.3.0\r\n",
      "argon2-cffi-bindings          21.2.0\r\n",
      "arrow                         1.2.2\r\n",
      "astroid                       2.11.7\r\n",
      "astropy                       5.1\r\n",
      "atomicwrites                  1.4.0\r\n",
      "attrs                         21.4.0\r\n",
      "Automat                       20.2.0\r\n",
      "autopep8                      1.6.0\r\n",
      "Babel                         2.9.1\r\n",
      "backcall                      0.2.0\r\n",
      "backports.functools-lru-cache 1.6.4\r\n",
      "backports.tempfile            1.0\r\n",
      "backports.weakref             1.0.post1\r\n",
      "bcrypt                        3.2.0\r\n",
      "beautifulsoup4                4.11.1\r\n",
      "binaryornot                   0.4.4\r\n",
      "bitarray                      2.5.1\r\n",
      "bkcharts                      0.2\r\n",
      "black                         22.6.0\r\n",
      "bleach                        4.1.0\r\n",
      "bokeh                         2.4.3\r\n",
      "boto3                         1.24.28\r\n",
      "botocore                      1.27.28\r\n",
      "Bottleneck                    1.3.5\r\n",
      "brotlipy                      0.7.0\r\n",
      "certifi                       2022.9.14\r\n",
      "cffi                          1.15.1\r\n",
      "chardet                       4.0.0\r\n",
      "charset-normalizer            2.0.4\r\n",
      "click                         8.0.4\r\n",
      "cloudpickle                   2.0.0\r\n",
      "clyent                        1.2.2\r\n",
      "colorama                      0.4.5\r\n",
      "colorcet                      3.0.0\r\n",
      "conda                         22.9.0\r\n",
      "conda-build                   3.22.0\r\n",
      "conda-content-trust           0.1.3\r\n",
      "conda-pack                    0.6.0\r\n",
      "conda-package-handling        1.9.0\r\n",
      "conda-repo-cli                1.0.20\r\n",
      "conda-token                   0.4.0\r\n",
      "conda-verify                  3.4.2\r\n",
      "constantly                    15.1.0\r\n",
      "cookiecutter                  1.7.3\r\n",
      "cryptography                  37.0.1\r\n",
      "cssselect                     1.1.0\r\n",
      "cycler                        0.11.0\r\n",
      "Cython                        0.29.32\r\n",
      "cytoolz                       0.11.0\r\n",
      "daal4py                       2021.6.0\r\n",
      "dask                          2022.7.0\r\n",
      "datashader                    0.14.1\r\n",
      "datashape                     0.5.4\r\n",
      "debugpy                       1.5.1\r\n",
      "decorator                     5.1.1\r\n",
      "defusedxml                    0.7.1\r\n",
      "diff-match-patch              20200713\r\n",
      "dill                          0.3.4\r\n",
      "distlib                       0.3.6\r\n",
      "distributed                   2022.7.0\r\n",
      "docutils                      0.18.1\r\n",
      "entrypoints                   0.4\r\n",
      "et-xmlfile                    1.1.0\r\n",
      "fastjsonschema                2.16.2\r\n",
      "filelock                      3.6.0\r\n",
      "flake8                        4.0.1\r\n",
      "Flask                         1.1.2\r\n",
      "fonttools                     4.25.0\r\n",
      "fsspec                        2022.7.1\r\n",
      "future                        0.18.2\r\n",
      "gensim                        4.1.2\r\n",
      "glob2                         0.7\r\n",
      "gmpy2                         2.1.2\r\n",
      "google                        3.0.0\r\n",
      "greenlet                      1.1.1\r\n",
      "h5py                          3.7.0\r\n",
      "HeapDict                      1.0.1\r\n",
      "holoviews                     1.15.0\r\n",
      "hvplot                        0.8.0\r\n",
      "hyperlink                     21.0.0\r\n",
      "idna                          3.3\r\n",
      "imagecodecs                   2021.8.26\r\n",
      "imageio                       2.19.3\r\n",
      "imagesize                     1.4.1\r\n",
      "importlib-metadata            4.11.3\r\n",
      "incremental                   21.3.0\r\n",
      "inflection                    0.5.1\r\n",
      "iniconfig                     1.1.1\r\n",
      "intake                        0.6.5\r\n",
      "intervaltree                  3.1.0\r\n",
      "ipykernel                     6.15.2\r\n",
      "ipython                       7.31.1\r\n",
      "ipython-genutils              0.2.0\r\n",
      "ipywidgets                    7.6.5\r\n",
      "isort                         5.9.3\r\n",
      "itemadapter                   0.3.0\r\n",
      "itemloaders                   1.0.4\r\n",
      "itsdangerous                  2.0.1\r\n",
      "jdcal                         1.4.1\r\n",
      "jedi                          0.18.1\r\n",
      "jeepney                       0.7.1\r\n",
      "jellyfish                     0.9.0\r\n",
      "Jinja2                        2.11.3\r\n",
      "jinja2-time                   0.2.0\r\n",
      "jmespath                      0.10.0\r\n",
      "joblib                        1.1.0\r\n",
      "json5                         0.9.6\r\n",
      "jsonschema                    4.16.0\r\n",
      "jupyter                       1.0.0\r\n",
      "jupyter_client                7.3.4\r\n",
      "jupyter-console               6.4.3\r\n",
      "jupyter_core                  4.11.1\r\n",
      "jupyter-server                1.18.1\r\n",
      "jupyterlab                    3.4.4\r\n",
      "jupyterlab-pygments           0.1.2\r\n",
      "jupyterlab-server             2.10.3\r\n",
      "jupyterlab-widgets            1.0.0\r\n",
      "keyring                       23.4.0\r\n",
      "kiwisolver                    1.4.2\r\n",
      "lazy-object-proxy             1.6.0\r\n",
      "libarchive-c                  2.9\r\n",
      "llvmlite                      0.38.0\r\n",
      "locket                        1.0.0\r\n",
      "lxml                          4.9.1\r\n",
      "lz4                           3.1.3\r\n",
      "Markdown                      3.3.4\r\n",
      "MarkupSafe                    2.0.1\r\n",
      "matplotlib                    3.5.2\r\n",
      "matplotlib-inline             0.1.6\r\n",
      "mccabe                        0.7.0\r\n",
      "mistune                       0.8.4\r\n",
      "mkl-fft                       1.3.1\r\n",
      "mkl-random                    1.2.2\r\n",
      "mkl-service                   2.4.0\r\n",
      "mock                          4.0.3\r\n",
      "mpmath                        1.2.1\r\n",
      "msgpack                       1.0.3\r\n",
      "multipledispatch              0.6.0\r\n",
      "munkres                       1.1.4\r\n",
      "mypy-extensions               0.4.3\r\n",
      "navigator-updater             0.3.0\r\n",
      "nbclassic                     0.3.5\r\n",
      "nbclient                      0.5.13\r\n",
      "nbconvert                     6.4.4\r\n",
      "nbformat                      5.5.0\r\n",
      "nest-asyncio                  1.5.5\r\n",
      "networkx                      2.8.4\r\n",
      "nltk                          3.7\r\n",
      "nose                          1.3.7\r\n",
      "notebook                      6.4.12\r\n",
      "numba                         0.55.1\r\n",
      "numexpr                       2.8.3\r\n",
      "numpy                         1.21.5\r\n",
      "numpydoc                      1.4.0\r\n",
      "olefile                       0.46\r\n",
      "openpyxl                      3.0.10\r\n",
      "packaging                     21.3\r\n",
      "pandas                        1.4.4\r\n",
      "pandocfilters                 1.5.0\r\n",
      "panel                         0.13.1\r\n",
      "param                         1.12.0\r\n",
      "parsel                        1.6.0\r\n",
      "parso                         0.8.3\r\n",
      "partd                         1.2.0\r\n",
      "pathlib                       1.0.1\r\n",
      "pathspec                      0.9.0\r\n",
      "patsy                         0.5.2\r\n",
      "pep8                          1.7.1\r\n",
      "pexpect                       4.8.0\r\n",
      "pickleshare                   0.7.5\r\n",
      "Pillow                        9.2.0\r\n",
      "pip                           22.2.2\r\n",
      "pkginfo                       1.8.2\r\n",
      "platformdirs                  2.5.2\r\n",
      "plotly                        5.9.0\r\n",
      "pluggy                        1.0.0\r\n",
      "ply                           3.11\r\n",
      "poyo                          0.5.0\r\n",
      "prometheus-client             0.14.1\r\n",
      "prompt-toolkit                3.0.20\r\n",
      "Protego                       0.1.16\r\n",
      "psutil                        5.9.0\r\n",
      "ptyprocess                    0.7.0\r\n",
      "py                            1.11.0\r\n",
      "pyasn1                        0.4.8\r\n",
      "pyasn1-modules                0.2.8\r\n",
      "pycodestyle                   2.8.0\r\n",
      "pycosat                       0.6.3\r\n",
      "pycparser                     2.21\r\n",
      "pyct                          0.4.8\r\n",
      "pycurl                        7.45.1\r\n",
      "PyDispatcher                  2.0.5\r\n",
      "pydocstyle                    6.1.1\r\n",
      "pyerfa                        2.0.0\r\n",
      "pyflakes                      2.4.0\r\n",
      "Pygments                      2.11.2\r\n",
      "PyHamcrest                    2.0.2\r\n",
      "PyJWT                         2.4.0\r\n",
      "pylint                        2.14.5\r\n",
      "pyls-spyder                   0.4.0\r\n",
      "pyodbc                        4.0.34\r\n",
      "pyOpenSSL                     22.0.0\r\n",
      "pyparsing                     3.0.9\r\n",
      "PyQt5-sip                     12.11.0\r\n",
      "pyrsistent                    0.18.0\r\n",
      "PySocks                       1.7.1\r\n",
      "pytest                        7.1.2\r\n",
      "python-dateutil               2.8.2\r\n",
      "python-lsp-black              1.2.1\r\n",
      "python-lsp-jsonrpc            1.0.0\r\n",
      "python-lsp-server             1.5.0\r\n",
      "python-slugify                5.0.2\r\n",
      "python-snappy                 0.6.0\r\n",
      "pytz                          2022.1\r\n",
      "pyviz-comms                   2.0.2\r\n",
      "PyWavelets                    1.3.0\r\n",
      "pyxdg                         0.27\r\n",
      "PyYAML                        6.0\r\n",
      "pyzmq                         23.2.0\r\n",
      "QDarkStyle                    3.0.2\r\n",
      "qstylizer                     0.1.10\r\n",
      "QtAwesome                     1.0.3\r\n",
      "qtconsole                     5.3.2\r\n",
      "QtPy                          2.2.0\r\n",
      "queuelib                      1.5.0\r\n",
      "regex                         2022.7.9\r\n",
      "requests                      2.28.1\r\n",
      "requests-file                 1.5.1\r\n",
      "rope                          0.22.0\r\n",
      "Rtree                         0.9.7\r\n",
      "ruamel-yaml-conda             0.15.100\r\n",
      "s3transfer                    0.6.0\r\n",
      "scikit-image                  0.19.2\r\n",
      "scikit-learn                  1.0.2\r\n",
      "scikit-learn-intelex          2021.20221004.171807\r\n",
      "scipy                         1.9.1\r\n",
      "Scrapy                        2.6.2\r\n",
      "seaborn                       0.11.2\r\n",
      "SecretStorage                 3.3.1\r\n",
      "Send2Trash                    1.8.0\r\n",
      "service-identity              18.1.0\r\n",
      "setuptools                    63.4.1\r\n",
      "sip                           6.6.2\r\n",
      "six                           1.16.0\r\n",
      "smart-open                    5.2.1\r\n",
      "sniffio                       1.2.0\r\n",
      "snowballstemmer               2.2.0\r\n",
      "sortedcollections             2.1.0\r\n",
      "sortedcontainers              2.4.0\r\n",
      "soupsieve                     2.3.1\r\n",
      "Sphinx                        5.0.2\r\n",
      "sphinxcontrib-applehelp       1.0.2\r\n",
      "sphinxcontrib-devhelp         1.0.2\r\n",
      "sphinxcontrib-htmlhelp        2.0.0\r\n",
      "sphinxcontrib-jsmath          1.0.1\r\n",
      "sphinxcontrib-qthelp          1.0.3\r\n",
      "sphinxcontrib-serializinghtml 1.1.5\r\n",
      "spyder                        5.3.3\r\n",
      "spyder-kernels                2.3.3\r\n",
      "SQLAlchemy                    1.4.39\r\n",
      "statsmodels                   0.13.2\r\n",
      "sympy                         1.10.1\r\n",
      "tables                        3.6.1\r\n",
      "tabulate                      0.8.10\r\n",
      "TBB                           0.2\r\n",
      "tblib                         1.7.0\r\n",
      "tenacity                      8.0.1\r\n",
      "terminado                     0.13.1\r\n",
      "testpath                      0.6.0\r\n",
      "text-unidecode                1.3\r\n",
      "textdistance                  4.2.1\r\n",
      "threadpoolctl                 2.2.0\r\n",
      "three-merge                   0.1.1\r\n",
      "tifffile                      2021.7.2\r\n",
      "tinycss                       0.4\r\n",
      "tldextract                    3.2.0\r\n",
      "toml                          0.10.2\r\n",
      "tomli                         2.0.1\r\n",
      "tomlkit                       0.11.1\r\n",
      "toolz                         0.11.2\r\n",
      "tornado                       6.1\r\n",
      "tqdm                          4.64.1\r\n",
      "traitlets                     5.1.1\r\n",
      "Twisted                       22.2.0\r\n",
      "typing_extensions             4.3.0\r\n",
      "ujson                         5.4.0\r\n",
      "Unidecode                     1.2.0\r\n",
      "urllib3                       1.26.11\r\n",
      "virtualenv                    20.17.1\r\n",
      "w3lib                         1.21.0\r\n",
      "watchdog                      2.1.6\r\n",
      "wcwidth                       0.2.5\r\n",
      "webencodings                  0.5.1\r\n",
      "websocket-client              0.58.0\r\n",
      "Werkzeug                      2.0.3\r\n",
      "whatthepatch                  1.0.2\r\n",
      "wheel                         0.37.1\r\n",
      "widgetsnbextension            3.5.2\r\n",
      "wrapt                         1.14.1\r\n",
      "wurlitzer                     3.0.2\r\n",
      "xarray                        0.20.1\r\n",
      "xlrd                          2.0.1\r\n",
      "XlsxWriter                    3.0.3\r\n",
      "yapf                          0.31.0\r\n",
      "zict                          2.1.0\r\n",
      "zipp                          3.8.0\r\n",
      "zope.interface                5.4.0\r\n"
     ]
    }
   ],
   "source": [
    "!pip list"
   ]
  },
  {
   "cell_type": "code",
   "execution_count": 4,
   "metadata": {
    "colab": {
     "base_uri": "https://localhost:8080/"
    },
    "id": "vQZtvdqANBtj",
    "outputId": "8adb9cf5-bc33-4c36-810d-3ec69fca8310"
   },
   "outputs": [
    {
     "ename": "ModuleNotFoundError",
     "evalue": "No module named 'google.colab'",
     "output_type": "error",
     "traceback": [
      "\u001b[0;31m---------------------------------------------------------------------------\u001b[0m",
      "\u001b[0;31mModuleNotFoundError\u001b[0m                       Traceback (most recent call last)",
      "\u001b[0;32m/tmp/ipykernel_124343/3924523332.py\u001b[0m in \u001b[0;36m<module>\u001b[0;34m\u001b[0m\n\u001b[0;32m----> 1\u001b[0;31m \u001b[0;32mfrom\u001b[0m \u001b[0mgoogle\u001b[0m\u001b[0;34m.\u001b[0m\u001b[0mcolab\u001b[0m \u001b[0;32mimport\u001b[0m \u001b[0mdrive\u001b[0m\u001b[0;34m\u001b[0m\u001b[0;34m\u001b[0m\u001b[0m\n\u001b[0m\u001b[1;32m      2\u001b[0m \u001b[0mdrive\u001b[0m\u001b[0;34m.\u001b[0m\u001b[0mmount\u001b[0m\u001b[0;34m(\u001b[0m\u001b[0;34m'/content/gdrive/'\u001b[0m\u001b[0;34m)\u001b[0m\u001b[0;34m\u001b[0m\u001b[0;34m\u001b[0m\u001b[0m\n",
      "\u001b[0;31mModuleNotFoundError\u001b[0m: No module named 'google.colab'"
     ]
    }
   ],
   "source": [
    "from google.colab import drive\n",
    "drive.mount('/content/gdrive/')"
   ]
  },
  {
   "cell_type": "markdown",
   "metadata": {
    "id": "wP2LKBzbNL6j"
   },
   "source": [
    "Corriger éventuellement la ligne ci-dessous pour mettre le chemin vers un répertoire spécifique dans votre répertoire google drive : "
   ]
  },
  {
   "cell_type": "code",
   "execution_count": null,
   "metadata": {
    "colab": {
     "base_uri": "https://localhost:8080/",
     "height": 54
    },
    "id": "q_EAJ-fVNNU7",
    "outputId": "0533dfb6-865c-4331-cb1b-867f5c674d44"
   },
   "outputs": [],
   "source": [
    "my_local_drive='/content/gdrive/My Drive/Colab Notebooks/ML_FDS'\n",
    "# Ajout du path pour les librairies, fonctions et données\n",
    "sys.path.append(my_local_drive)\n",
    "# Se positionner sur le répertoire associé\n",
    "%cd $my_local_drive\n",
    "\n",
    "%pwd"
   ]
  },
  {
   "cell_type": "markdown",
   "metadata": {
    "id": "wkSIFeb3NYyP"
   },
   "source": [
    "## **Travaux pratiques**"
   ]
  },
  {
   "cell_type": "markdown",
   "metadata": {
    "id": "bNH1jwatL4IP"
   },
   "source": [
    "**Lecture du fichier**  \n",
    "Récupérer le fichier titanic.csv et le mettre dans le répertoire Dataset.  \n",
    "Intégrer le contenu de ce fichier dans un dataframe pandas."
   ]
  },
  {
   "cell_type": "code",
   "execution_count": null,
   "metadata": {
    "colab": {
     "base_uri": "https://localhost:8080/",
     "height": 426
    },
    "id": "AfpyqnqTL4IP",
    "outputId": "4783abc4-631c-4e68-adbe-e8bb3a9f237d"
   },
   "outputs": [],
   "source": [
    "import pandas as pd\n",
    "\n",
    "#attention le séparateur est une tabulation\n",
    "# df=pd.read_csv('Dataset/titanic.csv', sep='\\t')\n",
    "df=pd.read_csv('')\n",
    "display (df.head())\n"
   ]
  },
  {
   "cell_type": "markdown",
   "metadata": {
    "id": "qbOEFhsVL4IR"
   },
   "source": [
    "## Analyse des données"
   ]
  },
  {
   "cell_type": "markdown",
   "metadata": {
    "id": "4u-pDJl1L4IS"
   },
   "source": [
    "L'objectif dans un premier temps est de se familiariser avec pandas pour obtenir des informations sur le jeu de données.  \n",
    "\n",
    "**Pandas**  \n",
    "\n",
    "Afficher la taille du dataframe, les six premières lignes, les trois dernières lignes et 5 lignes au hasard du dataframe."
   ]
  },
  {
   "cell_type": "code",
   "execution_count": null,
   "metadata": {
    "id": "mSG699-oL4IT"
   },
   "outputs": [],
   "source": [
    "\n",
    "\n",
    "\n",
    "\n",
    "\n",
    "\n",
    "\n"
   ]
  },
  {
   "cell_type": "markdown",
   "metadata": {
    "id": "gaInIBdML4IU"
   },
   "source": [
    "Donner les informations sur le cinquième passager"
   ]
  },
  {
   "cell_type": "code",
   "execution_count": null,
   "metadata": {
    "id": "KC-ohcdvL4IV"
   },
   "outputs": [],
   "source": [
    "\n",
    "\n",
    "\n",
    "\n",
    "\n"
   ]
  },
  {
   "cell_type": "markdown",
   "metadata": {
    "id": "VOhIf0uIL4IW"
   },
   "source": [
    "Donner toutes les informations sur les passagers compris entre les lignes 10 et 16 "
   ]
  },
  {
   "cell_type": "code",
   "execution_count": null,
   "metadata": {
    "id": "Jf4CTtwVL4IW"
   },
   "outputs": [],
   "source": [
    "\n",
    "\n",
    "\n"
   ]
  },
  {
   "cell_type": "markdown",
   "metadata": {
    "id": "Q7_6ARujL4IX"
   },
   "source": [
    "Donner les informations sur le passager dont le numéro (PassengerId) est 5"
   ]
  },
  {
   "cell_type": "code",
   "execution_count": null,
   "metadata": {
    "id": "mlnU1LfSL4IX"
   },
   "outputs": [],
   "source": [
    "\n",
    "\n",
    "\n"
   ]
  },
  {
   "cell_type": "markdown",
   "metadata": {
    "id": "8XEzmHCdL4IY"
   },
   "source": [
    "Indiquer les différentes informations associées aux colonnes (Nom des colonnes, type de la colonne, place prise par le dataframe, etc). "
   ]
  },
  {
   "cell_type": "code",
   "execution_count": null,
   "metadata": {
    "id": "fu27NtPtL4IZ"
   },
   "outputs": [],
   "source": [
    "\n",
    "\n",
    "\n"
   ]
  },
  {
   "cell_type": "markdown",
   "metadata": {
    "id": "bOf51MNrL4Ia"
   },
   "source": [
    "Quel est le type de la colonne *Name* ?"
   ]
  },
  {
   "cell_type": "code",
   "execution_count": null,
   "metadata": {
    "id": "b7ssITerL4Ia"
   },
   "outputs": [],
   "source": [
    "\n",
    "\n",
    "\n"
   ]
  },
  {
   "cell_type": "markdown",
   "metadata": {
    "id": "dWolKsv1L4Ib"
   },
   "source": [
    "Donner des statistiques de base du dataframe et préciser pourquoi Name n'apparait pas dans le résultat."
   ]
  },
  {
   "cell_type": "code",
   "execution_count": null,
   "metadata": {
    "id": "sOFq0r8WL4Ib"
   },
   "outputs": [],
   "source": [
    "\n",
    "\n",
    "\n"
   ]
  },
  {
   "cell_type": "markdown",
   "metadata": {
    "id": "kIDA6IKhL4Ib"
   },
   "source": [
    "Donner le nombre de survivants? Indication il faut compter combien de PassagerId ont survécu avec la fonction count. "
   ]
  },
  {
   "cell_type": "code",
   "execution_count": null,
   "metadata": {
    "id": "WSc0xY2TL4Id"
   },
   "outputs": [],
   "source": [
    "\n",
    "\n",
    "\n",
    "\n",
    "\n"
   ]
  },
  {
   "cell_type": "markdown",
   "metadata": {
    "id": "8j3cDq3JL4Ie"
   },
   "source": [
    "Donner par categorie male/female le nombre de personnes qui ont ou n'ont pas survécu. Indication utilisation d'un groupby."
   ]
  },
  {
   "cell_type": "code",
   "execution_count": null,
   "metadata": {
    "id": "t4ZTlAImL4Ie"
   },
   "outputs": [],
   "source": [
    "\n",
    "\n",
    "\n"
   ]
  },
  {
   "cell_type": "markdown",
   "metadata": {
    "id": "o5jn_ow3L4Ie"
   },
   "source": [
    "Donner par categorie de classe le nombre de personnes qui ont ou n'ont pas survécu."
   ]
  },
  {
   "cell_type": "code",
   "execution_count": null,
   "metadata": {
    "id": "4UOFumjpL4If"
   },
   "outputs": [],
   "source": [
    "\n",
    "\n",
    "\n"
   ]
  },
  {
   "cell_type": "markdown",
   "metadata": {
    "id": "53b1cEUuL4If"
   },
   "source": [
    "Donner par categorie de classe et de sexe le nombre de personnes qui ont ou n'ont pas survécu."
   ]
  },
  {
   "cell_type": "code",
   "execution_count": null,
   "metadata": {
    "id": "Z8lMcDFML4If"
   },
   "outputs": [],
   "source": [
    "\n",
    "\n",
    "\n"
   ]
  },
  {
   "cell_type": "markdown",
   "metadata": {
    "id": "3WJ3IqevL4Ig"
   },
   "source": [
    "Donner la liste des femmes qui ont survécu et dont l'age est supérieure à 30"
   ]
  },
  {
   "cell_type": "code",
   "execution_count": null,
   "metadata": {
    "id": "2anwQ8yjL4Ig"
   },
   "outputs": [],
   "source": [
    "\n",
    "\n",
    "\n",
    "\n"
   ]
  },
  {
   "cell_type": "markdown",
   "metadata": {
    "id": "H_xtTW0LL4Ig"
   },
   "source": [
    "Donner l'age max, min et moyen des personnes qui ont survécu"
   ]
  },
  {
   "cell_type": "code",
   "execution_count": null,
   "metadata": {
    "id": "iqCLg9f9L4Ih"
   },
   "outputs": [],
   "source": [
    "\n",
    "\n",
    "\n",
    "\n"
   ]
  },
  {
   "cell_type": "markdown",
   "metadata": {
    "id": "gRLqDrDmL4Ih"
   },
   "source": [
    "## Visualisation "
   ]
  },
  {
   "cell_type": "markdown",
   "metadata": {
    "id": "Ni7dnTthL4Ii"
   },
   "source": [
    "\n",
    "L'objectif est ici de visualiser quelques informations à l'aide de seaborn pour mettre en évidence les premières analyses précédentes.  \n",
    "\n",
    "Dans un premier temps à l'aide de seaborn et de la fonction countplot afficher le nombre de survivants et de non survivants"
   ]
  },
  {
   "cell_type": "code",
   "execution_count": null,
   "metadata": {
    "id": "Nd-a-zjGL4Ij"
   },
   "outputs": [],
   "source": [
    "import seaborn as sns\n",
    "import matplotlib.pyplot as plt\n",
    "\n",
    "\n",
    "\n"
   ]
  },
  {
   "cell_type": "markdown",
   "metadata": {
    "id": "dAjU9Q3NL4Ik"
   },
   "source": [
    "Afficher le nombre de catégorie male/female (attribut Sex) avec countplot."
   ]
  },
  {
   "cell_type": "code",
   "execution_count": null,
   "metadata": {
    "id": "m9Wq9N3_L4Ip"
   },
   "outputs": [],
   "source": [
    "\n",
    "\n",
    "\n"
   ]
  },
  {
   "cell_type": "markdown",
   "metadata": {
    "id": "FZvA55tnL4Iq"
   },
   "source": [
    "La commande suivante affiche les survivants ou non en fonction du sexe.  \n",
    "\n",
    "sns.factorplot(x='Survived', col='Sex', kind='count', data=df)  \n",
    "\n",
    "Essayer de l'utiliser et faire de même par rapport aux attributs Pclass et Embarked. Que pouvez vous déduire dans un premier temps sur les survivants ou non."
   ]
  },
  {
   "cell_type": "code",
   "execution_count": null,
   "metadata": {
    "id": "VBqHNkvoL4Ir"
   },
   "outputs": [],
   "source": [
    "\n",
    "\n",
    "\n",
    "\n",
    "\n"
   ]
  },
  {
   "cell_type": "markdown",
   "metadata": {
    "id": "9M8TYLKAL4Ir"
   },
   "source": [
    "Un peu plus loin sur l'analyse ...  \n",
    "\n",
    "Le code suivant permet de connaître la répartition par sexe et par classe :  \n",
    "g = sns.factorplot('Pclass', data=df, hue='Sex', kind='count')  \n",
    "g.set_xlabels('Class')\n",
    "\n",
    "Exécuter le code. Que constatez vous ? Faire la même chose pour Embarked"
   ]
  },
  {
   "cell_type": "code",
   "execution_count": null,
   "metadata": {
    "id": "euE-mSBZL4Is"
   },
   "outputs": [],
   "source": [
    "\n",
    "\n",
    "\n",
    "\n",
    "\n",
    "\n"
   ]
  },
  {
   "cell_type": "markdown",
   "metadata": {
    "id": "vqo6BBLBL4Is"
   },
   "source": [
    "A votre factor plot ajouter col='Survived' comme paramètre pour voir la répartition par rapport au sexe des passagers. Faites de même par rapport à Embarked."
   ]
  },
  {
   "cell_type": "code",
   "execution_count": null,
   "metadata": {
    "id": "LUbnKdrJL4Is"
   },
   "outputs": [],
   "source": [
    "\n",
    "\n",
    "\n",
    "\n",
    "\n",
    "\n"
   ]
  },
  {
   "cell_type": "markdown",
   "metadata": {
    "id": "Zdcl6GRZL4It"
   },
   "source": [
    "Créer la fonction suivante qui permet de créer des catégories en fonction de l'age des personnes.\n",
    "    Ajouter dans df une colonne 'Person' qui contient la valeur de cet attribut.  \n",
    "    \n",
    "    def male_female_age(passenger):  \n",
    "         age, sex = passenger  \n",
    "         if age < 5:  \n",
    "             return 'Baby'  \n",
    "         if age >= 5 and age < 12:  \n",
    "             return 'Child'  \n",
    "         if age >= 12 and age < 18:  \n",
    "             return 'Teneeger'  \n",
    "         if age >=18 and age < 35:  \n",
    "             return 'Young Adult'  \n",
    "         if age >= 35 and age < 60:  \n",
    "             return 'Adult'  \n",
    "         if age >= 60:  \n",
    "             return 'Senior'  \n",
    "         else:  \n",
    "             return sex  \n",
    "    \n",
    "    Rappel : pour appliquer une fonction à une colonne   \n",
    "        df[['Age', 'Sex']].apply(male_female_child, axis=1)\n",
    "        "
   ]
  },
  {
   "cell_type": "code",
   "execution_count": null,
   "metadata": {
    "id": "YJhycpN0L4Iu"
   },
   "outputs": [],
   "source": [
    "def male_female_age(passenger):\n",
    "    age, sex = passenger\n",
    "    if age < 5:\n",
    "        return 'Baby'\n",
    "    if age >= 5 and age < 12:\n",
    "        return 'Child'\n",
    "    if age >= 12 and age < 18:\n",
    "        return 'Teneeger'\n",
    "    if age >=18 and age < 35:\n",
    "        return 'Young Adult'\n",
    "    if age >= 35 and age < 60:\n",
    "        return 'Adult'\n",
    "    if age >= 60:\n",
    "        return 'Senior'\n",
    "    else:\n",
    "        return sex"
   ]
  },
  {
   "cell_type": "code",
   "execution_count": null,
   "metadata": {
    "id": "9EMocDSbL4Iu"
   },
   "outputs": [],
   "source": [
    "\n",
    "\n",
    "\n",
    "\n",
    "\n",
    "\n"
   ]
  },
  {
   "cell_type": "markdown",
   "metadata": {
    "id": "b_Sfc-VCL4Iv"
   },
   "source": [
    "Sur vos factorplot précédents remplacer hue='Sex' par hue='Person' et relancer les. Que constatez vous ? "
   ]
  },
  {
   "cell_type": "code",
   "execution_count": null,
   "metadata": {
    "id": "NXFER1ftL4Iv"
   },
   "outputs": [],
   "source": [
    "\n",
    "\n",
    "\n",
    "\n",
    "\n"
   ]
  },
  {
   "cell_type": "markdown",
   "metadata": {
    "id": "jIZ7rY6YL4Iv"
   },
   "source": [
    "Enfin regarder la répartition pour les embarquements et les classes."
   ]
  },
  {
   "cell_type": "code",
   "execution_count": null,
   "metadata": {
    "id": "gwm8s4etL4Iv"
   },
   "outputs": [],
   "source": [
    "\n",
    "\n",
    "\n",
    "\n",
    "\n"
   ]
  },
  {
   "cell_type": "markdown",
   "metadata": {
    "id": "Np2hFV-CL4Iv"
   },
   "source": [
    "Quelques informations sur la distribution. A l'aide de displot afficher la distribution de Pclass et de Fare."
   ]
  },
  {
   "cell_type": "code",
   "execution_count": null,
   "metadata": {
    "id": "yvSguRVcL4Iv"
   },
   "outputs": [],
   "source": [
    "\n",
    "\n",
    "\n",
    "\n",
    "\n"
   ]
  },
  {
   "cell_type": "code",
   "execution_count": null,
   "metadata": {
    "id": "rLbM3RnxL4Iw"
   },
   "outputs": [],
   "source": [
    "\n",
    "\n",
    "\n",
    "\n",
    "\n",
    "\n"
   ]
  },
  {
   "cell_type": "markdown",
   "metadata": {
    "id": "RHaGGjJqL4Iw"
   },
   "source": [
    "Afficher à l'aide de la fonction boxplot une boîte à moustache pour Pclass et Fare.\n",
    "\n"
   ]
  },
  {
   "cell_type": "code",
   "execution_count": null,
   "metadata": {
    "id": "JJjm7vT1L4Iw"
   },
   "outputs": [],
   "source": [
    "\n",
    "\n",
    "\n"
   ]
  },
  {
   "cell_type": "code",
   "execution_count": null,
   "metadata": {
    "id": "ljwgiiO7L4Iw"
   },
   "outputs": [],
   "source": [
    "\n",
    "\n",
    "\n",
    "\n"
   ]
  },
  {
   "cell_type": "markdown",
   "metadata": {
    "id": "UBcTfZLsL4Ix"
   },
   "source": [
    "Faire les mêmes opérations à l'aide de la fonction violinplot.  \n",
    "Rappel : elle offre les mêmes fonctionnalités que les boîtes à moustache mais en plus offre des informations sur une estimation de la densité. "
   ]
  },
  {
   "cell_type": "code",
   "execution_count": null,
   "metadata": {
    "id": "TzNI-faZL4Ix"
   },
   "outputs": [],
   "source": [
    "\n",
    "\n",
    "\n",
    "\n"
   ]
  },
  {
   "cell_type": "code",
   "execution_count": null,
   "metadata": {
    "id": "rF2S8ejZL4Ix"
   },
   "outputs": [],
   "source": [
    "\n",
    "\n"
   ]
  },
  {
   "cell_type": "markdown",
   "metadata": {
    "id": "2s9aYWxqL4Ix"
   },
   "source": [
    "A présent, considérons l'age des personnes. A l'aide de displot afficher l'histogramme de distribution des ages avec le code suivant :  \n",
    "\n",
    "age_dist=sns.distplot(df[\"Age\"])  \n",
    "age_dist.set_title(\"Distribution des ages\")  \n",
    "\n",
    "Que se passe-t'il ? \n"
   ]
  },
  {
   "cell_type": "markdown",
   "metadata": {
    "id": "due-I00AL4Ix"
   },
   "source": [
    "Une erreur est levée \"cannot convert float NaN to integer\". NaN indique la présence de valeurs manquantes dans le jeu de données."
   ]
  },
  {
   "cell_type": "markdown",
   "metadata": {
    "id": "0sBzue93L4Ix"
   },
   "source": [
    "## Ingénierie des données "
   ]
  },
  {
   "cell_type": "markdown",
   "metadata": {
    "id": "MrIAQDX6L4Iy"
   },
   "source": [
    "**Traitement des valeurs manquantes**\n",
    "\n",
    "Créer un nouveau dataframe df2 (pour créer un dataframe sans modifier le dataframe initial il faut en faire une copie : df2=df.copy()).   \n",
    "\n"
   ]
  },
  {
   "cell_type": "code",
   "execution_count": null,
   "metadata": {
    "id": "KSCIiZgXL4Iy"
   },
   "outputs": [],
   "source": [
    "df2=df.copy()"
   ]
  },
  {
   "cell_type": "markdown",
   "metadata": {
    "id": "2pyeaSSbL4Iy"
   },
   "source": [
    "Donner la liste des colonnes pour lesquelles il y a des valeurs manquantes. Pour tester si une valeur est manquante, il est possible pour un dataframe d'utiliser pour une colonne la fonction isnull(). Attention celle-ci retourne un dataframe. Elle doit être suivie par any() pour avoir un booléen :  \n",
    "        \n",
    "        df ['colonne'].isnull().any()"
   ]
  },
  {
   "cell_type": "code",
   "execution_count": null,
   "metadata": {
    "id": "JMn4jfY-L4Iy",
    "scrolled": false
   },
   "outputs": [],
   "source": [
    "\n",
    "\n",
    "\n",
    "\n",
    "\n"
   ]
  },
  {
   "cell_type": "markdown",
   "metadata": {
    "id": "kLXLY9TgL4Iy"
   },
   "source": [
    "Il est également possible d'afficher l'ensemble des données qui contiennent des valeurs NaN de la manière suivante : \n",
    "    \n",
    "        \n",
    "sns.heatmap(df.isnull(), cbar=False)"
   ]
  },
  {
   "cell_type": "code",
   "execution_count": null,
   "metadata": {
    "id": "aObqKTiKL4Iy"
   },
   "outputs": [],
   "source": [
    "sns.heatmap(df2.isnull(), cbar=False)"
   ]
  },
  {
   "cell_type": "markdown",
   "metadata": {
    "id": "vAkRejjfL4Iy"
   },
   "source": [
    "Afficher le nombre de valeurs nulles Embarked, Cabin et Sex.\n"
   ]
  },
  {
   "cell_type": "code",
   "execution_count": null,
   "metadata": {
    "id": "AAsDeAKcL4Iz"
   },
   "outputs": [],
   "source": [
    "\n",
    "\n",
    "\n",
    "\n",
    "\n"
   ]
  },
  {
   "cell_type": "markdown",
   "metadata": {
    "id": "oJ4VJL2nL4Iz"
   },
   "source": [
    "Remplacer les valeurs nulles de l'age par la moyenne des ages des passagers. Penser à vérifier que la transformation a bien été effectuée."
   ]
  },
  {
   "cell_type": "code",
   "execution_count": null,
   "metadata": {
    "id": "ooJg9dtVL4Iz"
   },
   "outputs": [],
   "source": [
    "\n",
    "\n",
    "\n",
    "\n",
    "\n",
    "\n",
    "\n"
   ]
  },
  {
   "cell_type": "markdown",
   "metadata": {
    "id": "dESH7zQYL4Iz"
   },
   "source": [
    "Supprimer tous les enregistrements qui contiennent encore une valeur nulle."
   ]
  },
  {
   "cell_type": "code",
   "execution_count": null,
   "metadata": {
    "id": "fHl-GbE1L4I0"
   },
   "outputs": [],
   "source": [
    "\n",
    "\n",
    "\n",
    "\n",
    "\n",
    "\n",
    "\n"
   ]
  },
  {
   "cell_type": "markdown",
   "metadata": {
    "id": "7NQsLcdnL4I0"
   },
   "source": [
    "Utiliser sns.heatmap(df.isnull(), cbar=False) sur votre dataframe pour vérifier qu'il n'y a plus de valeurs nulles. "
   ]
  },
  {
   "cell_type": "code",
   "execution_count": null,
   "metadata": {
    "id": "Ij7A_1xYL4I0"
   },
   "outputs": [],
   "source": [
    "\n",
    "\n",
    "\n",
    "\n",
    "\n"
   ]
  },
  {
   "cell_type": "markdown",
   "metadata": {
    "id": "sJS5zislL4I1"
   },
   "source": [
    "Quelle est la taille de votre dataframa à présent ? Comparer le à la taille initiale."
   ]
  },
  {
   "cell_type": "code",
   "execution_count": null,
   "metadata": {
    "id": "pagTlESHL4I1"
   },
   "outputs": [],
   "source": [
    "\n",
    "\n",
    "\n"
   ]
  },
  {
   "cell_type": "markdown",
   "metadata": {
    "id": "e5tFpAiTL4I1"
   },
   "source": [
    "En fait en supprimant les valeurs manquantes de cabines de trop nombreux enregristrements ont été effacés. Nous pouvons constater qu'il y a beaucoup de valeurs manquantes pour Cabin et que dans tous les cas elle ne va donc pas pouvoir aider à faire de la classification.  \n",
    "\n",
    "Créer un nouveau dataframe df3=df.copy().  \n",
    "Remplacer la valeur d'age par la médiane.  \n",
    "Par simplification, supprimer la colonne Cabin.  \n",
    "Rappel : pour supprimer une colonne df.drop('Nom colonne',1). Effacer les autres valeurs manquantes.   \n",
    "Enfin, supprimer toutes les valeurs manquantes.  \n",
    "\n",
    "Vérifier à l'aide de heatmap que votre jeu de données n'a plus de valeurs manquantes. Indiquer la taille du jeu de données. \n"
   ]
  },
  {
   "cell_type": "code",
   "execution_count": null,
   "metadata": {
    "id": "ofT38jKkL4I1"
   },
   "outputs": [],
   "source": [
    "\n",
    "\n",
    "\n",
    "\n",
    "\n",
    "\n",
    "\n",
    "\n",
    "\n",
    "\n"
   ]
  },
  {
   "cell_type": "markdown",
   "metadata": {
    "id": "vSVrk6VyL4I1"
   },
   "source": [
    "Afficher à présent l'histogramme des ages."
   ]
  },
  {
   "cell_type": "code",
   "execution_count": null,
   "metadata": {
    "id": "jtmplPSJL4I1"
   },
   "outputs": [],
   "source": [
    "\n",
    "\n",
    "\n",
    "\n"
   ]
  },
  {
   "cell_type": "markdown",
   "metadata": {
    "id": "50_eXHsXL4I2"
   },
   "source": [
    "**Suppression des colonnes inutiles**\n",
    "\n",
    "Dans cette étape il convient de supprimer les colonnes qui ne seront pas utiles pour la classification. \n",
    "La question à se poser est pour chaque colonne : est ce que cela a un sens de la conserver ?   \n",
    "Il faut faire des choix qui peut être auront une conséquence sur la classification !!\n",
    "    \n",
    "Dans le jeu de données nous voyons qu'il n'y a sans doute pas d'intérêt de conserver le numéro de ticket car il ne semble pas qu'il y ait un codage particulier.  \n",
    "Le nom des passager semble inutile. Pourtant si l'on regarde un peu attentivement (df3.display()) on peut se rendre compte qu'il existe des titres différents (Mr., Master, Miss, Rev., Mrs. etc) qui pourraient avoir un impact sur la classification.  \n",
    "L'identifiant du passager n'apporte pas d'information.  \n",
    "\n",
    "Effacer les différentes colonnes : 'Ticket', 'Name' et 'PassengerId'.\n",
    "\n",
    "    "
   ]
  },
  {
   "cell_type": "code",
   "execution_count": null,
   "metadata": {
    "id": "G4rQtFc6L4I2"
   },
   "outputs": [],
   "source": [
    "\n",
    "\n",
    "\n"
   ]
  },
  {
   "cell_type": "markdown",
   "metadata": {
    "id": "-7Ueer1oL4I2"
   },
   "source": [
    "Un petit retour sur la colonne Person.  \n",
    "A l'aide de display(df3.iloc[131] que constatez vous ? "
   ]
  },
  {
   "cell_type": "code",
   "execution_count": null,
   "metadata": {
    "id": "h6GPHIqYL4I2"
   },
   "outputs": [],
   "source": [
    "\n",
    "\n",
    "\n"
   ]
  },
  {
   "cell_type": "markdown",
   "metadata": {
    "id": "CwkSEQ06L4I2"
   },
   "source": [
    "La fonction ayant été appliquée avant le traitement des valeurs manquantes toutes celles qui étaient manquantes ont été remplacées par le sexe de la personne. Supprimer la colonne Person."
   ]
  },
  {
   "cell_type": "code",
   "execution_count": null,
   "metadata": {
    "id": "JaoSA-RKL4I2"
   },
   "outputs": [],
   "source": [
    "\n",
    "\n",
    "\n"
   ]
  },
  {
   "cell_type": "markdown",
   "metadata": {
    "id": "hkM3YIYAL4I3"
   },
   "source": [
    "**Attributs continus**\n",
    "\n",
    "Il y a deux attributs continus dans le jeu de données. Age et Fare.  \n",
    "\n",
    "Transformer à l'aide de la fonction cut l'attribut Age de manière à ce que les valeurs puissent prendre en compte les valeurs suivantes : \n",
    "   bins = (0, 5, 12, 18, 25, 35, 60, 120)  \n",
    "   group_names = ['Baby', 'Child', 'Teenager', 'Student', 'Young Adult', 'Adult', 'Senior']   \n",
    "\n",
    "Transformer à l'aide de la fonction cut l'attribut Fare de manière à ce que les valeurs puissent prendre en compte les valeurs suivantes : \n",
    "    bins = (0, 8, 15, 31, 1000)  \n",
    "    group_names = ['1_quartile', '2_quartile', '3_quartile', '4_quartile']\n",
    "\n"
   ]
  },
  {
   "cell_type": "code",
   "execution_count": null,
   "metadata": {
    "id": "riyWr4XvL4I3"
   },
   "outputs": [],
   "source": [
    "\n",
    "\n",
    "\n",
    "\n",
    "\n",
    "\n",
    "\n"
   ]
  },
  {
   "cell_type": "markdown",
   "metadata": {
    "id": "8_TRWcHwL4I3"
   },
   "source": [
    "**Attribut catégoriel**\n",
    "\n",
    "\n",
    "Pour connaître les attributs catégoriels faire un df.info(). Les attributs catégoriels apparaissent avec comme type object ou category."
   ]
  },
  {
   "cell_type": "code",
   "execution_count": null,
   "metadata": {
    "id": "OWneY1ofL4I3"
   },
   "outputs": [],
   "source": [
    "\n",
    "print (df3.info())"
   ]
  },
  {
   "cell_type": "markdown",
   "metadata": {
    "id": "t639gkVIL4I3"
   },
   "source": [
    "Il y a 4 attributs catégoriels à présent dans le jeu de données. Pour chacun d'entre eux transformer les en valeur numérique à l'aide de la fonction LabelEncoder()."
   ]
  },
  {
   "cell_type": "code",
   "execution_count": null,
   "metadata": {
    "id": "5tOEUGUML4I3"
   },
   "outputs": [],
   "source": [
    "\n",
    "\n",
    "\n",
    "\n",
    "\n",
    "\n",
    "\n"
   ]
  },
  {
   "cell_type": "markdown",
   "metadata": {
    "id": "fL0ghej2L4I4"
   },
   "source": [
    "## Sauvegarde du fichier transformé "
   ]
  },
  {
   "cell_type": "markdown",
   "metadata": {
    "id": "mqkiI0PZL4I4"
   },
   "source": [
    "A présent sauvegarder le fichier modifié en titanic2.csv avec comme tabulateur des ';' en conservant l'entête."
   ]
  },
  {
   "cell_type": "code",
   "execution_count": null,
   "metadata": {
    "id": "pjpeQBvFL4I-"
   },
   "outputs": [],
   "source": [
    "\n",
    "\n",
    "\n",
    "\n",
    "\n",
    "\n"
   ]
  },
  {
   "cell_type": "markdown",
   "metadata": {
    "id": "su_N1j9yL4I_"
   },
   "source": [
    "Vérifier que votre fichier a été correctement sauvegardé. "
   ]
  },
  {
   "cell_type": "code",
   "execution_count": null,
   "metadata": {
    "id": "xUFT7tOVL4I_"
   },
   "outputs": [],
   "source": [
    "df=pd.read_csv('titanic2.csv', sep=';')\n",
    "df.head()"
   ]
  }
 ],
 "metadata": {
  "colab": {
   "name": "TP1_HAI817I.ipynb",
   "provenance": []
  },
  "kernelspec": {
   "display_name": "Python 3 (ipykernel)",
   "language": "python",
   "name": "python3"
  },
  "language_info": {
   "codemirror_mode": {
    "name": "ipython",
    "version": 3
   },
   "file_extension": ".py",
   "mimetype": "text/x-python",
   "name": "python",
   "nbconvert_exporter": "python",
   "pygments_lexer": "ipython3",
   "version": "3.10.9"
  }
 },
 "nbformat": 4,
 "nbformat_minor": 1
}
