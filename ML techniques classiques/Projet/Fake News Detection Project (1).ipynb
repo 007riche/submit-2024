{
 "cells": [
  {
   "cell_type": "markdown",
   "id": "6d1b9fa2",
   "metadata": {},
   "source": [
    "# LOADING LIBRARIES AND DATASETS"
   ]
  },
  {
   "cell_type": "code",
   "execution_count": 67,
   "id": "705523cd",
   "metadata": {},
   "outputs": [],
   "source": [
    "import numpy as np\n",
    "import re\n",
    "import pandas as pd\n",
    "from nltk.corpus import stopwords\n",
    "from nltk.stem.porter import PorterStemmer\n",
    "from sklearn.feature_extraction.text import TfidfVectorizer, TfidfTransformer\n",
    "from sklearn.model_selection import train_test_split, GridSearchCV\n",
    "from sklearn.linear_model import LogisticRegression\n",
    "from sklearn.metrics import accuracy_score, ConfusionMatrixDisplay , classification_report , roc_curve\n",
    "import nltk\n",
    "\n",
    "from sklearn.feature_extraction.text import CountVectorizer\n",
    "from sklearn.svm import SVC\n",
    "from sklearn.tree import DecisionTreeClassifier\n",
    "from sklearn.ensemble import RandomForestClassifier , GradientBoostingClassifier\n",
    "from matplotlib import pyplot as plt\n"
   ]
  },
  {
   "cell_type": "code",
   "execution_count": 3,
   "id": "f6d02c47",
   "metadata": {},
   "outputs": [],
   "source": [
    "news_df = pd.read_csv('C:/bramete-attachments/Project_data/Project_data/Projet_train.csv')\n"
   ]
  },
  {
   "cell_type": "code",
   "execution_count": 4,
   "id": "48324093",
   "metadata": {},
   "outputs": [
    {
     "data": {
      "text/html": [
       "<div>\n",
       "<style scoped>\n",
       "    .dataframe tbody tr th:only-of-type {\n",
       "        vertical-align: middle;\n",
       "    }\n",
       "\n",
       "    .dataframe tbody tr th {\n",
       "        vertical-align: top;\n",
       "    }\n",
       "\n",
       "    .dataframe thead th {\n",
       "        text-align: right;\n",
       "    }\n",
       "</style>\n",
       "<table border=\"1\" class=\"dataframe\">\n",
       "  <thead>\n",
       "    <tr style=\"text-align: right;\">\n",
       "      <th></th>\n",
       "      <th>public_id</th>\n",
       "      <th>text</th>\n",
       "      <th>title</th>\n",
       "      <th>our rating</th>\n",
       "    </tr>\n",
       "  </thead>\n",
       "  <tbody>\n",
       "    <tr>\n",
       "      <th>0</th>\n",
       "      <td>5a228e0e</td>\n",
       "      <td>Distracted driving causes more deaths in Canad...</td>\n",
       "      <td>You Can Be Fined $1,500 If Your Passenger Is U...</td>\n",
       "      <td>false</td>\n",
       "    </tr>\n",
       "    <tr>\n",
       "      <th>1</th>\n",
       "      <td>30c605a1</td>\n",
       "      <td>Missouri politicians have made statements afte...</td>\n",
       "      <td>Missouri lawmakers condemn Las Vegas shooting</td>\n",
       "      <td>mixture</td>\n",
       "    </tr>\n",
       "    <tr>\n",
       "      <th>2</th>\n",
       "      <td>c3dea290</td>\n",
       "      <td>Home Alone 2: Lost in New York is full of viol...</td>\n",
       "      <td>CBC Cuts Donald Trump's 'Home Alone 2' Cameo O...</td>\n",
       "      <td>mixture</td>\n",
       "    </tr>\n",
       "    <tr>\n",
       "      <th>3</th>\n",
       "      <td>f14e8eb6</td>\n",
       "      <td>But things took a turn for the worse when riot...</td>\n",
       "      <td>Obama’s Daughters Caught on Camera Burning US ...</td>\n",
       "      <td>false</td>\n",
       "    </tr>\n",
       "    <tr>\n",
       "      <th>4</th>\n",
       "      <td>faf024d6</td>\n",
       "      <td>It’s no secret that Epstein and Schiff share a...</td>\n",
       "      <td>Leaked Visitor Logs Reveal Schiff’s 78 Visits ...</td>\n",
       "      <td>false</td>\n",
       "    </tr>\n",
       "  </tbody>\n",
       "</table>\n",
       "</div>"
      ],
      "text/plain": [
       "  public_id                                               text   \n",
       "0  5a228e0e  Distracted driving causes more deaths in Canad...  \\\n",
       "1  30c605a1  Missouri politicians have made statements afte...   \n",
       "2  c3dea290  Home Alone 2: Lost in New York is full of viol...   \n",
       "3  f14e8eb6  But things took a turn for the worse when riot...   \n",
       "4  faf024d6  It’s no secret that Epstein and Schiff share a...   \n",
       "\n",
       "                                               title our rating  \n",
       "0  You Can Be Fined $1,500 If Your Passenger Is U...      false  \n",
       "1      Missouri lawmakers condemn Las Vegas shooting    mixture  \n",
       "2  CBC Cuts Donald Trump's 'Home Alone 2' Cameo O...    mixture  \n",
       "3  Obama’s Daughters Caught on Camera Burning US ...      false  \n",
       "4  Leaked Visitor Logs Reveal Schiff’s 78 Visits ...      false  "
      ]
     },
     "execution_count": 4,
     "metadata": {},
     "output_type": "execute_result"
    }
   ],
   "source": [
    "news_df.head()\n"
   ]
  },
  {
   "cell_type": "markdown",
   "id": "19942cd1",
   "metadata": {},
   "source": [
    "# PreProcessing"
   ]
  },
  {
   "cell_type": "code",
   "execution_count": 5,
   "id": "81be58f6",
   "metadata": {},
   "outputs": [
    {
     "data": {
      "text/plain": [
       "public_id      0\n",
       "text           0\n",
       "title         23\n",
       "our rating     0\n",
       "dtype: int64"
      ]
     },
     "execution_count": 5,
     "metadata": {},
     "output_type": "execute_result"
    }
   ],
   "source": [
    "news_df.isnull().sum()\n"
   ]
  },
  {
   "cell_type": "code",
   "execution_count": 6,
   "id": "332d3161",
   "metadata": {},
   "outputs": [
    {
     "data": {
      "text/plain": [
       "(1264, 4)"
      ]
     },
     "execution_count": 6,
     "metadata": {},
     "output_type": "execute_result"
    }
   ],
   "source": [
    "news_df.shape\n"
   ]
  },
  {
   "cell_type": "code",
   "execution_count": 7,
   "id": "1fb0f495",
   "metadata": {},
   "outputs": [],
   "source": [
    "news_df = news_df.fillna(' ')\n"
   ]
  },
  {
   "cell_type": "code",
   "execution_count": 8,
   "id": "46cd82e6",
   "metadata": {},
   "outputs": [
    {
     "data": {
      "text/plain": [
       "public_id     0\n",
       "text          0\n",
       "title         0\n",
       "our rating    0\n",
       "dtype: int64"
      ]
     },
     "execution_count": 8,
     "metadata": {},
     "output_type": "execute_result"
    }
   ],
   "source": [
    "news_df.isnull().sum()\n"
   ]
  },
  {
   "cell_type": "code",
   "execution_count": 9,
   "id": "763492b6",
   "metadata": {},
   "outputs": [],
   "source": [
    "news_df['content'] = news_df['title']+' '+news_df['text']\n"
   ]
  },
  {
   "cell_type": "code",
   "execution_count": 10,
   "id": "c282df7a",
   "metadata": {},
   "outputs": [
    {
     "data": {
      "text/html": [
       "<div>\n",
       "<style scoped>\n",
       "    .dataframe tbody tr th:only-of-type {\n",
       "        vertical-align: middle;\n",
       "    }\n",
       "\n",
       "    .dataframe tbody tr th {\n",
       "        vertical-align: top;\n",
       "    }\n",
       "\n",
       "    .dataframe thead th {\n",
       "        text-align: right;\n",
       "    }\n",
       "</style>\n",
       "<table border=\"1\" class=\"dataframe\">\n",
       "  <thead>\n",
       "    <tr style=\"text-align: right;\">\n",
       "      <th></th>\n",
       "      <th>public_id</th>\n",
       "      <th>text</th>\n",
       "      <th>title</th>\n",
       "      <th>our rating</th>\n",
       "      <th>content</th>\n",
       "    </tr>\n",
       "  </thead>\n",
       "  <tbody>\n",
       "    <tr>\n",
       "      <th>0</th>\n",
       "      <td>5a228e0e</td>\n",
       "      <td>Distracted driving causes more deaths in Canad...</td>\n",
       "      <td>You Can Be Fined $1,500 If Your Passenger Is U...</td>\n",
       "      <td>false</td>\n",
       "      <td>You Can Be Fined $1,500 If Your Passenger Is U...</td>\n",
       "    </tr>\n",
       "    <tr>\n",
       "      <th>1</th>\n",
       "      <td>30c605a1</td>\n",
       "      <td>Missouri politicians have made statements afte...</td>\n",
       "      <td>Missouri lawmakers condemn Las Vegas shooting</td>\n",
       "      <td>mixture</td>\n",
       "      <td>Missouri lawmakers condemn Las Vegas shooting ...</td>\n",
       "    </tr>\n",
       "    <tr>\n",
       "      <th>2</th>\n",
       "      <td>c3dea290</td>\n",
       "      <td>Home Alone 2: Lost in New York is full of viol...</td>\n",
       "      <td>CBC Cuts Donald Trump's 'Home Alone 2' Cameo O...</td>\n",
       "      <td>mixture</td>\n",
       "      <td>CBC Cuts Donald Trump's 'Home Alone 2' Cameo O...</td>\n",
       "    </tr>\n",
       "    <tr>\n",
       "      <th>3</th>\n",
       "      <td>f14e8eb6</td>\n",
       "      <td>But things took a turn for the worse when riot...</td>\n",
       "      <td>Obama’s Daughters Caught on Camera Burning US ...</td>\n",
       "      <td>false</td>\n",
       "      <td>Obama’s Daughters Caught on Camera Burning US ...</td>\n",
       "    </tr>\n",
       "    <tr>\n",
       "      <th>4</th>\n",
       "      <td>faf024d6</td>\n",
       "      <td>It’s no secret that Epstein and Schiff share a...</td>\n",
       "      <td>Leaked Visitor Logs Reveal Schiff’s 78 Visits ...</td>\n",
       "      <td>false</td>\n",
       "      <td>Leaked Visitor Logs Reveal Schiff’s 78 Visits ...</td>\n",
       "    </tr>\n",
       "    <tr>\n",
       "      <th>...</th>\n",
       "      <td>...</td>\n",
       "      <td>...</td>\n",
       "      <td>...</td>\n",
       "      <td>...</td>\n",
       "      <td>...</td>\n",
       "    </tr>\n",
       "    <tr>\n",
       "      <th>1259</th>\n",
       "      <td>47423bb6</td>\n",
       "      <td>More than four million calls to the taxman are...</td>\n",
       "      <td>Taxman fails to answer four million calls a ye...</td>\n",
       "      <td>true</td>\n",
       "      <td>Taxman fails to answer four million calls a ye...</td>\n",
       "    </tr>\n",
       "    <tr>\n",
       "      <th>1260</th>\n",
       "      <td>097c142a</td>\n",
       "      <td>More under-18s are being taken to court for se...</td>\n",
       "      <td>Police catch 11‑year‑olds being used to sell d...</td>\n",
       "      <td>true</td>\n",
       "      <td>Police catch 11‑year‑olds being used to sell d...</td>\n",
       "    </tr>\n",
       "    <tr>\n",
       "      <th>1261</th>\n",
       "      <td>08bc59f4</td>\n",
       "      <td>The Government’s much vaunted Help to Buy Isa ...</td>\n",
       "      <td>Help to Buy Isa scandal: 500,000 first-time bu...</td>\n",
       "      <td>false</td>\n",
       "      <td>Help to Buy Isa scandal: 500,000 first-time bu...</td>\n",
       "    </tr>\n",
       "    <tr>\n",
       "      <th>1262</th>\n",
       "      <td>af3393ce</td>\n",
       "      <td>The late Robin Williams once called cocaine “G...</td>\n",
       "      <td>A coke-snorting generation of hypocrites</td>\n",
       "      <td>true</td>\n",
       "      <td>A coke-snorting generation of hypocrites The l...</td>\n",
       "    </tr>\n",
       "    <tr>\n",
       "      <th>1263</th>\n",
       "      <td>a39d07df</td>\n",
       "      <td>The late Robin Williams once called cocaine “G...</td>\n",
       "      <td>A coke-snorting generation of hypocrites</td>\n",
       "      <td>true</td>\n",
       "      <td>A coke-snorting generation of hypocrites The l...</td>\n",
       "    </tr>\n",
       "  </tbody>\n",
       "</table>\n",
       "<p>1264 rows × 5 columns</p>\n",
       "</div>"
      ],
      "text/plain": [
       "     public_id                                               text   \n",
       "0     5a228e0e  Distracted driving causes more deaths in Canad...  \\\n",
       "1     30c605a1  Missouri politicians have made statements afte...   \n",
       "2     c3dea290  Home Alone 2: Lost in New York is full of viol...   \n",
       "3     f14e8eb6  But things took a turn for the worse when riot...   \n",
       "4     faf024d6  It’s no secret that Epstein and Schiff share a...   \n",
       "...        ...                                                ...   \n",
       "1259  47423bb6  More than four million calls to the taxman are...   \n",
       "1260  097c142a  More under-18s are being taken to court for se...   \n",
       "1261  08bc59f4  The Government’s much vaunted Help to Buy Isa ...   \n",
       "1262  af3393ce  The late Robin Williams once called cocaine “G...   \n",
       "1263  a39d07df  The late Robin Williams once called cocaine “G...   \n",
       "\n",
       "                                                  title our rating   \n",
       "0     You Can Be Fined $1,500 If Your Passenger Is U...      false  \\\n",
       "1         Missouri lawmakers condemn Las Vegas shooting    mixture   \n",
       "2     CBC Cuts Donald Trump's 'Home Alone 2' Cameo O...    mixture   \n",
       "3     Obama’s Daughters Caught on Camera Burning US ...      false   \n",
       "4     Leaked Visitor Logs Reveal Schiff’s 78 Visits ...      false   \n",
       "...                                                 ...        ...   \n",
       "1259  Taxman fails to answer four million calls a ye...       true   \n",
       "1260  Police catch 11‑year‑olds being used to sell d...       true   \n",
       "1261  Help to Buy Isa scandal: 500,000 first-time bu...      false   \n",
       "1262           A coke-snorting generation of hypocrites       true   \n",
       "1263           A coke-snorting generation of hypocrites       true   \n",
       "\n",
       "                                                content  \n",
       "0     You Can Be Fined $1,500 If Your Passenger Is U...  \n",
       "1     Missouri lawmakers condemn Las Vegas shooting ...  \n",
       "2     CBC Cuts Donald Trump's 'Home Alone 2' Cameo O...  \n",
       "3     Obama’s Daughters Caught on Camera Burning US ...  \n",
       "4     Leaked Visitor Logs Reveal Schiff’s 78 Visits ...  \n",
       "...                                                 ...  \n",
       "1259  Taxman fails to answer four million calls a ye...  \n",
       "1260  Police catch 11‑year‑olds being used to sell d...  \n",
       "1261  Help to Buy Isa scandal: 500,000 first-time bu...  \n",
       "1262  A coke-snorting generation of hypocrites The l...  \n",
       "1263  A coke-snorting generation of hypocrites The l...  \n",
       "\n",
       "[1264 rows x 5 columns]"
      ]
     },
     "execution_count": 10,
     "metadata": {},
     "output_type": "execute_result"
    }
   ],
   "source": [
    "news_df"
   ]
  },
  {
   "cell_type": "code",
   "execution_count": 12,
   "id": "e8a10e5b",
   "metadata": {},
   "outputs": [],
   "source": [
    "X = news_df.drop('our rating',axis=1)\n",
    "y = news_df['our rating']"
   ]
  },
  {
   "cell_type": "code",
   "execution_count": 13,
   "id": "c43d5c2a",
   "metadata": {},
   "outputs": [
    {
     "name": "stdout",
     "output_type": "stream",
     "text": [
      "     public_id                                               text   \n",
      "0     5a228e0e  Distracted driving causes more deaths in Canad...  \\\n",
      "1     30c605a1  Missouri politicians have made statements afte...   \n",
      "2     c3dea290  Home Alone 2: Lost in New York is full of viol...   \n",
      "3     f14e8eb6  But things took a turn for the worse when riot...   \n",
      "4     faf024d6  It’s no secret that Epstein and Schiff share a...   \n",
      "...        ...                                                ...   \n",
      "1259  47423bb6  More than four million calls to the taxman are...   \n",
      "1260  097c142a  More under-18s are being taken to court for se...   \n",
      "1261  08bc59f4  The Government’s much vaunted Help to Buy Isa ...   \n",
      "1262  af3393ce  The late Robin Williams once called cocaine “G...   \n",
      "1263  a39d07df  The late Robin Williams once called cocaine “G...   \n",
      "\n",
      "                                                  title   \n",
      "0     You Can Be Fined $1,500 If Your Passenger Is U...  \\\n",
      "1         Missouri lawmakers condemn Las Vegas shooting   \n",
      "2     CBC Cuts Donald Trump's 'Home Alone 2' Cameo O...   \n",
      "3     Obama’s Daughters Caught on Camera Burning US ...   \n",
      "4     Leaked Visitor Logs Reveal Schiff’s 78 Visits ...   \n",
      "...                                                 ...   \n",
      "1259  Taxman fails to answer four million calls a ye...   \n",
      "1260  Police catch 11‑year‑olds being used to sell d...   \n",
      "1261  Help to Buy Isa scandal: 500,000 first-time bu...   \n",
      "1262           A coke-snorting generation of hypocrites   \n",
      "1263           A coke-snorting generation of hypocrites   \n",
      "\n",
      "                                                content  \n",
      "0     You Can Be Fined $1,500 If Your Passenger Is U...  \n",
      "1     Missouri lawmakers condemn Las Vegas shooting ...  \n",
      "2     CBC Cuts Donald Trump's 'Home Alone 2' Cameo O...  \n",
      "3     Obama’s Daughters Caught on Camera Burning US ...  \n",
      "4     Leaked Visitor Logs Reveal Schiff’s 78 Visits ...  \n",
      "...                                                 ...  \n",
      "1259  Taxman fails to answer four million calls a ye...  \n",
      "1260  Police catch 11‑year‑olds being used to sell d...  \n",
      "1261  Help to Buy Isa scandal: 500,000 first-time bu...  \n",
      "1262  A coke-snorting generation of hypocrites The l...  \n",
      "1263  A coke-snorting generation of hypocrites The l...  \n",
      "\n",
      "[1264 rows x 4 columns]\n"
     ]
    }
   ],
   "source": [
    "print(X)\n"
   ]
  },
  {
   "cell_type": "code",
   "execution_count": 14,
   "id": "45ee20e7",
   "metadata": {},
   "outputs": [],
   "source": [
    "ps = PorterStemmer()\n",
    "def stemming(content):\n",
    "    stemmed_content = re.sub('[^a-zA-Z]',' ',content)\n",
    "    stemmed_content = stemmed_content.lower()\n",
    "    stemmed_content = stemmed_content.split()\n",
    "    stemmed_content = [ps.stem(word) for word in stemmed_content if not word in stopwords.words('english')]\n",
    "    stemmed_content = ' '.join(stemmed_content)\n",
    "    return stemmed_content"
   ]
  },
  {
   "cell_type": "code",
   "execution_count": 15,
   "id": "ed5d14d3",
   "metadata": {},
   "outputs": [],
   "source": [
    "news_df['content'] = news_df['content'].apply(stemming)\n"
   ]
  },
  {
   "cell_type": "code",
   "execution_count": 16,
   "id": "5aaaf564",
   "metadata": {},
   "outputs": [],
   "source": [
    "X = news_df['content'].values\n",
    "y = news_df['our rating'].values"
   ]
  },
  {
   "cell_type": "code",
   "execution_count": 17,
   "id": "51faca04",
   "metadata": {},
   "outputs": [],
   "source": [
    "vector = TfidfVectorizer()\n",
    "vector.fit(X)\n",
    "X = vector.transform(X)"
   ]
  },
  {
   "cell_type": "code",
   "execution_count": 18,
   "id": "c85f38ed",
   "metadata": {},
   "outputs": [
    {
     "name": "stdout",
     "output_type": "stream",
     "text": [
      "  (0, 19679)\t0.0889019850867126\n",
      "  (0, 19398)\t0.07374732659317924\n",
      "  (0, 19322)\t0.03982295495779239\n",
      "  (0, 19097)\t0.04599565053912262\n",
      "  (0, 18881)\t0.031072924053682713\n",
      "  (0, 18010)\t0.03166167225438818\n",
      "  (0, 17862)\t0.05907050024680531\n",
      "  (0, 17798)\t0.03727333947768937\n",
      "  (0, 17796)\t0.05979481720738721\n",
      "  (0, 17633)\t0.04995521311135228\n",
      "  (0, 17202)\t0.08278205043399751\n",
      "  (0, 17032)\t0.04289340588115627\n",
      "  (0, 17001)\t0.06642607865925294\n",
      "  (0, 16273)\t0.024926188929705568\n",
      "  (0, 16028)\t0.0418188061357687\n",
      "  (0, 15949)\t0.0918167742748158\n",
      "  (0, 15845)\t0.17319740982701234\n",
      "  (0, 15832)\t0.08806702508524764\n",
      "  (0, 15557)\t0.06846235194192914\n",
      "  (0, 15531)\t0.04395369352097257\n",
      "  (0, 15321)\t0.07749707578274741\n",
      "  (0, 14412)\t0.08278205043399751\n",
      "  (0, 14244)\t0.2053870558257874\n",
      "  (0, 14133)\t0.03475432305369074\n",
      "  (0, 13953)\t0.04486876048993836\n",
      "  :\t:\n",
      "  (1263, 7300)\t0.11448913887753549\n",
      "  (1263, 7070)\t0.12624254428118722\n",
      "  (1263, 6391)\t0.07597500085419137\n",
      "  (1263, 6176)\t0.08213414851090248\n",
      "  (1263, 5940)\t0.09529509955573309\n",
      "  (1263, 5266)\t0.27914653134457146\n",
      "  (1263, 5156)\t0.09802878444760217\n",
      "  (1263, 4418)\t0.0768877271652482\n",
      "  (1263, 3743)\t0.1304391224583088\n",
      "  (1263, 3724)\t0.1260944209580966\n",
      "  (1263, 3677)\t0.15235445653658786\n",
      "  (1263, 3492)\t0.05338704497751368\n",
      "  (1263, 3429)\t0.1623985106718886\n",
      "  (1263, 3393)\t0.4570633696097636\n",
      "  (1263, 3263)\t0.09377726169585508\n",
      "  (1263, 2992)\t0.13798472183011953\n",
      "  (1263, 2917)\t0.10272271147408235\n",
      "  (1263, 2859)\t0.08925222114753065\n",
      "  (1263, 2798)\t0.06233179368534898\n",
      "  (1263, 2524)\t0.054183761340188326\n",
      "  (1263, 2231)\t0.08743733618042702\n",
      "  (1263, 588)\t0.15018358110679844\n",
      "  (1263, 482)\t0.07387763275440935\n",
      "  (1263, 300)\t0.08012143833602432\n",
      "  (1263, 225)\t0.1030662889980088\n"
     ]
    }
   ],
   "source": [
    "print(X)\n"
   ]
  },
  {
   "cell_type": "code",
   "execution_count": 19,
   "id": "d1e71923",
   "metadata": {},
   "outputs": [],
   "source": [
    "X_train, X_test, Y_train, Y_test = train_test_split(X, y, test_size = 0.2, stratify=y, random_state=2)\n"
   ]
  },
  {
   "cell_type": "code",
   "execution_count": 20,
   "id": "9e0a1307",
   "metadata": {},
   "outputs": [
    {
     "data": {
      "text/plain": [
       "(1011, 20301)"
      ]
     },
     "execution_count": 20,
     "metadata": {},
     "output_type": "execute_result"
    }
   ],
   "source": [
    "X_train.shape\n"
   ]
  },
  {
   "cell_type": "code",
   "execution_count": 21,
   "id": "73af640f",
   "metadata": {},
   "outputs": [
    {
     "data": {
      "text/html": [
       "<style>#sk-container-id-1 {color: black;background-color: white;}#sk-container-id-1 pre{padding: 0;}#sk-container-id-1 div.sk-toggleable {background-color: white;}#sk-container-id-1 label.sk-toggleable__label {cursor: pointer;display: block;width: 100%;margin-bottom: 0;padding: 0.3em;box-sizing: border-box;text-align: center;}#sk-container-id-1 label.sk-toggleable__label-arrow:before {content: \"▸\";float: left;margin-right: 0.25em;color: #696969;}#sk-container-id-1 label.sk-toggleable__label-arrow:hover:before {color: black;}#sk-container-id-1 div.sk-estimator:hover label.sk-toggleable__label-arrow:before {color: black;}#sk-container-id-1 div.sk-toggleable__content {max-height: 0;max-width: 0;overflow: hidden;text-align: left;background-color: #f0f8ff;}#sk-container-id-1 div.sk-toggleable__content pre {margin: 0.2em;color: black;border-radius: 0.25em;background-color: #f0f8ff;}#sk-container-id-1 input.sk-toggleable__control:checked~div.sk-toggleable__content {max-height: 200px;max-width: 100%;overflow: auto;}#sk-container-id-1 input.sk-toggleable__control:checked~label.sk-toggleable__label-arrow:before {content: \"▾\";}#sk-container-id-1 div.sk-estimator input.sk-toggleable__control:checked~label.sk-toggleable__label {background-color: #d4ebff;}#sk-container-id-1 div.sk-label input.sk-toggleable__control:checked~label.sk-toggleable__label {background-color: #d4ebff;}#sk-container-id-1 input.sk-hidden--visually {border: 0;clip: rect(1px 1px 1px 1px);clip: rect(1px, 1px, 1px, 1px);height: 1px;margin: -1px;overflow: hidden;padding: 0;position: absolute;width: 1px;}#sk-container-id-1 div.sk-estimator {font-family: monospace;background-color: #f0f8ff;border: 1px dotted black;border-radius: 0.25em;box-sizing: border-box;margin-bottom: 0.5em;}#sk-container-id-1 div.sk-estimator:hover {background-color: #d4ebff;}#sk-container-id-1 div.sk-parallel-item::after {content: \"\";width: 100%;border-bottom: 1px solid gray;flex-grow: 1;}#sk-container-id-1 div.sk-label:hover label.sk-toggleable__label {background-color: #d4ebff;}#sk-container-id-1 div.sk-serial::before {content: \"\";position: absolute;border-left: 1px solid gray;box-sizing: border-box;top: 0;bottom: 0;left: 50%;z-index: 0;}#sk-container-id-1 div.sk-serial {display: flex;flex-direction: column;align-items: center;background-color: white;padding-right: 0.2em;padding-left: 0.2em;position: relative;}#sk-container-id-1 div.sk-item {position: relative;z-index: 1;}#sk-container-id-1 div.sk-parallel {display: flex;align-items: stretch;justify-content: center;background-color: white;position: relative;}#sk-container-id-1 div.sk-item::before, #sk-container-id-1 div.sk-parallel-item::before {content: \"\";position: absolute;border-left: 1px solid gray;box-sizing: border-box;top: 0;bottom: 0;left: 50%;z-index: -1;}#sk-container-id-1 div.sk-parallel-item {display: flex;flex-direction: column;z-index: 1;position: relative;background-color: white;}#sk-container-id-1 div.sk-parallel-item:first-child::after {align-self: flex-end;width: 50%;}#sk-container-id-1 div.sk-parallel-item:last-child::after {align-self: flex-start;width: 50%;}#sk-container-id-1 div.sk-parallel-item:only-child::after {width: 0;}#sk-container-id-1 div.sk-dashed-wrapped {border: 1px dashed gray;margin: 0 0.4em 0.5em 0.4em;box-sizing: border-box;padding-bottom: 0.4em;background-color: white;}#sk-container-id-1 div.sk-label label {font-family: monospace;font-weight: bold;display: inline-block;line-height: 1.2em;}#sk-container-id-1 div.sk-label-container {text-align: center;}#sk-container-id-1 div.sk-container {/* jupyter's `normalize.less` sets `[hidden] { display: none; }` but bootstrap.min.css set `[hidden] { display: none !important; }` so we also need the `!important` here to be able to override the default hidden behavior on the sphinx rendered scikit-learn.org. See: https://github.com/scikit-learn/scikit-learn/issues/21755 */display: inline-block !important;position: relative;}#sk-container-id-1 div.sk-text-repr-fallback {display: none;}</style><div id=\"sk-container-id-1\" class=\"sk-top-container\"><div class=\"sk-text-repr-fallback\"><pre>LogisticRegression()</pre><b>In a Jupyter environment, please rerun this cell to show the HTML representation or trust the notebook. <br />On GitHub, the HTML representation is unable to render, please try loading this page with nbviewer.org.</b></div><div class=\"sk-container\" hidden><div class=\"sk-item\"><div class=\"sk-estimator sk-toggleable\"><input class=\"sk-toggleable__control sk-hidden--visually\" id=\"sk-estimator-id-1\" type=\"checkbox\" checked><label for=\"sk-estimator-id-1\" class=\"sk-toggleable__label sk-toggleable__label-arrow\">LogisticRegression</label><div class=\"sk-toggleable__content\"><pre>LogisticRegression()</pre></div></div></div></div></div>"
      ],
      "text/plain": [
       "LogisticRegression()"
      ]
     },
     "execution_count": 21,
     "metadata": {},
     "output_type": "execute_result"
    }
   ],
   "source": [
    "model = LogisticRegression()\n",
    "model.fit(X_train,Y_train)"
   ]
  },
  {
   "cell_type": "code",
   "execution_count": 22,
   "id": "52c85407",
   "metadata": {},
   "outputs": [
    {
     "name": "stdout",
     "output_type": "stream",
     "text": [
      "0.8130563798219584\n"
     ]
    }
   ],
   "source": [
    "# on training set\n",
    "train_y_pred = model.predict(X_train)\n",
    "print(accuracy_score(train_y_pred,Y_train))"
   ]
  },
  {
   "cell_type": "code",
   "execution_count": 23,
   "id": "ec01f375",
   "metadata": {},
   "outputs": [
    {
     "name": "stdout",
     "output_type": "stream",
     "text": [
      "0.5454545454545454\n"
     ]
    }
   ],
   "source": [
    "# on testing set\n",
    "testing_y_pred = model.predict(X_test)\n",
    "print(accuracy_score(testing_y_pred,Y_test))"
   ]
  },
  {
   "cell_type": "code",
   "execution_count": 24,
   "id": "16023cd4",
   "metadata": {},
   "outputs": [],
   "source": [
    "input_data = X_test[10]\n",
    "prediction = model.predict(input_data)"
   ]
  },
  {
   "cell_type": "code",
   "execution_count": 25,
   "id": "783d81e1",
   "metadata": {},
   "outputs": [
    {
     "name": "stdout",
     "output_type": "stream",
     "text": [
      "The News is Fake\n"
     ]
    }
   ],
   "source": [
    "if prediction[0] == 'False':\n",
    "    print('The News Is Real')\n",
    "else:\n",
    "    print('The News is Fake')"
   ]
  },
  {
   "cell_type": "code",
   "execution_count": 26,
   "id": "2c525ba2",
   "metadata": {},
   "outputs": [
    {
     "data": {
      "text/plain": [
       "'cbc cut donald trump home alon cameo broadcast home alon lost new york full violenc opinion exce physic comedi origin film borderlin barbar main antagonist subject brick thrown atop build shot stapl gun head lit afir electrocut actual hard watch cbc tv canada follow scene much remov broadcast film right comicbook com report cbc edit donald trump cameo movi peopl watch quick report suspici omiss social media outrag snowflak thrill guy biggest bush leagu journalist time edit trump cameo home alon kind state sponsor bullshit defund jame jameseast decemb http twitter com teko statu cbc cut trump home alon disgust pathet wrestl fan forev wrestlingfan decemb http twitter com adimarco statu accord cbc movi edit allow commerci time within format explan fail pass smell test donald trump formal announc campaign june first time cbc cut trump cameo appear acknowledg twitter around christma year thank cbc cut realdonaldtrump home alon colt mccaullani dennisgrimbl decemb either happen first year cbc broadcast movi highli doubt someth happen cbc broadcast home alon cbc broadcast one could argu trump polit figur public consciou year prior make headlin publicli question obama birth certif think excus realli work cameo cut sure would notic trump presidenti bid appear begin folk cbc trigger trump badli actual edit broadcast film decid hilari sad updat januari clear cbc issu formal statement say home alon edit first obtain right movi matt margoli author trump obama presid trump save us barack obama legaci bestsel book worst presid histori legaci barack obama follow matt twitter mattmargoli'"
      ]
     },
     "execution_count": 26,
     "metadata": {},
     "output_type": "execute_result"
    }
   ],
   "source": [
    "news_df['content'][2]\n"
   ]
  },
  {
   "cell_type": "code",
   "execution_count": 49,
   "id": "989ab6e5",
   "metadata": {},
   "outputs": [],
   "source": [
    "transformer = TfidfTransformer(smooth_idf=False)\n",
    "count_vectorizer = CountVectorizer(ngram_range=(1, 2))\n",
    "counts = count_vectorizer.fit_transform( news_df['content'].values)\n",
    "tfidf = transformer.fit_transform(counts)\n"
   ]
  },
  {
   "cell_type": "code",
   "execution_count": 50,
   "id": "a19158d1",
   "metadata": {},
   "outputs": [
    {
     "name": "stdout",
     "output_type": "stream",
     "text": [
      "The shape of X_train is: 1011\n",
      "The shape of X_test is: 253\n"
     ]
    }
   ],
   "source": [
    "print(f\"The shape of X_train is: {X_train.shape[0]}\")\n",
    "print(f\"The shape of X_test is: {X_test.shape[0]}\")"
   ]
  },
  {
   "cell_type": "code",
   "execution_count": 54,
   "id": "5be33d31",
   "metadata": {},
   "outputs": [],
   "source": [
    "def train(model , model_name):\n",
    "    model.fit(X_train,Y_train)\n",
    "    print(f\"Training accuracy of {model_name} is {model.score(X_train,Y_train)}\")\n",
    "    \n",
    "    print(f\"testing accuracy of {model_name} is {model.score(X_test,Y_test)}\")\n",
    "    \n",
    "def conf_matrix(model):\n",
    "    ConfusionMatrixDisplay.from_estimator(\n",
    "        model,\n",
    "        X_test,\n",
    "        Y_test\n",
    "    )\n",
    "def class_report(model):\n",
    "    print(classification_report(\n",
    "        Y_test,\n",
    "        model.predict(X_test)\n",
    "    ))"
   ]
  },
  {
   "cell_type": "code",
   "execution_count": 52,
   "id": "828ebf78",
   "metadata": {},
   "outputs": [],
   "source": [
    "model_lr = LogisticRegression()\n"
   ]
  },
  {
   "cell_type": "code",
   "execution_count": 55,
   "id": "30ba510c",
   "metadata": {},
   "outputs": [
    {
     "name": "stdout",
     "output_type": "stream",
     "text": [
      "Training accuracy of LogisticRegression is 0.8130563798219584\n",
      "testing accuracy of LogisticRegression is 0.5454545454545454\n"
     ]
    }
   ],
   "source": [
    "train(model_lr, 'LogisticRegression')\n"
   ]
  },
  {
   "cell_type": "code",
   "execution_count": 56,
   "id": "1159b54c",
   "metadata": {},
   "outputs": [
    {
     "data": {
      "image/png": "[encoded data removed]",
      "text/plain": [
       "<Figure size 640x480 with 2 Axes>"
      ]
     },
     "metadata": {},
     "output_type": "display_data"
    }
   ],
   "source": [
    "conf_matrix(model_lr)\n"
   ]
  },
  {
   "cell_type": "code",
   "execution_count": 57,
   "id": "8e0a837c",
   "metadata": {},
   "outputs": [
    {
     "name": "stdout",
     "output_type": "stream",
     "text": [
      "              precision    recall  f1-score   support\n",
      "\n",
      "       false       0.56      0.88      0.69       116\n",
      "     mixture       0.52      0.43      0.47        72\n",
      "       other       0.00      0.00      0.00        23\n",
      "        true       0.42      0.12      0.19        42\n",
      "\n",
      "    accuracy                           0.55       253\n",
      "   macro avg       0.37      0.36      0.34       253\n",
      "weighted avg       0.47      0.55      0.48       253\n",
      "\n"
     ]
    },
    {
     "name": "stderr",
     "output_type": "stream",
     "text": [
      "C:\\Users\\auaza\\anaconda3\\envs\\test\\lib\\site-packages\\sklearn\\metrics\\_classification.py:1344: UndefinedMetricWarning: Precision and F-score are ill-defined and being set to 0.0 in labels with no predicted samples. Use `zero_division` parameter to control this behavior.\n",
      "  _warn_prf(average, modifier, msg_start, len(result))\n",
      "C:\\Users\\auaza\\anaconda3\\envs\\test\\lib\\site-packages\\sklearn\\metrics\\_classification.py:1344: UndefinedMetricWarning: Precision and F-score are ill-defined and being set to 0.0 in labels with no predicted samples. Use `zero_division` parameter to control this behavior.\n",
      "  _warn_prf(average, modifier, msg_start, len(result))\n",
      "C:\\Users\\auaza\\anaconda3\\envs\\test\\lib\\site-packages\\sklearn\\metrics\\_classification.py:1344: UndefinedMetricWarning: Precision and F-score are ill-defined and being set to 0.0 in labels with no predicted samples. Use `zero_division` parameter to control this behavior.\n",
      "  _warn_prf(average, modifier, msg_start, len(result))\n"
     ]
    }
   ],
   "source": [
    "class_report(model_lr)\n"
   ]
  },
  {
   "cell_type": "markdown",
   "id": "cd9c174f",
   "metadata": {},
   "source": [
    "# SVM"
   ]
  },
  {
   "cell_type": "code",
   "execution_count": 58,
   "id": "05dcff63",
   "metadata": {},
   "outputs": [],
   "source": [
    "svc_model= SVC()\n"
   ]
  },
  {
   "cell_type": "code",
   "execution_count": 59,
   "id": "ec913af2",
   "metadata": {},
   "outputs": [
    {
     "name": "stdout",
     "output_type": "stream",
     "text": [
      "Training accuracy of SVM is 0.9584569732937686\n",
      "testing accuracy of SVM is 0.5810276679841897\n"
     ]
    }
   ],
   "source": [
    "train(svc_model, 'SVM')\n"
   ]
  },
  {
   "cell_type": "code",
   "execution_count": 60,
   "id": "ec86b6ca",
   "metadata": {},
   "outputs": [
    {
     "data": {
      "image/png": "[encoded data removed]",
      "text/plain": [
       "<Figure size 640x480 with 2 Axes>"
      ]
     },
     "metadata": {},
     "output_type": "display_data"
    }
   ],
   "source": [
    "conf_matrix(svc_model)\n"
   ]
  },
  {
   "cell_type": "code",
   "execution_count": 61,
   "id": "3510169d",
   "metadata": {},
   "outputs": [
    {
     "name": "stdout",
     "output_type": "stream",
     "text": [
      "              precision    recall  f1-score   support\n",
      "\n",
      "       false       0.58      0.91      0.71       116\n",
      "     mixture       0.56      0.39      0.46        72\n",
      "       other       0.86      0.26      0.40        23\n",
      "        true       0.50      0.17      0.25        42\n",
      "\n",
      "    accuracy                           0.58       253\n",
      "   macro avg       0.62      0.43      0.46       253\n",
      "weighted avg       0.59      0.58      0.53       253\n",
      "\n"
     ]
    }
   ],
   "source": [
    "class_report(svc_model)\n"
   ]
  },
  {
   "cell_type": "markdown",
   "id": "738422ea",
   "metadata": {},
   "source": [
    "# DecisionTreeClassifier"
   ]
  },
  {
   "cell_type": "code",
   "execution_count": 62,
   "id": "323eef49",
   "metadata": {},
   "outputs": [],
   "source": [
    "depth_num= range(50, 71, 2)\n",
    "training_acc= []\n",
    "testing_acc = []\n",
    "for depth in depth_num:\n",
    "    tree_model = DecisionTreeClassifier(max_depth=depth,random_state=42)\n",
    "    tree_model.fit(X_train,Y_train)\n",
    "    training_acc.append(tree_model.score(X_train,Y_train))\n",
    "    testing_acc.append(tree_model.score(X_test,Y_test))"
   ]
  },
  {
   "cell_type": "code",
   "execution_count": 63,
   "id": "d965f4cb",
   "metadata": {},
   "outputs": [
    {
     "name": "stdout",
     "output_type": "stream",
     "text": [
      "Training Accuracy Scores: [0.9970326409495549, 0.9970326409495549, 0.9970326409495549]\n",
      "testing Accuracy Scores: [0.525691699604743, 0.525691699604743, 0.525691699604743]\n"
     ]
    }
   ],
   "source": [
    "print(\"Training Accuracy Scores:\", training_acc[:3])\n",
    "print(\"testing Accuracy Scores:\", testing_acc[:3])"
   ]
  },
  {
   "cell_type": "code",
   "execution_count": 69,
   "id": "2358f71a",
   "metadata": {},
   "outputs": [
    {
     "name": "stdout",
     "output_type": "stream",
     "text": [
      "Training accuracy of DesicionTreeClassifier is 0.9970326409495549\n",
      "testing accuracy of DesicionTreeClassifier is 0.525691699604743\n"
     ]
    }
   ],
   "source": [
    "# final model\n",
    "tree_final_model=DecisionTreeClassifier(max_depth=58,random_state=42)\n",
    "tree_final_model.fit(X_train,Y_train)\n",
    "tree_training_acc = tree_final_model.score(X_train,Y_train)\n",
    "tree_testing_acc = tree_final_model.score(X_test,Y_test)\n",
    "print(f\"Training accuracy of DesicionTreeClassifier is {tree_training_acc}\")\n",
    "print(f\"testing accuracy of DesicionTreeClassifier is {tree_testing_acc}\")"
   ]
  },
  {
   "cell_type": "code",
   "execution_count": 70,
   "id": "895bc58d",
   "metadata": {},
   "outputs": [
    {
     "data": {
      "image/png": "[encoded data removed]",
      "text/plain": [
       "<Figure size 640x480 with 2 Axes>"
      ]
     },
     "metadata": {},
     "output_type": "display_data"
    }
   ],
   "source": [
    "conf_matrix(tree_final_model)\n"
   ]
  },
  {
   "cell_type": "code",
   "execution_count": 71,
   "id": "945bdc14",
   "metadata": {},
   "outputs": [
    {
     "name": "stdout",
     "output_type": "stream",
     "text": [
      "              precision    recall  f1-score   support\n",
      "\n",
      "       false       0.66      0.65      0.66       116\n",
      "     mixture       0.45      0.49      0.47        72\n",
      "       other       0.36      0.39      0.37        23\n",
      "        true       0.37      0.33      0.35        42\n",
      "\n",
      "    accuracy                           0.53       253\n",
      "   macro avg       0.46      0.46      0.46       253\n",
      "weighted avg       0.53      0.53      0.53       253\n",
      "\n"
     ]
    }
   ],
   "source": [
    "class_report(tree_final_model)\n"
   ]
  },
  {
   "cell_type": "markdown",
   "id": "83dececa",
   "metadata": {},
   "source": [
    "# RandomForestClassifier"
   ]
  },
  {
   "cell_type": "code",
   "execution_count": 72,
   "id": "f74fc3f3",
   "metadata": {},
   "outputs": [
    {
     "data": {
      "text/plain": [
       "{'n_estimators': range(50, 125, 25), 'max_depth': range(60, 81, 2)}"
      ]
     },
     "execution_count": 72,
     "metadata": {},
     "output_type": "execute_result"
    }
   ],
   "source": [
    "clf= RandomForestClassifier(random_state=42)\n",
    "params={\n",
    "    \"n_estimators\": range(50,125,25),\n",
    "    \"max_depth\": range(60,81,2)\n",
    "}\n",
    "params"
   ]
  },
  {
   "cell_type": "code",
   "execution_count": 73,
   "id": "10e018c0",
   "metadata": {},
   "outputs": [],
   "source": [
    "rfc_model = GridSearchCV(\n",
    "    clf,\n",
    "    param_grid= params,\n",
    "    cv= 5,\n",
    "    n_jobs= -1,\n",
    "    verbose=1\n",
    ")"
   ]
  },
  {
   "cell_type": "code",
   "execution_count": 75,
   "id": "3e2f57ef",
   "metadata": {},
   "outputs": [
    {
     "name": "stdout",
     "output_type": "stream",
     "text": [
      "Fitting 5 folds for each of 33 candidates, totalling 165 fits\n"
     ]
    },
    {
     "data": {
      "text/html": [
       "<style>#sk-container-id-2 {color: black;background-color: white;}#sk-container-id-2 pre{padding: 0;}#sk-container-id-2 div.sk-toggleable {background-color: white;}#sk-container-id-2 label.sk-toggleable__label {cursor: pointer;display: block;width: 100%;margin-bottom: 0;padding: 0.3em;box-sizing: border-box;text-align: center;}#sk-container-id-2 label.sk-toggleable__label-arrow:before {content: \"▸\";float: left;margin-right: 0.25em;color: #696969;}#sk-container-id-2 label.sk-toggleable__label-arrow:hover:before {color: black;}#sk-container-id-2 div.sk-estimator:hover label.sk-toggleable__label-arrow:before {color: black;}#sk-container-id-2 div.sk-toggleable__content {max-height: 0;max-width: 0;overflow: hidden;text-align: left;background-color: #f0f8ff;}#sk-container-id-2 div.sk-toggleable__content pre {margin: 0.2em;color: black;border-radius: 0.25em;background-color: #f0f8ff;}#sk-container-id-2 input.sk-toggleable__control:checked~div.sk-toggleable__content {max-height: 200px;max-width: 100%;overflow: auto;}#sk-container-id-2 input.sk-toggleable__control:checked~label.sk-toggleable__label-arrow:before {content: \"▾\";}#sk-container-id-2 div.sk-estimator input.sk-toggleable__control:checked~label.sk-toggleable__label {background-color: #d4ebff;}#sk-container-id-2 div.sk-label input.sk-toggleable__control:checked~label.sk-toggleable__label {background-color: #d4ebff;}#sk-container-id-2 input.sk-hidden--visually {border: 0;clip: rect(1px 1px 1px 1px);clip: rect(1px, 1px, 1px, 1px);height: 1px;margin: -1px;overflow: hidden;padding: 0;position: absolute;width: 1px;}#sk-container-id-2 div.sk-estimator {font-family: monospace;background-color: #f0f8ff;border: 1px dotted black;border-radius: 0.25em;box-sizing: border-box;margin-bottom: 0.5em;}#sk-container-id-2 div.sk-estimator:hover {background-color: #d4ebff;}#sk-container-id-2 div.sk-parallel-item::after {content: \"\";width: 100%;border-bottom: 1px solid gray;flex-grow: 1;}#sk-container-id-2 div.sk-label:hover label.sk-toggleable__label {background-color: #d4ebff;}#sk-container-id-2 div.sk-serial::before {content: \"\";position: absolute;border-left: 1px solid gray;box-sizing: border-box;top: 0;bottom: 0;left: 50%;z-index: 0;}#sk-container-id-2 div.sk-serial {display: flex;flex-direction: column;align-items: center;background-color: white;padding-right: 0.2em;padding-left: 0.2em;position: relative;}#sk-container-id-2 div.sk-item {position: relative;z-index: 1;}#sk-container-id-2 div.sk-parallel {display: flex;align-items: stretch;justify-content: center;background-color: white;position: relative;}#sk-container-id-2 div.sk-item::before, #sk-container-id-2 div.sk-parallel-item::before {content: \"\";position: absolute;border-left: 1px solid gray;box-sizing: border-box;top: 0;bottom: 0;left: 50%;z-index: -1;}#sk-container-id-2 div.sk-parallel-item {display: flex;flex-direction: column;z-index: 1;position: relative;background-color: white;}#sk-container-id-2 div.sk-parallel-item:first-child::after {align-self: flex-end;width: 50%;}#sk-container-id-2 div.sk-parallel-item:last-child::after {align-self: flex-start;width: 50%;}#sk-container-id-2 div.sk-parallel-item:only-child::after {width: 0;}#sk-container-id-2 div.sk-dashed-wrapped {border: 1px dashed gray;margin: 0 0.4em 0.5em 0.4em;box-sizing: border-box;padding-bottom: 0.4em;background-color: white;}#sk-container-id-2 div.sk-label label {font-family: monospace;font-weight: bold;display: inline-block;line-height: 1.2em;}#sk-container-id-2 div.sk-label-container {text-align: center;}#sk-container-id-2 div.sk-container {/* jupyter's `normalize.less` sets `[hidden] { display: none; }` but bootstrap.min.css set `[hidden] { display: none !important; }` so we also need the `!important` here to be able to override the default hidden behavior on the sphinx rendered scikit-learn.org. See: https://github.com/scikit-learn/scikit-learn/issues/21755 */display: inline-block !important;position: relative;}#sk-container-id-2 div.sk-text-repr-fallback {display: none;}</style><div id=\"sk-container-id-2\" class=\"sk-top-container\"><div class=\"sk-text-repr-fallback\"><pre>GridSearchCV(cv=5, estimator=RandomForestClassifier(random_state=42), n_jobs=-1,\n",
       "             param_grid={&#x27;max_depth&#x27;: range(60, 81, 2),\n",
       "                         &#x27;n_estimators&#x27;: range(50, 125, 25)},\n",
       "             verbose=1)</pre><b>In a Jupyter environment, please rerun this cell to show the HTML representation or trust the notebook. <br />On GitHub, the HTML representation is unable to render, please try loading this page with nbviewer.org.</b></div><div class=\"sk-container\" hidden><div class=\"sk-item sk-dashed-wrapped\"><div class=\"sk-label-container\"><div class=\"sk-label sk-toggleable\"><input class=\"sk-toggleable__control sk-hidden--visually\" id=\"sk-estimator-id-2\" type=\"checkbox\" ><label for=\"sk-estimator-id-2\" class=\"sk-toggleable__label sk-toggleable__label-arrow\">GridSearchCV</label><div class=\"sk-toggleable__content\"><pre>GridSearchCV(cv=5, estimator=RandomForestClassifier(random_state=42), n_jobs=-1,\n",
       "             param_grid={&#x27;max_depth&#x27;: range(60, 81, 2),\n",
       "                         &#x27;n_estimators&#x27;: range(50, 125, 25)},\n",
       "             verbose=1)</pre></div></div></div><div class=\"sk-parallel\"><div class=\"sk-parallel-item\"><div class=\"sk-item\"><div class=\"sk-label-container\"><div class=\"sk-label sk-toggleable\"><input class=\"sk-toggleable__control sk-hidden--visually\" id=\"sk-estimator-id-3\" type=\"checkbox\" ><label for=\"sk-estimator-id-3\" class=\"sk-toggleable__label sk-toggleable__label-arrow\">estimator: RandomForestClassifier</label><div class=\"sk-toggleable__content\"><pre>RandomForestClassifier(random_state=42)</pre></div></div></div><div class=\"sk-serial\"><div class=\"sk-item\"><div class=\"sk-estimator sk-toggleable\"><input class=\"sk-toggleable__control sk-hidden--visually\" id=\"sk-estimator-id-4\" type=\"checkbox\" ><label for=\"sk-estimator-id-4\" class=\"sk-toggleable__label sk-toggleable__label-arrow\">RandomForestClassifier</label><div class=\"sk-toggleable__content\"><pre>RandomForestClassifier(random_state=42)</pre></div></div></div></div></div></div></div></div></div></div>"
      ],
      "text/plain": [
       "GridSearchCV(cv=5, estimator=RandomForestClassifier(random_state=42), n_jobs=-1,\n",
       "             param_grid={'max_depth': range(60, 81, 2),\n",
       "                         'n_estimators': range(50, 125, 25)},\n",
       "             verbose=1)"
      ]
     },
     "execution_count": 75,
     "metadata": {},
     "output_type": "execute_result"
    }
   ],
   "source": [
    "rfc_model.fit(X_train,Y_train)"
   ]
  },
  {
   "cell_type": "code",
   "execution_count": 76,
   "id": "e0a4a253",
   "metadata": {},
   "outputs": [
    {
     "data": {
      "text/plain": [
       "array(['false', 'false', 'mixture', 'false', 'false', 'false', 'false',\n",
       "       'mixture', 'false', 'false', 'false', 'false', 'false', 'false',\n",
       "       'mixture', 'mixture', 'false', 'false', 'false', 'false', 'false',\n",
       "       'mixture', 'false', 'false', 'false', 'false', 'false', 'mixture',\n",
       "       'mixture', 'true', 'false', 'false', 'mixture', 'false', 'false',\n",
       "       'false', 'mixture', 'false', 'mixture', 'mixture', 'false',\n",
       "       'false', 'false', 'false', 'false', 'false', 'true', 'false',\n",
       "       'false', 'false', 'false', 'true', 'false', 'mixture', 'false',\n",
       "       'mixture', 'false', 'false', 'false', 'false', 'false', 'false',\n",
       "       'false', 'false', 'false', 'mixture', 'false', 'false', 'false',\n",
       "       'true', 'false', 'false', 'false', 'mixture', 'mixture', 'mixture',\n",
       "       'false', 'false', 'false', 'false', 'false', 'mixture', 'false',\n",
       "       'false', 'false', 'false', 'mixture', 'false', 'false', 'mixture',\n",
       "       'false', 'false', 'false', 'false', 'false', 'false', 'other',\n",
       "       'other', 'false', 'mixture', 'false', 'false', 'false', 'false',\n",
       "       'false', 'false', 'false', 'false', 'false', 'false', 'false',\n",
       "       'false', 'false', 'false', 'true', 'false', 'false', 'false',\n",
       "       'false', 'mixture', 'mixture', 'mixture', 'false', 'false',\n",
       "       'mixture', 'false', 'false', 'false', 'false', 'false', 'false',\n",
       "       'mixture', 'false', 'mixture', 'false', 'mixture', 'false',\n",
       "       'mixture', 'false', 'false', 'false', 'mixture', 'mixture',\n",
       "       'other', 'mixture', 'false', 'other', 'false', 'false', 'false',\n",
       "       'false', 'false', 'false', 'true', 'false', 'mixture', 'false',\n",
       "       'mixture', 'false', 'false', 'false', 'false', 'false', 'false',\n",
       "       'mixture', 'false', 'false', 'mixture', 'false', 'false', 'false',\n",
       "       'false', 'false', 'false', 'false', 'false', 'false', 'false',\n",
       "       'false', 'false', 'true', 'false', 'false', 'mixture', 'false',\n",
       "       'false', 'true', 'false', 'false', 'false', 'false', 'false',\n",
       "       'false', 'true', 'false', 'false', 'mixture', 'false', 'mixture',\n",
       "       'mixture', 'other', 'false', 'false', 'false', 'mixture', 'false',\n",
       "       'false', 'false', 'false', 'false', 'false', 'false', 'false',\n",
       "       'false', 'mixture', 'other', 'false', 'false', 'false', 'false',\n",
       "       'false', 'false', 'other', 'mixture', 'false', 'mixture', 'false',\n",
       "       'mixture', 'mixture', 'false', 'false', 'false', 'false',\n",
       "       'mixture', 'false', 'false', 'true', 'false', 'mixture', 'mixture',\n",
       "       'mixture', 'false', 'false', 'true', 'false', 'false', 'true',\n",
       "       'mixture', 'false', 'false', 'mixture', 'mixture', 'other'],\n",
       "      dtype=object)"
      ]
     },
     "execution_count": 76,
     "metadata": {},
     "output_type": "execute_result"
    }
   ],
   "source": [
    "rfc_model.predict(X_test)"
   ]
  },
  {
   "cell_type": "code",
   "execution_count": 77,
   "id": "78756a0f",
   "metadata": {},
   "outputs": [
    {
     "name": "stdout",
     "output_type": "stream",
     "text": [
      "Training accuracy: 0.9941\n",
      "test accuracy: 0.5652\n"
     ]
    }
   ],
   "source": [
    "acc_train = rfc_model.score(X_train , Y_train)\n",
    "acc_test = rfc_model.score(X_test , Y_test)\n",
    "\n",
    "print(f\"Training accuracy: {round(acc_train , 4)}\")\n",
    "print(f\"test accuracy: {round(acc_test , 4)}\")"
   ]
  },
  {
   "cell_type": "code",
   "execution_count": 78,
   "id": "0aa2b8ae",
   "metadata": {},
   "outputs": [
    {
     "data": {
      "image/png": "[encoded data removed]",
      "text/plain": [
       "<Figure size 640x480 with 2 Axes>"
      ]
     },
     "metadata": {},
     "output_type": "display_data"
    }
   ],
   "source": [
    "conf_matrix(rfc_model)\n"
   ]
  },
  {
   "cell_type": "code",
   "execution_count": 79,
   "id": "13dec857",
   "metadata": {},
   "outputs": [
    {
     "name": "stdout",
     "output_type": "stream",
     "text": [
      "              precision    recall  f1-score   support\n",
      "\n",
      "       false       0.57      0.89      0.70       116\n",
      "     mixture       0.45      0.33      0.38        72\n",
      "       other       1.00      0.35      0.52        23\n",
      "        true       0.67      0.19      0.30        42\n",
      "\n",
      "    accuracy                           0.57       253\n",
      "   macro avg       0.67      0.44      0.47       253\n",
      "weighted avg       0.59      0.57      0.52       253\n",
      "\n"
     ]
    }
   ],
   "source": [
    "class_report(rfc_model)\n"
   ]
  },
  {
   "cell_type": "code",
   "execution_count": 80,
   "id": "165914b7",
   "metadata": {},
   "outputs": [
    {
     "data": {
      "text/html": [
       "<div>\n",
       "<style scoped>\n",
       "    .dataframe tbody tr th:only-of-type {\n",
       "        vertical-align: middle;\n",
       "    }\n",
       "\n",
       "    .dataframe tbody tr th {\n",
       "        vertical-align: top;\n",
       "    }\n",
       "\n",
       "    .dataframe thead th {\n",
       "        text-align: right;\n",
       "    }\n",
       "</style>\n",
       "<table border=\"1\" class=\"dataframe\">\n",
       "  <thead>\n",
       "    <tr style=\"text-align: right;\">\n",
       "      <th></th>\n",
       "      <th>Models</th>\n",
       "      <th>Score</th>\n",
       "    </tr>\n",
       "  </thead>\n",
       "  <tbody>\n",
       "    <tr>\n",
       "      <th>1</th>\n",
       "      <td>SVM</td>\n",
       "      <td>0.581028</td>\n",
       "    </tr>\n",
       "    <tr>\n",
       "      <th>3</th>\n",
       "      <td>RandomForestClassifier</td>\n",
       "      <td>0.565217</td>\n",
       "    </tr>\n",
       "    <tr>\n",
       "      <th>0</th>\n",
       "      <td>Logistic Regression</td>\n",
       "      <td>0.545455</td>\n",
       "    </tr>\n",
       "    <tr>\n",
       "      <th>2</th>\n",
       "      <td>DecisionTreeClassifier</td>\n",
       "      <td>0.525692</td>\n",
       "    </tr>\n",
       "  </tbody>\n",
       "</table>\n",
       "</div>"
      ],
      "text/plain": [
       "                   Models     Score\n",
       "1                     SVM  0.581028\n",
       "3  RandomForestClassifier  0.565217\n",
       "0     Logistic Regression  0.545455\n",
       "2  DecisionTreeClassifier  0.525692"
      ]
     },
     "execution_count": 80,
     "metadata": {},
     "output_type": "execute_result"
    }
   ],
   "source": [
    "models = pd.DataFrame({\n",
    "    \n",
    "    \"Models\": [\"Logistic Regression\" , \"SVM\", \"DecisionTreeClassifier\",\"RandomForestClassifier\"],\n",
    "    \"Score\":[model_lr.score(X_test,Y_test) ,svc_model.score(X_test,Y_test) ,tree_testing_acc,acc_test ]\n",
    "    \n",
    "})\n",
    "models.sort_values(by=\"Score\" , ascending=False)"
   ]
  },
  {
   "cell_type": "code",
   "execution_count": null,
   "id": "723bb0a4",
   "metadata": {},
   "outputs": [],
   "source": []
  }
 ],
 "metadata": {
  "kernelspec": {
   "display_name": "Python 3 (ipykernel)",
   "language": "python",
   "name": "python3"
  },
  "language_info": {
   "codemirror_mode": {
    "name": "ipython",
    "version": 3
   },
   "file_extension": ".py",
   "mimetype": "text/x-python",
   "name": "python",
   "nbconvert_exporter": "python",
   "pygments_lexer": "ipython3",
   "version": "3.9.13"
  }
 },
 "nbformat": 4,
 "nbformat_minor": 5
}
